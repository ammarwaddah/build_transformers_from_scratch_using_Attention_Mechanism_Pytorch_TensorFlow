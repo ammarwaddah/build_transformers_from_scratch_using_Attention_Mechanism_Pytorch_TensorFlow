{
  "cells": [
    {
      "cell_type": "markdown",
      "source": [
        "* [1. The Attention Mechanism](#section-1)\n",
        "* [2. The General Attention Mechanism](#section-2)\n",
        "* [3. The General Attention Mechanism with NumPy and SciPy](#section-3)"
      ],
      "metadata": {
        "id": "KVn7adUmX4J-"
      },
      "id": "KVn7adUmX4J-"
    },
    {
      "cell_type": "markdown",
      "id": "1f116c2d",
      "metadata": {
        "id": "1f116c2d"
      },
      "source": [
        "* [Implementing Transformers From Scratch Using Pytorch](#section-4)\n",
        "* [Implementing Transformers From Scratch Using TensorFlow](#section-5)"
      ]
    },
    {
      "cell_type": "markdown",
      "source": [
        "<a class=\"anchor\" id=\"section-1\"></a>\n",
        "<h2 style=\"color:green;font-size: 2em;\">1. The Attention Mechanism</h2>"
      ],
      "metadata": {
        "id": "5HhHdmlXY5UI"
      },
      "id": "5HhHdmlXY5UI"
    },
    {
      "cell_type": "markdown",
      "source": [
        "The attention mechanism was introduced by [Bahdanau et al. (2014)](https://arxiv.org/abs/1409.0473) to address the bottleneck problem that arises with the use of a fixed-length encoding vector, where the decoder would have limited access to the information provided by the input. This is thought to become especially problematic for long and/or complex sequences, where the dimensionality of their representation would be forced to be the same as for shorter or simpler sequences."
      ],
      "metadata": {
        "id": "LEflKrgwZAHX"
      },
      "id": "LEflKrgwZAHX"
    },
    {
      "cell_type": "markdown",
      "source": [
        "Bahdanau et al.’s attention mechanism is divided into the step-by-step computations of the alignment scores, the weights, and the context vector:"
      ],
      "metadata": {
        "id": "0rJIPfTJZsIL"
      },
      "id": "0rJIPfTJZsIL"
    },
    {
      "cell_type": "markdown",
      "source": [
        "1. **Alignment scores:**\\\n",
        "The alignment model takes the encoded hidden states, $\\mathbf{h}_i$, and the previous decoder output, $\\mathbf{s}_{t-1}$, to compute a score, $e_{t,i}$, that indicates how well the elements of the input sequence align with the current output at the position, $t$. The alignment model is represented by a function, $a(.)$, which can be implemented by a feedforward neural network:\n",
        "$$e_{t,i} = a(\\mathbf{s}_{t-1}, \\mathbf{h}_i)$$\n",
        "\n",
        "2. **Weights:**\\\n",
        "The weights, $\\alpha_{t,i}$, are computed by applying a softmax operation to the previously computed alignment scores:\n",
        "$$\\alpha_{t,i} = \\text{softmax}(e_{t,i})$$\n",
        "\n",
        "3. **Context vector:**\\\n",
        " A unique context vector, $\\mathbf{c}_t$, is fed into the decoder at each time step. It is computed by a weighted sum of all, $T$, encoder hidden states:\n",
        "$$\\mathbf{c}_t = \\sum_{i=1}^T \\alpha_{t,i} \\mathbf{h}_i$$\n",
        "\n",
        "**Bahdanau et al. implemented an RNN for both the encoder and decoder.**\n",
        "\n",
        "However, the attention mechanism can be re-formulated into a general form that can be applied to any sequence-to-sequence (abbreviated to seq2seq) task, where the information may not necessarily be related in a sequential fashion."
      ],
      "metadata": {
        "id": "F4HMD-YjZ4XG"
      },
      "id": "F4HMD-YjZ4XG"
    },
    {
      "cell_type": "markdown",
      "source": [
        "In other words, the database doesn’t have to consist of the hidden RNN states at different steps, but could contain any kind of information instead."
      ],
      "metadata": {
        "id": "auG_3HUVdfH7"
      },
      "id": "auG_3HUVdfH7"
    },
    {
      "cell_type": "markdown",
      "source": [
        "<a class=\"anchor\" id=\"section-2\"></a>\n",
        "<h2 style=\"color:green;font-size: 2em;\">2. The General Attention Mechanism</h2>"
      ],
      "metadata": {
        "id": "5hDxaEfBdPEf"
      },
      "id": "5hDxaEfBdPEf"
    },
    {
      "cell_type": "markdown",
      "source": [
        "The general attention mechanism makes use of three main components, namely the queries, $\\mathbf{Q}$, the keys, $\\mathbf{K}$, and the values, $\\mathbf{V}$. \n",
        "\n",
        "If you had to compare these three components to the attention mechanism as proposed by Bahdanau et al., then the query would be analogous to the previous decoder output, $\\mathbf{s}_{t-1}$, while the values would be analogous to the encoded inputs, $\\mathbf{h}_i$. In the Bahdanau attention mechanism, the keys and values are the same vector."
      ],
      "metadata": {
        "id": "ke5Y2Bk8dY4Z"
      },
      "id": "ke5Y2Bk8dY4Z"
    },
    {
      "cell_type": "markdown",
      "source": [
        "In this case, we can think of the vector $\\mathbf{s}_{t-1}$ as a query executed against a database of key-value pairs, where the keys are vectors and the hidden states $\\mathbf{h}_i$ are the values."
      ],
      "metadata": {
        "id": "cxxF2DKcdm9X"
      },
      "id": "cxxF2DKcdm9X"
    },
    {
      "cell_type": "markdown",
      "source": [
        "The general attention mechanism then performs the following computations:\n",
        "\n",
        "Each query vector, $\\mathbf{q} = \\mathbf{s}_{t-1}$, is matched against a database of keys to compute a score value. This matching operation is computed as the dot product of the specific query under consideration with each key vector, $\\mathbf{k}_i$: \n",
        "$$e_{\\mathbf{q},\\mathbf{k}_i} = \\mathbf{q} \\cdot \\mathbf{k}_i$$\n",
        "\n",
        "The scores are passed through a softmax operation to generate the weights:\n",
        "$$\\alpha_{\\mathbf{q},\\mathbf{k}_i} = \\text{softmax}(e_{\\mathbf{q},\\mathbf{k}_i})$$\n",
        "\n",
        "The generalized attention is then computed by a weighted sum of the value vectors, $\\mathbf{v}_{\\mathbf{k}_i}$, where each value vector is paired with a corresponding key:\n",
        "$$\\text{attention}(\\mathbf{q}, \\mathbf{K}, \\mathbf{V}) = \\sum_i \\alpha_{\\mathbf{q},\\mathbf{k}_i} \\mathbf{v}_{\\mathbf{k}_i}$$\n",
        "\n",
        "Within the context of machine translation, each word in an input sentence would be attributed its own query, key, and value vectors. These vectors are generated by multiplying the encoder’s representation of the specific word under consideration with three different weight matrices that would have been generated during training. \n",
        "\n",
        "In essence, when the generalized attention mechanism is presented with a sequence of words, it takes the query vector attributed to some specific word in the sequence and scores it against each key in the database. In doing so, it captures how the word under consideration relates to the others in the sequence. Then it scales the values according to the attention weights (computed from the scores) to retain focus on those words relevant to the query. In doing so, it produces an attention output for the word under consideration. "
      ],
      "metadata": {
        "id": "NVN4WIUddr4S"
      },
      "id": "NVN4WIUddr4S"
    },
    {
      "cell_type": "markdown",
      "source": [
        "<a class=\"anchor\" id=\"section-3\"></a>\n",
        "<h2 style=\"color:green;font-size: 2em;\">3. The General Attention Mechanism with NumPy and SciPy</h2>"
      ],
      "metadata": {
        "id": "7c-DzEdVdw6d"
      },
      "id": "7c-DzEdVdw6d"
    },
    {
      "cell_type": "code",
      "source": [
        "from numpy import array\n",
        "from numpy import random\n",
        "from numpy import dot\n",
        "from scipy.special import softmax"
      ],
      "metadata": {
        "id": "uvXRjvHBw4HU"
      },
      "id": "uvXRjvHBw4HU",
      "execution_count": null,
      "outputs": []
    },
    {
      "cell_type": "markdown",
      "source": [
        "First defining the word embeddings of the four different words to calculate the attention. In actual practice, these word embeddings would have been generated by an encoder; however, for this particular example, you will define them manually. "
      ],
      "metadata": {
        "id": "Ee4fiE5HeJoA"
      },
      "id": "Ee4fiE5HeJoA"
    },
    {
      "cell_type": "code",
      "source": [
        "# encoder representations of four different words\n",
        "word_1 = array([1, 0, 0])\n",
        "word_2 = array([0, 1, 0])\n",
        "word_3 = array([1, 1, 0])\n",
        "word_4 = array([0, 0, 1])"
      ],
      "metadata": {
        "id": "yBzfh0C3eSsN"
      },
      "id": "yBzfh0C3eSsN",
      "execution_count": null,
      "outputs": []
    },
    {
      "cell_type": "markdown",
      "source": [
        "Generates the weight matrices, which you will eventually multiply to the word embeddings to generate the queries, keys, and values. Here, you shall generate these weight matrices randomly; however, in actual practice, these would have been learned during training. "
      ],
      "metadata": {
        "id": "_gxH5vv2eTih"
      },
      "id": "_gxH5vv2eTih"
    },
    {
      "cell_type": "code",
      "source": [
        "# generating the weight matrices\n",
        "random.seed(42) # to allow us to reproduce the same attention values\n",
        "W_Q = random.randint(3, size=(3, 3))\n",
        "W_K = random.randint(3, size=(3, 3))\n",
        "W_V = random.randint(3, size=(3, 3))"
      ],
      "metadata": {
        "id": "f6IflwXZeY4o"
      },
      "id": "f6IflwXZeY4o",
      "execution_count": null,
      "outputs": []
    },
    {
      "cell_type": "markdown",
      "source": [
        "The number of rows of each of these matrices is equal to the dimensionality of the word embeddings (which in this case is three) to allow us to perform the matrix multiplication.\n",
        "\n",
        "Subsequently, the query, key, and value vectors for each word are generated by multiplying each word embedding by each of the weight matrices. "
      ],
      "metadata": {
        "id": "ep6NAs2Ze0d9"
      },
      "id": "ep6NAs2Ze0d9"
    },
    {
      "cell_type": "code",
      "source": [
        "# generating the queries, keys and values\n",
        "query_1 = word_1 @ W_Q\n",
        "key_1 = word_1 @ W_K\n",
        "value_1 = word_1 @ W_V\n",
        " \n",
        "query_2 = word_2 @ W_Q\n",
        "key_2 = word_2 @ W_K\n",
        "value_2 = word_2 @ W_V\n",
        " \n",
        "query_3 = word_3 @ W_Q\n",
        "key_3 = word_3 @ W_K\n",
        "value_3 = word_3 @ W_V\n",
        " \n",
        "query_4 = word_4 @ W_Q\n",
        "key_4 = word_4 @ W_K\n",
        "value_4 = word_4 @ W_V"
      ],
      "metadata": {
        "id": "bFcTB51EebQn"
      },
      "id": "bFcTB51EebQn",
      "execution_count": null,
      "outputs": []
    },
    {
      "cell_type": "markdown",
      "source": [
        "Considering only the first word for the time being, the next step scores its query vector against all the key vectors using a dot product operation. "
      ],
      "metadata": {
        "id": "LA17ZNKefARR"
      },
      "id": "LA17ZNKefARR"
    },
    {
      "cell_type": "code",
      "source": [
        "# scoring the first query vector against all key vectors\n",
        "scores = array([dot(query_1, key_1), dot(query_1, key_2), dot(query_1, key_3), dot(query_1, key_4)])"
      ],
      "metadata": {
        "id": "ZENKgx2SfECa"
      },
      "id": "ZENKgx2SfECa",
      "execution_count": null,
      "outputs": []
    },
    {
      "cell_type": "markdown",
      "source": [
        "The score values are subsequently passed through a softmax operation to generate the weights. Before doing so, it is common practice to divide the score values by the square root of the dimensionality of the key vectors (in this case, three) to keep the gradients stable."
      ],
      "metadata": {
        "id": "TcwT7X7afMWQ"
      },
      "id": "TcwT7X7afMWQ"
    },
    {
      "cell_type": "code",
      "source": [
        "# computing the weights by a softmax operation\n",
        "weights = softmax(scores / key_1.shape[0] ** 0.5)"
      ],
      "metadata": {
        "id": "Zzw2e1eWfHl-"
      },
      "id": "Zzw2e1eWfHl-",
      "execution_count": null,
      "outputs": []
    },
    {
      "cell_type": "markdown",
      "source": [
        "Finally, the attention output is calculated by a weighted sum of all four value vectors. "
      ],
      "metadata": {
        "id": "wCwPpN74fSUs"
      },
      "id": "wCwPpN74fSUs"
    },
    {
      "cell_type": "code",
      "source": [
        "# computing the attention by a weighted sum of the value vectors\n",
        "attention = (weights[0] * value_1) + (weights[1] * value_2) + (weights[2] * value_3) + (weights[3] * value_4)\n",
        " \n",
        "print(attention)"
      ],
      "metadata": {
        "id": "b1Y6h1EMfQPB",
        "colab": {
          "base_uri": "https://localhost:8080/"
        },
        "outputId": "904ba712-43a3-46fd-b1df-e9f04f2cc80a"
      },
      "id": "b1Y6h1EMfQPB",
      "execution_count": null,
      "outputs": [
        {
          "output_type": "stream",
          "name": "stdout",
          "text": [
            "[0.98522025 1.74174051 0.75652026]\n"
          ]
        }
      ]
    },
    {
      "cell_type": "markdown",
      "source": [
        "For faster processing, the same calculations can be implemented in matrix form to generate an attention output for all four words in one go:"
      ],
      "metadata": {
        "id": "ce97iS3GfYQi"
      },
      "id": "ce97iS3GfYQi"
    },
    {
      "cell_type": "code",
      "source": [
        "# encoder representations of four different words\n",
        "word_1 = array([1, 0, 0])\n",
        "word_2 = array([0, 1, 0])\n",
        "word_3 = array([1, 1, 0])\n",
        "word_4 = array([0, 0, 1])\n",
        " \n",
        "# stacking the word embeddings into a single array\n",
        "words = array([word_1, word_2, word_3, word_4])\n",
        " \n",
        "# generating the weight matrices\n",
        "random.seed(42)\n",
        "W_Q = random.randint(3, size=(3, 3))\n",
        "W_K = random.randint(3, size=(3, 3))\n",
        "W_V = random.randint(3, size=(3, 3))\n",
        " \n",
        "# generating the queries, keys and values\n",
        "Q = words @ W_Q\n",
        "K = words @ W_K\n",
        "V = words @ W_V\n",
        " \n",
        "# scoring the query vectors against all key vectors\n",
        "scores = Q @ K.transpose()\n",
        " \n",
        "# computing the weights by a softmax operation\n",
        "weights = softmax(scores / K.shape[1] ** 0.5, axis=1)\n",
        " \n",
        "# computing the attention by a weighted sum of the value vectors\n",
        "attention = weights @ V\n",
        " \n",
        "print(attention)"
      ],
      "metadata": {
        "id": "nbMAGRb9fVEY",
        "colab": {
          "base_uri": "https://localhost:8080/"
        },
        "outputId": "4fb757dc-06b9-4eb9-a4db-cf100703408a"
      },
      "id": "nbMAGRb9fVEY",
      "execution_count": null,
      "outputs": [
        {
          "output_type": "stream",
          "name": "stdout",
          "text": [
            "[[0.98522025 1.74174051 0.75652026]\n",
            " [0.90965265 1.40965265 0.5       ]\n",
            " [0.99851226 1.75849334 0.75998108]\n",
            " [0.99560386 1.90407309 0.90846923]]\n"
          ]
        }
      ]
    },
    {
      "cell_type": "markdown",
      "id": "955f3b66",
      "metadata": {
        "id": "955f3b66"
      },
      "source": [
        "<a class=\"anchor\" id=\"section-4\"></a>\n",
        "<h1 align=\"center\" style=\"color:green;font-size: 3em;\" >Implementing Transformers From Scratch Using Pytorch</h1>"
      ]
    },
    {
      "cell_type": "markdown",
      "id": "5c7288f5",
      "metadata": {
        "id": "5c7288f5"
      },
      "source": [
        "* [1. Introduction](#section1)\n",
        "* [2. Import libraries](#section2)\n",
        "* [3. Basic components](#section3)\n",
        "  - [Create Word Embeddings](#section4)\n",
        "  - [Positional Encoding](#section5)\n",
        "  - [Self Attention](#section6)\n",
        "* [4. Encoder](#section7)\n",
        "* [5. Decoder](#section8)\n",
        "* [6. Testing our code](#section9)"
      ]
    },
    {
      "cell_type": "markdown",
      "id": "dd04d35d",
      "metadata": {
        "id": "dd04d35d"
      },
      "source": [
        "**To build our Transformer model, we’ll follow these steps:**\n",
        "\n",
        "1. Import necessary libraries and modules\n",
        "2. Define the basic building blocks: Multi-Head Attention, Position-wise Feed-Forward Networks, Positional Encoding\n",
        "3. Build the Encoder and Decoder layers\n",
        "4. Combine Encoder and Decoder layers to create the complete Transformer model\n",
        "4. Prepare sample data\n",
        "5. Train the model"
      ]
    },
    {
      "cell_type": "markdown",
      "id": "81e68ea3",
      "metadata": {
        "id": "81e68ea3"
      },
      "source": [
        "<a class=\"anchor\" id=\"section1\"></a>\n",
        "<h2 style=\"color:green;font-size: 2em;\">1. Introduction</h2>\n",
        "\n",
        "In this tutorial, I will explain, with support, the implement of transformers in \"Attention is all you need paper\" from scratch using Pytorch.\n",
        "Basically transformer have an encoder-decoder architecture. It is common for language translation models.\n",
        "\n",
        "```\n",
        "Note: From Here I start to build my imagination and assumptions of transformers and not going for an indepth explaination of transformers.\n",
        "I want to share it for the purpose of benefit others in this field.\n",
        "```\n",
        "I have dealt with this code and representation, by writing and following instructions, because it was a deep training of how these techniques work, and I shared it with fine illustration for those who want to check it, and take my insight and journey.\n"
      ]
    },
    {
      "cell_type": "code",
      "execution_count": null,
      "id": "981ece88",
      "metadata": {
        "id": "981ece88"
      },
      "outputs": [],
      "source": [
        "# importing required libraries for images display\n",
        "from IPython.display import Image\n",
        "from IPython.core.display import HTML"
      ]
    },
    {
      "cell_type": "code",
      "execution_count": null,
      "id": "1BWYazH320cB",
      "metadata": {
        "id": "1BWYazH320cB",
        "colab": {
          "base_uri": "https://localhost:8080/"
        },
        "outputId": "0600f7d7-6ba0-4d80-d49b-7d84b4b10b61"
      },
      "outputs": [
        {
          "output_type": "stream",
          "name": "stdout",
          "text": [
            "Archive:  notebook_images.zip\n",
            "   creating: notebook_images/\n",
            "  inflating: notebook_images/decoder_layer.png  \n",
            "  inflating: notebook_images/embedding_vector.png  \n",
            "  inflating: notebook_images/encoder_layer.png  \n",
            " extracting: notebook_images/positional_encoding_cos.png  \n",
            " extracting: notebook_images/positional_encoding_sin.png  \n",
            "  inflating: notebook_images/the_transformer_encoders_decoders.png  \n",
            "  inflating: notebook_images/the_transformer_encoder_decoder_stack.png  \n",
            " extracting: notebook_images/transformer_form.png  \n",
            "  inflating: notebook_images/transformer_model.png  \n"
          ]
        }
      ],
      "source": [
        "# unzip notenbook images zip file\n",
        "!unzip notebook_images.zip"
      ]
    },
    {
      "cell_type": "code",
      "execution_count": null,
      "id": "216a883c",
      "metadata": {
        "id": "216a883c",
        "colab": {
          "base_uri": "https://localhost:8080/",
          "height": 491
        },
        "outputId": "f56ab340-9675-42af-b3bb-496d16792a36"
      },
      "outputs": [
        {
          "output_type": "execute_result",
          "data": {
            "image/png": "[encoded data removed]",
            "text/plain": [
              "<IPython.core.display.Image object>"
            ]
          },
          "metadata": {},
          "execution_count": 12
        }
      ],
      "source": [
        "PATH = r\"/content/notebook_images\"\n",
        "Image(filename = PATH + '/' + \"the_transformer_encoders_decoders.png\")"
      ]
    },
    {
      "cell_type": "markdown",
      "id": "9c7eeabe",
      "metadata": {
        "id": "9c7eeabe"
      },
      "source": [
        "The above image shows a language translation model from French to English. Actually we can use stack of encoder (one in top of each) and stack of decoders as the image below:"
      ]
    },
    {
      "cell_type": "code",
      "execution_count": null,
      "id": "1c37c5eb",
      "metadata": {
        "id": "1c37c5eb",
        "colab": {
          "base_uri": "https://localhost:8080/",
          "height": 810
        },
        "outputId": "1ecd7101-c737-4558-9c00-a48f17f6edbe"
      },
      "outputs": [
        {
          "output_type": "execute_result",
          "data": {
            "image/png": "[encoded data removed]",
            "text/plain": [
              "<IPython.core.display.Image object>"
            ]
          },
          "metadata": {},
          "execution_count": 13
        }
      ],
      "source": [
        "Image(filename = PATH + '/' + \"the_transformer_encoder_decoder_stack.png\")"
      ]
    },
    {
      "cell_type": "markdown",
      "id": "5a3561f8",
      "metadata": {
        "id": "5a3561f8"
      },
      "source": [
        "Full fledged image of our attention model."
      ]
    },
    {
      "cell_type": "code",
      "execution_count": null,
      "id": "3cb9a4af",
      "metadata": {
        "id": "3cb9a4af",
        "colab": {
          "base_uri": "https://localhost:8080/",
          "height": 756
        },
        "outputId": "09d8c64d-93fe-4666-de68-8b423f366cfb"
      },
      "outputs": [
        {
          "output_type": "execute_result",
          "data": {
            "image/png": "[encoded data removed]",
            "text/plain": [
              "<IPython.core.display.Image object>"
            ]
          },
          "metadata": {},
          "execution_count": 14
        }
      ],
      "source": [
        "Image(filename = PATH + '/' + \"transformer_model.png\")"
      ]
    },
    {
      "cell_type": "markdown",
      "id": "d8a3a7a2",
      "metadata": {
        "id": "d8a3a7a2"
      },
      "source": [
        "<a class=\"anchor\" id=\"section2\"></a>\n",
        "<h2 style=\"color:green;font-size: 2em;\">2. Importing necessary Libraries</h2>"
      ]
    },
    {
      "cell_type": "code",
      "execution_count": null,
      "id": "d38c5672",
      "metadata": {
        "id": "d38c5672",
        "colab": {
          "base_uri": "https://localhost:8080/"
        },
        "outputId": "5021ce51-fc38-4897-f3f1-1706b31595db"
      },
      "outputs": [
        {
          "output_type": "stream",
          "name": "stdout",
          "text": [
            "2.0.0+cu118\n"
          ]
        }
      ],
      "source": [
        "# importing required libraries for transformer\n",
        "import torch.nn as nn\n",
        "import torch\n",
        "import torch.nn.functional as F\n",
        "import math,copy,re\n",
        "import warnings\n",
        "import pandas as pd\n",
        "import numpy as np\n",
        "import seaborn as sns\n",
        "import torchtext\n",
        "import matplotlib.pyplot as plt\n",
        "warnings.simplefilter(\"ignore\")\n",
        "print(torch.__version__)"
      ]
    },
    {
      "cell_type": "code",
      "execution_count": null,
      "id": "0618783b",
      "metadata": {
        "id": "0618783b",
        "colab": {
          "base_uri": "https://localhost:8080/",
          "height": 557
        },
        "outputId": "c90446e4-3d83-4aed-b873-922f5484c99b"
      },
      "outputs": [
        {
          "output_type": "execute_result",
          "data": {
            "image/png": "[encoded data removed]",
            "text/plain": [
              "<IPython.core.display.Image object>"
            ]
          },
          "metadata": {},
          "execution_count": 16
        }
      ],
      "source": [
        "Image(filename = PATH + '/' + \"transformer_form.png\")"
      ]
    },
    {
      "cell_type": "markdown",
      "id": "a666d635",
      "metadata": {
        "id": "a666d635"
      },
      "source": [
        "<a class=\"anchor\" id=\"section3\"></a>\n",
        "<h2 style=\"color:green;font-size: 2em;\"> Basic components</h2>\n",
        "\n",
        "<a class=\"anchor\" id=\"section4\"></a>\n",
        "<h3 style=\"color:green;\"> Create Word Embeddings</h3>"
      ]
    },
    {
      "cell_type": "markdown",
      "id": "2eb4b6c9",
      "metadata": {
        "id": "2eb4b6c9"
      },
      "source": [
        "**Discuss functional units**\n",
        "* First of all we need to convert each word in the input sequence to an embedding vector. Embedding vectors will create a more semantic representation of each word."
      ]
    },
    {
      "cell_type": "code",
      "execution_count": null,
      "id": "905c2cc7",
      "metadata": {
        "id": "905c2cc7"
      },
      "outputs": [],
      "source": [
        "class Embedding(nn.Module):\n",
        "    def __init__(self, vocab_size, embed_dim):\n",
        "        \"\"\"\n",
        "        Args:\n",
        "            vocab_size: size of vocabulary\n",
        "            embed_dim: dimension of embeddings\n",
        "        \"\"\"\n",
        "        super(Embedding, self).__init__()\n",
        "        self.embed = nn.Embedding(vocab_size, embed_dim)\n",
        "    def forward(self, x):\n",
        "        \"\"\"\n",
        "        Args:\n",
        "            x: input vector\n",
        "        Returns:\n",
        "            out: embedding vector\n",
        "        \"\"\"\n",
        "        out = self.embed(x)\n",
        "        return out"
      ]
    },
    {
      "cell_type": "markdown",
      "id": "90ec6293",
      "metadata": {
        "id": "90ec6293"
      },
      "source": [
        "<a class=\"anchor\" id=\"section5\"></a>\n",
        "<h3 style=\"color:green\">Positional Encoding</h3>"
      ]
    },
    {
      "cell_type": "markdown",
      "id": "bbb6c961",
      "metadata": {
        "id": "bbb6c961"
      },
      "source": [
        "**Discuss functional units**\n",
        "* Next step is to generate positional encoding. Inorder for the model to make sense of the sentence, it needs to know two things about the each word."
      ]
    },
    {
      "cell_type": "markdown",
      "id": "73cbf7b5",
      "metadata": {
        "id": "73cbf7b5"
      },
      "source": [
        "In \"attention is all you need paper\" author used the following functions to create positional encoding. On odd time steps a `cosine` function is used and in even time steps a `sine` function is used."
      ]
    },
    {
      "cell_type": "code",
      "execution_count": null,
      "id": "f51c73cd",
      "metadata": {
        "id": "f51c73cd",
        "colab": {
          "base_uri": "https://localhost:8080/",
          "height": 49
        },
        "outputId": "7876d1e0-096d-43c2-8e62-eebbfe35e3a3"
      },
      "outputs": [
        {
          "output_type": "execute_result",
          "data": {
            "image/png": "[encoded data removed]",
            "text/plain": [
              "<IPython.core.display.Image object>"
            ]
          },
          "metadata": {},
          "execution_count": 18
        }
      ],
      "source": [
        "Image(filename = PATH + '/' + \"positional_encoding_sin.png\")"
      ]
    },
    {
      "cell_type": "code",
      "execution_count": null,
      "id": "0d7641c6",
      "metadata": {
        "id": "0d7641c6",
        "colab": {
          "base_uri": "https://localhost:8080/",
          "height": 46
        },
        "outputId": "ce66318b-c147-4e09-a40c-e0bba42363b9"
      },
      "outputs": [
        {
          "output_type": "execute_result",
          "data": {
            "image/png": "[encoded data removed]",
            "text/plain": [
              "<IPython.core.display.Image object>"
            ]
          },
          "metadata": {},
          "execution_count": 19
        }
      ],
      "source": [
        "Image(filename = PATH + '/' + \"positional_encoding_cos.png\")"
      ]
    },
    {
      "cell_type": "markdown",
      "id": "d4ebd3f4",
      "metadata": {
        "id": "d4ebd3f4"
      },
      "source": [
        "```\n",
        "pos -> refers to order in the sentence\n",
        "i -> refers to position along embedding vector dimension\n",
        "```"
      ]
    },
    {
      "cell_type": "markdown",
      "id": "028f4624",
      "metadata": {
        "id": "028f4624"
      },
      "source": [
        "**Discuss the results**\n",
        "* Positional embedding will generate a matrix of similar to embedding matrix. It will create a matrix of dimension sequence length x embedding dimension."
      ]
    },
    {
      "cell_type": "code",
      "execution_count": null,
      "id": "34e536f3",
      "metadata": {
        "id": "34e536f3",
        "colab": {
          "base_uri": "https://localhost:8080/",
          "height": 500
        },
        "outputId": "13e7d5b7-ebeb-4221-e799-8fd8ddf27abb"
      },
      "outputs": [
        {
          "output_type": "execute_result",
          "data": {
            "image/png": "[encoded data removed]",
            "text/plain": [
              "<IPython.core.display.Image object>"
            ]
          },
          "metadata": {},
          "execution_count": 20
        }
      ],
      "source": [
        "Image(filename = PATH + '/' + \"embedding_vector.png\")"
      ]
    },
    {
      "cell_type": "code",
      "execution_count": null,
      "id": "3944472f",
      "metadata": {
        "id": "3944472f"
      },
      "outputs": [],
      "source": [
        "class PositionalEmbedding(nn.Module):\n",
        "    def __init__(self, max_seq_len, embed_model_dim):\n",
        "        \"\"\"\n",
        "        Args:\n",
        "            seq_len: length of input sequence\n",
        "            embed_model_dim: demension of embedding\n",
        "        \"\"\"\n",
        "        super(PositionalEmbedding, self).__init__()\n",
        "        self.embed_dim = embed_model_dim\n",
        "\n",
        "        pe = torch.zeros(max_seq_len, self.embed_dim)\n",
        "        for pos in range(max_seq_len):\n",
        "            for i in range(0, self.embed_dim, 2):\n",
        "                pe[pos, i] = math.sin(pos / (10000 ** ((2 * i)/self.embed_dim)))\n",
        "                pe[pos, i + 1] = math.cos(pos / (10000 ** ((2 * (i + 1))/self.embed_dim)))\n",
        "        pe = pe.unsqueeze(0)\n",
        "        # register buffer in Pytorch ->\n",
        "        # If you have parameters in your model, which should be saved and restored in the state_dict,\n",
        "        # but not trained by the optimizer, you should register them as buffers.\n",
        "        self.register_buffer('pe', pe)\n",
        "\n",
        "\n",
        "    def forward(self, x):\n",
        "        \"\"\"\n",
        "        Args:\n",
        "            x: input vector\n",
        "        Returns:\n",
        "            x: output\n",
        "        \"\"\"\n",
        "      \n",
        "        # make embeddings relatively larger\n",
        "        x = x * math.sqrt(self.embed_dim)\n",
        "        #add constant to embedding\n",
        "        seq_len = x.size(1)\n",
        "        x = x + torch.autograd.Variable(self.pe[:,:seq_len], requires_grad=False)\n",
        "        return x"
      ]
    },
    {
      "cell_type": "markdown",
      "id": "c1e91fc7",
      "metadata": {
        "id": "c1e91fc7"
      },
      "source": [
        "**Discuss the results**\n",
        "* The `PositionalEncoding` class initializes with input parameters that creating a tensor to store positional encoding values. The class calculates sine and cosine values for even and odd indices, respectively, based on the scaling factor. The forward method computes the positional encoding by adding the stored positional encoding values to the input tensor, allowing the model to capture the position information of the input sequence."
      ]
    },
    {
      "cell_type": "markdown",
      "id": "4272c5b5",
      "metadata": {
        "id": "4272c5b5"
      },
      "source": [
        "<a class=\"anchor\" id=\"section6\"></a>\n",
        "<h2 style=\"color:green\"> Self Attention</h2>\n",
        "\n",
        "Let me give a glimpse on Self Attention and Multihead attention\n",
        "\n",
        "***What is self attention?***\n",
        "\n",
        "As model proceeses each word, self attention allows it to look at other positions in the input sequence for clues. It will creates a vector based on dependency of each word with the other.\n",
        "\n",
        "Let us go through a step by step illustration of self attention.\n",
        "\n",
        "* **Step 1:** The first step in calculating self-attention is to create three vectors from each of the encoder’s input vectors (in this case, the embedding of each word). So for each word, we create a Query vector, a Key vector, and a Value vector. Each of the vector will be of dimension 1x64.\n",
        "\n",
        "Since we have a multihead attention we will have 8 self attention heads.I will explain the code with 8 attention head in mind.\n",
        "\n",
        "**How key,queries and values can be created?**\n",
        "\n",
        "We will have a key matrix, query matrix and a value matrix to generate key, query and value.\n",
        "These matrixes are learned during training.\n",
        "\n",
        "```\n",
        "code hint:\n",
        "Suppose we have batch_size=32,sequence_length=10, embedding dimension=512. So after embedding and positional encoding our output will be of dimension 32x10x512.\n",
        "We will resize it to 32x10x8x64.(About 8, it is the number of heads in multihead attention.Dont worry you will get to know about it once you go through the code.).\n",
        "\n",
        "```\n",
        "\n",
        "\n",
        "* **Step 2:**  Second step is to calculate the score. ie, we will multiply query marix with key matrix. [Q x K.t]\n",
        "\n",
        "```\n",
        "code hint:\n",
        "Suppose our key,query and value dimension be 32x10x8x64. Before proceeding further, we will transpose each of them for multiplication convinience (32x8x10x64). Now multiply query matrix with transpose key matrix. ie (32x8x10x64) x (32x8x64x10) -> (32x8x10x10).\n",
        "```\n",
        "\n",
        "\n",
        "* **Step 3:** Now divide the output matrix with square root of dimension of key matrix and then apply Softmax over it. \n",
        "\n",
        "```\n",
        "code hint: we will divide 32x8x10x10 vector by 8 ie, by square root of 64 (dimension of key matrix)\n",
        "```\n",
        "\n",
        "\n",
        "* **Step 4:** Then this gets multiply it with value matrix.\n",
        "\n",
        "```\n",
        "code hint:\n",
        "After step 3 our output will be of dimension 32x8x10x10. Now muliply it with value matrix (32x8x10x64) to get output of dimension (32x8x10x64).Here 8 is the number of attention heads and 10 is the sequence length.Thus for each word we have 64 dim vector.\n",
        "```\n",
        "\n",
        "* **Step 5:** Once we have this we will pass this through a linear layer. This forms the output of multihead attention.\n",
        "\n",
        "```\n",
        "code hint:\n",
        "(32x8x10x64) vector gets transposed to (32x10x8x64) and then reshaped as (32x10x512).Then it is passed through a linear layer to get output of (32x10x512).\n",
        "```"
      ]
    },
    {
      "cell_type": "code",
      "execution_count": null,
      "id": "7f6e7b94",
      "metadata": {
        "id": "7f6e7b94"
      },
      "outputs": [],
      "source": [
        "class MultiHeadAttention(nn.Module):\n",
        "    def __init__(self, embed_dim = 512, n_heads = 8):\n",
        "        \"\"\"\n",
        "        Args:\n",
        "            embed_dim: dimension of embeding vector output\n",
        "            n_heads: number of self attention heads\n",
        "        \"\"\"\n",
        "        super(MultiHeadAttention, self).__init__()\n",
        "\n",
        "        self.embed_dim = embed_dim    # 512 dim\n",
        "        self.n_heads = n_heads   # 8\n",
        "        self.single_head_dim = int(self.embed_dim / self.n_heads)   # 512/8 = 64. each key,query, value will be of 64d\n",
        "       \n",
        "        # key,query and value matrixes    # 64 x 64   \n",
        "        self.query_matrix = nn.Linear(self.single_head_dim , self.single_head_dim ,bias=False)  # single key matrix for all 8 keys #512x512\n",
        "        self.key_matrix = nn.Linear(self.single_head_dim  , self.single_head_dim, bias=False)\n",
        "        self.value_matrix = nn.Linear(self.single_head_dim ,self.single_head_dim , bias=False)\n",
        "        self.out = nn.Linear(self.n_heads * self.single_head_dim ,self.embed_dim) \n",
        "\n",
        "    def forward(self, key, query, value, mask = None):    #batch_size x sequence_length x embedding_dim    # 32 x 10 x 512\n",
        "        \n",
        "        \"\"\"\n",
        "        Args:\n",
        "           key : key vector\n",
        "           query : query vector\n",
        "           value : value vector\n",
        "           mask: mask for decoder\n",
        "        \n",
        "        Returns:\n",
        "           output vector from multihead attention\n",
        "        \"\"\"\n",
        "        batch_size = key.size(0)\n",
        "        seq_length = key.size(1)\n",
        "        \n",
        "        # query dimension can change in decoder during inference. \n",
        "        # so we cant take general seq_length\n",
        "        seq_length_query = query.size(1)\n",
        "        \n",
        "        # 32x10x512\n",
        "        key = key.view(batch_size, seq_length, self.n_heads, self.single_head_dim)  #batch_size x sequence_length x n_heads x single_head_dim = (32x10x8x64)\n",
        "        query = query.view(batch_size, seq_length_query, self.n_heads, self.single_head_dim) #(32x10x8x64)\n",
        "        value = value.view(batch_size, seq_length, self.n_heads, self.single_head_dim) #(32x10x8x64)\n",
        "       \n",
        "        k = self.key_matrix(key)       # (32x10x8x64)\n",
        "        q = self.query_matrix(query)   \n",
        "        v = self.value_matrix(value)\n",
        "\n",
        "        q = q.transpose(1,2)  # (batch_size, n_heads, seq_len, single_head_dim)    # (32 x 8 x 10 x 64)\n",
        "        k = k.transpose(1,2)  # (batch_size, n_heads, seq_len, single_head_dim)\n",
        "        v = v.transpose(1,2)  # (batch_size, n_heads, seq_len, single_head_dim)\n",
        "       \n",
        "        # computes attention\n",
        "        # adjust key for matrix multiplication\n",
        "        k_adjusted = k.transpose(-1,-2)  # (batch_size, n_heads, single_head_dim, seq_ken)  # (32 x 8 x 64 x 10)\n",
        "        product = torch.matmul(q, k_adjusted)  # (32 x 8 x 10 x 64) x (32 x 8 x 64 x 10) = # (32x8x10x10)\n",
        "      \n",
        "        \n",
        "        # fill those positions of product matrix as (-1e20) where mask positions are 0\n",
        "        if mask is not None:\n",
        "             product = product.masked_fill(mask == 0, float(\"-1e20\"))\n",
        "\n",
        "        # divising by square root of key dimension\n",
        "        product = product / math.sqrt(self.single_head_dim) # / sqrt(64)\n",
        "\n",
        "        # applying softmax\n",
        "        scores = F.softmax(product, dim=-1)\n",
        " \n",
        "        # mutiply with value matrix\n",
        "        scores = torch.matmul(scores, v)  ## (32x8x 10x 10) x (32 x 8 x 10 x 64) = (32 x 8 x 10 x 64) \n",
        "        \n",
        "        # concatenated output\n",
        "        concat = scores.transpose(1,2).contiguous().view(batch_size, seq_length_query, self.single_head_dim*self.n_heads)  # (32x8x10x64) -> (32x10x8x64)  -> (32,10,512)\n",
        "        \n",
        "        output = self.out(concat) #(32,10,512) -> (32,10,512)\n",
        "       \n",
        "        return output"
      ]
    },
    {
      "cell_type": "markdown",
      "id": "34e2cf1e",
      "metadata": {
        "id": "34e2cf1e"
      },
      "source": [
        "<a class=\"anchor\" id=\"section7\"></a>\n",
        "<h2 style=\"color:green;font-size: 2em;\"> 4. Encoder</h2>"
      ]
    },
    {
      "cell_type": "code",
      "execution_count": null,
      "id": "b9a2f49b",
      "metadata": {
        "id": "b9a2f49b",
        "colab": {
          "base_uri": "https://localhost:8080/",
          "height": 490
        },
        "outputId": "714fc339-b38e-43b2-a366-a42e947eae3a"
      },
      "outputs": [
        {
          "output_type": "execute_result",
          "data": {
            "image/png": "[encoded data removed]",
            "text/plain": [
              "<IPython.core.display.Image object>"
            ]
          },
          "metadata": {},
          "execution_count": 23
        }
      ],
      "source": [
        "Image(filename = PATH + '/' + \"encoder_layer.png\")"
      ]
    },
    {
      "cell_type": "markdown",
      "id": "724ded6b",
      "metadata": {
        "id": "724ded6b"
      },
      "source": [
        "In the encoder section we will follow these sections:\n",
        "\n",
        "**Step 1:** First input(padded tokens corresponding to the sentence) get passes through embedding layer and positional encoding layer.\n",
        "\n",
        "```\n",
        "code hint\n",
        "suppose we have input of 32x10 (batch size=32 and sequence length=10). Once it passes through embedding layer it becomes 32x10x512. Then it gets added with correspondng positional encoding vector and produces output of 32x10x512. This gets passed to the multihead attention\n",
        "```\n",
        "\n",
        "**Step 2:** As discussed above it will passed through the multihead attention layer and creates useful representational matrix as output.\n",
        "\n",
        "```\n",
        "code hint\n",
        "input to multihead attention will be a 32x10x512 from which key,query and value vectors are generated as above and finally produces a 32x10x512 output.\n",
        "```\n",
        "\n",
        "**Step 3:** Next we have a normalization and residual connection. The output from multihead attention is added with its input and then normalized. \n",
        "\n",
        "```\n",
        "code hint\n",
        "output of multihead attention which is 32x10x512 gets added with 32x10x512 input(which is output created by embedding vector) and then the layer is normalized.\n",
        "\n",
        "```\n",
        "\n",
        "**Step 4:** Next we have a feed forward layer and a then normalization layer with residual connection from input(input of feed forward layer) where we passes the output after normalization though it and finally gets the output of encoder.\n",
        "\n",
        "```\n",
        "code hint\n",
        "The normalized output will be of dimension 32x10x512. This gets passed through 2 linear layers: 32x10x512 -> 32x10x2048 -> 32x10x512. Finally we have a residual connection which gets added with the output and the layer is normalized. Thus a 32x10x512 dimensional vector is created as output for the encoder.\n",
        "\n",
        "```"
      ]
    },
    {
      "cell_type": "markdown",
      "id": "28a1fcd4",
      "metadata": {
        "id": "28a1fcd4"
      },
      "source": [
        "**Discuss functional units**\n",
        "* An `Encoder layer` consists of a Multi-Head Attention layer, a Position-wise Feed-Forward layer, and two Layer Normalization layers."
      ]
    },
    {
      "cell_type": "code",
      "execution_count": null,
      "id": "a2ac1aba",
      "metadata": {
        "id": "a2ac1aba"
      },
      "outputs": [],
      "source": [
        "class TransformerBlock(nn.Module):\n",
        "    def __init__(self, embed_dim, expansion_factor=4, n_heads=8):\n",
        "        super(TransformerBlock, self).__init__()\n",
        "        \n",
        "        \"\"\"\n",
        "        Args:\n",
        "           embed_dim: dimension of the embedding\n",
        "           expansion_factor: fator ehich determines output dimension of linear layer\n",
        "           n_heads: number of attention heads\n",
        "        \n",
        "        \"\"\"\n",
        "        self.attention = MultiHeadAttention(embed_dim, n_heads)\n",
        "        \n",
        "        self.norm1 = nn.LayerNorm(embed_dim) \n",
        "        self.norm2 = nn.LayerNorm(embed_dim)\n",
        "        \n",
        "        self.feed_forward = nn.Sequential(\n",
        "                          nn.Linear(embed_dim, expansion_factor*embed_dim),\n",
        "                          nn.ReLU(),\n",
        "                          nn.Linear(expansion_factor*embed_dim, embed_dim)\n",
        "        )\n",
        "\n",
        "        self.dropout1 = nn.Dropout(0.2)\n",
        "        self.dropout2 = nn.Dropout(0.2)\n",
        "\n",
        "    def forward(self,key,query,value):\n",
        "        \n",
        "        \"\"\"\n",
        "        Args:\n",
        "           key: key vector\n",
        "           query: query vector\n",
        "           value: value vector\n",
        "           norm2_out: output of transformer block\n",
        "        \n",
        "        \"\"\"\n",
        "        \n",
        "        attention_out = self.attention(key,query,value)  #32x10x512\n",
        "        attention_residual_out = attention_out + value  #32x10x512\n",
        "        norm1_out = self.dropout1(self.norm1(attention_residual_out)) #32x10x512\n",
        "\n",
        "        feed_fwd_out = self.feed_forward(norm1_out) #32x10x512 -> #32x10x2048 -> 32x10x512\n",
        "        feed_fwd_residual_out = feed_fwd_out + norm1_out #32x10x512\n",
        "        norm2_out = self.dropout2(self.norm2(feed_fwd_residual_out)) #32x10x512\n",
        "\n",
        "        return norm2_out\n",
        "\n",
        "\n",
        "\n",
        "class TransformerEncoder(nn.Module):\n",
        "    \"\"\"\n",
        "    Args:\n",
        "        seq_len : length of input sequence\n",
        "        embed_dim: dimension of embedding\n",
        "        num_layers: number of encoder layers\n",
        "        expansion_factor: factor which determines number of linear layers in feed forward layer\n",
        "        n_heads: number of heads in multihead attention\n",
        "        \n",
        "    Returns:\n",
        "        out: output of the encoder\n",
        "    \"\"\"\n",
        "    def __init__(self, seq_len, vocab_size, embed_dim, num_layers=2, expansion_factor=4, n_heads=8):\n",
        "        super(TransformerEncoder, self).__init__()\n",
        "        \n",
        "        self.embedding_layer = Embedding(vocab_size, embed_dim)\n",
        "        self.positional_encoder = PositionalEmbedding(seq_len, embed_dim)\n",
        "\n",
        "        self.layers = nn.ModuleList([TransformerBlock(embed_dim, expansion_factor, n_heads) for i in range(num_layers)])\n",
        "    \n",
        "    def forward(self, x):\n",
        "        embed_out = self.embedding_layer(x)\n",
        "        out = self.positional_encoder(embed_out)\n",
        "        for layer in self.layers:\n",
        "            out = layer(out,out,out)\n",
        "\n",
        "        return out  #32x10x512"
      ]
    },
    {
      "cell_type": "markdown",
      "id": "05c4a1b7",
      "metadata": {
        "id": "05c4a1b7"
      },
      "source": [
        "**Discuss the results**\n",
        "* The `EncoderLayer` class initializes with input parameters and components, including a `MultiHeadAttention` module, a `PositionWiseFeedForward` module, two layer `normalization` modules, and a `dropout` layer. The forward methods computes the encoder layer output by applying `self-attention`, adding the attention output to the input tensor, and normalizing the result. Then, it computes the position-wise feed-forward output, combines it with the normalized self-attention output, and normalizes the final result before returning the processed tensor."
      ]
    },
    {
      "cell_type": "markdown",
      "id": "64e11e40",
      "metadata": {
        "id": "64e11e40"
      },
      "source": [
        "<a class=\"anchor\" id=\"section8\"></a>\n",
        "<h2 style=\"color:green;font-size: 2em;\"> 5. Decoder</h2>"
      ]
    },
    {
      "cell_type": "code",
      "execution_count": null,
      "id": "ec86c9c4",
      "metadata": {
        "id": "ec86c9c4",
        "colab": {
          "base_uri": "https://localhost:8080/",
          "height": 766
        },
        "outputId": "274fdd6e-889a-4f49-e2b4-0107f4319d9c"
      },
      "outputs": [
        {
          "output_type": "execute_result",
          "data": {
            "image/png": "[encoded data removed]",
            "text/plain": [
              "<IPython.core.display.Image object>"
            ]
          },
          "metadata": {},
          "execution_count": 25
        }
      ],
      "source": [
        "Image(filename = PATH + '/' + \"decoder_layer.png\")"
      ]
    },
    {
      "cell_type": "markdown",
      "id": "187c0571",
      "metadata": {
        "id": "187c0571"
      },
      "source": [
        "We will use the output of encoder to generate key and value vectors for the decoder.There are two kinds of multi head attention in the decoder.One is the decoder attention and other is the encoder decoder attention."
      ]
    },
    {
      "cell_type": "markdown",
      "id": "777e8e0d",
      "metadata": {
        "id": "777e8e0d"
      },
      "source": [
        "Let us explain with respect to the training phase.\n",
        "\n",
        "**Step 1:**\n",
        "\n",
        "First the output  gets passed through the embeddin and positional encoding to create a embedding vector of dimension 1x512 corresponding to each word in the target sequence.\n",
        "\n",
        "```\n",
        "code hint\n",
        "Suppose we have a sequence length of 10. batch size of 32 and embedding vector dimension of 512. we have input of size 32x10 to the embedding matrix which produces and output of dimension 32x10x512 which gets added with the positional encoding of same dimension and produces a 32x10x512 out\n",
        "\n",
        "```\n",
        "\n",
        "**Step 2:**\n",
        "\n",
        "The embeddig output gets passed through a multihead attention layers as before(creating key,query and value matrixes from the target input) and produces an output vector. This time the major difference is that we uses a mask with multihead attention. \n",
        "\n",
        "**Why mask?**\n",
        "\n",
        "Mask is used because while creating attention of target words, we donot need a word to look in to the future words to check the dependency. ie, we already learned that why we create attention because we need to know contribution of each word with the other word. Since we are creating attention for words in target sequnce, we donot need a particular word to see the future words. For eg: in word \"I am a strudent\", we donot need the word \"a\" to look word \"student\".\n",
        "\n",
        "\n",
        "```\n",
        "code hint\n",
        "For creating attention we created a triangular matrix with 1 and 0.eg:traingular matrix for seq length 5 looks as below:\n",
        "\n",
        "1 0 0 0 0\n",
        "1 1 0 0 0\n",
        "1 1 1 0 0\n",
        "1 1 1 1 0\n",
        "1 1 1 1 1\n",
        "\n",
        "After the key gets multiplied with query, we fill all zero positions with negative inifinity, In code we will fill it with a very small number to avoid division errors.\n",
        "(with -1e 20)\n",
        "\n",
        "\n",
        "```\n",
        "\n",
        "**Step 3:**\n",
        "\n",
        "As before we have a add and norm layer where we add with output of embedding with attention out and normalized it.\n",
        "\n",
        "\n",
        "**Step 4:**\n",
        "\n",
        "\n",
        "Next we have another multihead attention and then a add and norm layer. This multihead attention is called encoder-decorder multihead attention. For this multihead attention we create we create key and value vectors from the encoder output. Query is created from the output of previous decoder layer.\n",
        "\n",
        "```\n",
        "code hint:\n",
        "Thus we have 32x10x512 out from encoder out. key and value for all words are generated from it. Similary query matrix is generated from otput from previous layer of decoder(32x10x512).\n",
        "\n",
        "```\n",
        "\n",
        "Thus it is passed through a multihead atention (we used number of heads = 8) the through a Add and Norm layer. Here the output from previous encoder layer(ie previoud add and norm layer) gets added with encoder-decoder attention output and then normalized.\n",
        "\n",
        "**Step 5:**\n",
        "Next we have a feed forward layer(linear layer) with add and nom which is similar to that of present in the encoder.\n",
        "\n",
        "\n",
        "**Step 6:**\n",
        "Finally we create a linear layer with length equal to number of words in total target corpus and a softmax function with it to get probablity of each word."
      ]
    },
    {
      "cell_type": "markdown",
      "id": "09a1bbdc",
      "metadata": {
        "id": "09a1bbdc"
      },
      "source": [
        "**Discuss functional units**\n",
        "* A `Decoder` layer consists of two Multi-Head Attention layers, a Position-wise Feed-Forward layer, and three Layer Normalization layers."
      ]
    },
    {
      "cell_type": "code",
      "execution_count": null,
      "id": "36da70bc",
      "metadata": {
        "id": "36da70bc"
      },
      "outputs": [],
      "source": [
        "class DecoderBlock(nn.Module):\n",
        "    def __init__(self, embed_dim, expansion_factor=4, n_heads=8):\n",
        "        super(DecoderBlock, self).__init__()\n",
        "\n",
        "        \"\"\"\n",
        "        Args:\n",
        "           embed_dim: dimension of the embedding\n",
        "           expansion_factor: fator ehich determines output dimension of linear layer\n",
        "           n_heads: number of attention heads\n",
        "        \n",
        "        \"\"\"\n",
        "        self.attention = MultiHeadAttention(embed_dim, n_heads=8)\n",
        "        self.norm = nn.LayerNorm(embed_dim)\n",
        "        self.dropout = nn.Dropout(0.2)\n",
        "        self.transformer_block = TransformerBlock(embed_dim, expansion_factor, n_heads)\n",
        "        \n",
        "    \n",
        "    def forward(self, key, query, x,mask):\n",
        "        \n",
        "        \"\"\"\n",
        "        Args:\n",
        "           key: key vector\n",
        "           query: query vector\n",
        "           value: value vector\n",
        "           mask: mask to be given for multi head attention \n",
        "        Returns:\n",
        "           out: output of transformer block\n",
        "    \n",
        "        \"\"\"\n",
        "        \n",
        "        #we need to pass mask mask only to fst attention\n",
        "        attention = self.attention(x,x,x,mask=mask) #32x10x512\n",
        "        value = self.dropout(self.norm(attention + x))\n",
        "        \n",
        "        out = self.transformer_block(key, query, value)\n",
        "\n",
        "        \n",
        "        return out\n",
        "\n",
        "\n",
        "class TransformerDecoder(nn.Module):\n",
        "    def __init__(self, target_vocab_size, embed_dim, seq_len, num_layers=2, expansion_factor=4, n_heads=8):\n",
        "        super(TransformerDecoder, self).__init__()\n",
        "        \"\"\"  \n",
        "        Args:\n",
        "           target_vocab_size: vocabulary size of taget\n",
        "           embed_dim: dimension of embedding\n",
        "           seq_len : length of input sequence\n",
        "           num_layers: number of encoder layers\n",
        "           expansion_factor: factor which determines number of linear layers in feed forward layer\n",
        "           n_heads: number of heads in multihead attention\n",
        "        \n",
        "        \"\"\"\n",
        "        self.word_embedding = nn.Embedding(target_vocab_size, embed_dim)\n",
        "        self.position_embedding = PositionalEmbedding(seq_len, embed_dim)\n",
        "\n",
        "        self.layers = nn.ModuleList(\n",
        "            [\n",
        "                DecoderBlock(embed_dim, expansion_factor=4, n_heads=8) \n",
        "                for _ in range(num_layers)\n",
        "            ]\n",
        "\n",
        "        )\n",
        "        self.fc_out = nn.Linear(embed_dim, target_vocab_size)\n",
        "        self.dropout = nn.Dropout(0.2)\n",
        "\n",
        "    def forward(self, x, enc_out, mask):\n",
        "        \n",
        "        \"\"\"\n",
        "        Args:\n",
        "            x: input vector from target\n",
        "            enc_out : output from encoder layer\n",
        "            trg_mask: mask for decoder self attention\n",
        "        Returns:\n",
        "            out: output vector\n",
        "        \"\"\"\n",
        "            \n",
        "        \n",
        "        x = self.word_embedding(x)  #32x10x512\n",
        "        x = self.position_embedding(x) #32x10x512\n",
        "        x = self.dropout(x)\n",
        "     \n",
        "        for layer in self.layers:\n",
        "            x = layer(enc_out, x, enc_out, mask) \n",
        "\n",
        "        out = F.softmax(self.fc_out(x))\n",
        "\n",
        "        return out"
      ]
    },
    {
      "cell_type": "markdown",
      "id": "25bb1887",
      "metadata": {
        "id": "25bb1887"
      },
      "source": [
        "**Discuss the results**\n",
        "* The `DecoderLayer` initializes with input parameters and components such as `MultiHeadAttention` modules for masked `self-attention` and `cross-attention`, a `PositionWiseFeedForward` module, three layer `normalization` modules, and a `dropout` layer."
      ]
    },
    {
      "cell_type": "markdown",
      "id": "915d5a80",
      "metadata": {
        "id": "915d5a80"
      },
      "source": [
        "**Finally we will arrange all submodules and creates the entire tranformer architecture.**"
      ]
    },
    {
      "cell_type": "code",
      "execution_count": null,
      "id": "c9353ca9",
      "metadata": {
        "id": "c9353ca9"
      },
      "outputs": [],
      "source": [
        "class Transformer(nn.Module):\n",
        "    def __init__(self, embed_dim, src_vocab_size, target_vocab_size, seq_length,num_layers=2, expansion_factor=4, n_heads=8):\n",
        "        super(Transformer, self).__init__()\n",
        "        \n",
        "        \"\"\"  \n",
        "        Args:\n",
        "           embed_dim:  dimension of embedding \n",
        "           src_vocab_size: vocabulary size of source\n",
        "           target_vocab_size: vocabulary size of target\n",
        "           seq_length : length of input sequence\n",
        "           num_layers: number of encoder layers\n",
        "           expansion_factor: factor which determines number of linear layers in feed forward layer\n",
        "           n_heads: number of heads in multihead attention\n",
        "        \n",
        "        \"\"\"\n",
        "        \n",
        "        self.target_vocab_size = target_vocab_size\n",
        "\n",
        "        self.encoder = TransformerEncoder(seq_length, src_vocab_size, embed_dim, num_layers=num_layers, expansion_factor=expansion_factor, n_heads=n_heads)\n",
        "        self.decoder = TransformerDecoder(target_vocab_size, embed_dim, seq_length, num_layers=num_layers, expansion_factor=expansion_factor, n_heads=n_heads)\n",
        "        \n",
        "    \n",
        "    def make_trg_mask(self, trg):\n",
        "        \"\"\"\n",
        "        Args:\n",
        "            trg: target sequence\n",
        "        Returns:\n",
        "            trg_mask: target mask\n",
        "        \"\"\"\n",
        "        batch_size, trg_len = trg.shape\n",
        "        # returns the lower triangular part of matrix filled with ones\n",
        "        trg_mask = torch.tril(torch.ones((trg_len, trg_len))).expand(\n",
        "            batch_size, 1, trg_len, trg_len\n",
        "        )\n",
        "        return trg_mask    \n",
        "\n",
        "    def decode(self,src,trg):\n",
        "        \"\"\"\n",
        "        for inference\n",
        "        Args:\n",
        "            src: input to encoder \n",
        "            trg: input to decoder\n",
        "        out:\n",
        "            out_labels : returns final prediction of sequence\n",
        "        \"\"\"\n",
        "        trg_mask = self.make_trg_mask(trg)\n",
        "        enc_out = self.encoder(src)\n",
        "        out_labels = []\n",
        "        batch_size,seq_len = src.shape[0],src.shape[1]\n",
        "        #outputs = torch.zeros(seq_len, batch_size, self.target_vocab_size)\n",
        "        out = trg\n",
        "        for i in range(seq_len): #10\n",
        "            out = self.decoder(out,enc_out,trg_mask) #bs x seq_len x vocab_dim\n",
        "            # taking the last token\n",
        "            out = out[:,-1,:]\n",
        "     \n",
        "            out = out.argmax(-1)\n",
        "            out_labels.append(out.item())\n",
        "            out = torch.unsqueeze(out,axis=0)\n",
        "          \n",
        "        \n",
        "        return out_labels\n",
        "    \n",
        "    def forward(self, src, trg):\n",
        "        \"\"\"\n",
        "        Args:\n",
        "            src: input to encoder \n",
        "            trg: input to decoder\n",
        "        out:\n",
        "            out: final vector which returns probabilities of each target word\n",
        "        \"\"\"\n",
        "        trg_mask = self.make_trg_mask(trg)\n",
        "        enc_out = self.encoder(src)\n",
        "   \n",
        "        outputs = self.decoder(trg, enc_out, trg_mask)\n",
        "        return outputs"
      ]
    },
    {
      "cell_type": "markdown",
      "id": "22b18535",
      "metadata": {
        "id": "22b18535"
      },
      "source": [
        "<a class=\"anchor\" id=\"section9\"></a>\n",
        "<h2 style=\"color:green;font-size: 2em;\"> 6. Testing Our code </h2>\n",
        "\n",
        "Suppose we have input sequence oflength 10 and target sequence of length 10."
      ]
    },
    {
      "cell_type": "code",
      "execution_count": null,
      "id": "36d021e2",
      "metadata": {
        "id": "36d021e2",
        "colab": {
          "base_uri": "https://localhost:8080/"
        },
        "outputId": "6457e659-8aee-449e-ecb6-1e6db3419def"
      },
      "outputs": [
        {
          "output_type": "stream",
          "name": "stdout",
          "text": [
            "torch.Size([2, 12]) torch.Size([2, 12])\n"
          ]
        },
        {
          "output_type": "execute_result",
          "data": {
            "text/plain": [
              "Transformer(\n",
              "  (encoder): TransformerEncoder(\n",
              "    (embedding_layer): Embedding(\n",
              "      (embed): Embedding(11, 512)\n",
              "    )\n",
              "    (positional_encoder): PositionalEmbedding()\n",
              "    (layers): ModuleList(\n",
              "      (0-5): 6 x TransformerBlock(\n",
              "        (attention): MultiHeadAttention(\n",
              "          (query_matrix): Linear(in_features=64, out_features=64, bias=False)\n",
              "          (key_matrix): Linear(in_features=64, out_features=64, bias=False)\n",
              "          (value_matrix): Linear(in_features=64, out_features=64, bias=False)\n",
              "          (out): Linear(in_features=512, out_features=512, bias=True)\n",
              "        )\n",
              "        (norm1): LayerNorm((512,), eps=1e-05, elementwise_affine=True)\n",
              "        (norm2): LayerNorm((512,), eps=1e-05, elementwise_affine=True)\n",
              "        (feed_forward): Sequential(\n",
              "          (0): Linear(in_features=512, out_features=2048, bias=True)\n",
              "          (1): ReLU()\n",
              "          (2): Linear(in_features=2048, out_features=512, bias=True)\n",
              "        )\n",
              "        (dropout1): Dropout(p=0.2, inplace=False)\n",
              "        (dropout2): Dropout(p=0.2, inplace=False)\n",
              "      )\n",
              "    )\n",
              "  )\n",
              "  (decoder): TransformerDecoder(\n",
              "    (word_embedding): Embedding(11, 512)\n",
              "    (position_embedding): PositionalEmbedding()\n",
              "    (layers): ModuleList(\n",
              "      (0-5): 6 x DecoderBlock(\n",
              "        (attention): MultiHeadAttention(\n",
              "          (query_matrix): Linear(in_features=64, out_features=64, bias=False)\n",
              "          (key_matrix): Linear(in_features=64, out_features=64, bias=False)\n",
              "          (value_matrix): Linear(in_features=64, out_features=64, bias=False)\n",
              "          (out): Linear(in_features=512, out_features=512, bias=True)\n",
              "        )\n",
              "        (norm): LayerNorm((512,), eps=1e-05, elementwise_affine=True)\n",
              "        (dropout): Dropout(p=0.2, inplace=False)\n",
              "        (transformer_block): TransformerBlock(\n",
              "          (attention): MultiHeadAttention(\n",
              "            (query_matrix): Linear(in_features=64, out_features=64, bias=False)\n",
              "            (key_matrix): Linear(in_features=64, out_features=64, bias=False)\n",
              "            (value_matrix): Linear(in_features=64, out_features=64, bias=False)\n",
              "            (out): Linear(in_features=512, out_features=512, bias=True)\n",
              "          )\n",
              "          (norm1): LayerNorm((512,), eps=1e-05, elementwise_affine=True)\n",
              "          (norm2): LayerNorm((512,), eps=1e-05, elementwise_affine=True)\n",
              "          (feed_forward): Sequential(\n",
              "            (0): Linear(in_features=512, out_features=2048, bias=True)\n",
              "            (1): ReLU()\n",
              "            (2): Linear(in_features=2048, out_features=512, bias=True)\n",
              "          )\n",
              "          (dropout1): Dropout(p=0.2, inplace=False)\n",
              "          (dropout2): Dropout(p=0.2, inplace=False)\n",
              "        )\n",
              "      )\n",
              "    )\n",
              "    (fc_out): Linear(in_features=512, out_features=11, bias=True)\n",
              "    (dropout): Dropout(p=0.2, inplace=False)\n",
              "  )\n",
              ")"
            ]
          },
          "metadata": {},
          "execution_count": 28
        }
      ],
      "source": [
        "src_vocab_size = 11\n",
        "target_vocab_size = 11\n",
        "num_layers = 6\n",
        "seq_length= 12\n",
        "\n",
        "\n",
        "# let 0 be sos token and 1 be eos token\n",
        "src = torch.tensor([[0, 2, 5, 6, 4, 3, 9, 5, 2, 9, 10, 1], \n",
        "                    [0, 2, 8, 7, 3, 4, 5, 6, 7, 2, 10, 1]])\n",
        "target = torch.tensor([[0, 1, 7, 4, 3, 5, 9, 2, 8, 10, 9, 1], \n",
        "                       [0, 1, 5, 6, 2, 4, 7, 6, 2, 8, 10, 1]])\n",
        "\n",
        "print(src.shape,target.shape)\n",
        "model = Transformer(embed_dim=512, src_vocab_size=src_vocab_size, \n",
        "                    target_vocab_size=target_vocab_size, seq_length=seq_length,\n",
        "                    num_layers=num_layers, expansion_factor=4, n_heads=8)\n",
        "model"
      ]
    },
    {
      "cell_type": "code",
      "execution_count": null,
      "id": "ac8ff954",
      "metadata": {
        "id": "ac8ff954",
        "colab": {
          "base_uri": "https://localhost:8080/"
        },
        "outputId": "8f9b58b8-5301-4fe9-e1b0-090c2d39727c"
      },
      "outputs": [
        {
          "output_type": "execute_result",
          "data": {
            "text/plain": [
              "torch.Size([2, 12, 11])"
            ]
          },
          "metadata": {},
          "execution_count": 29
        }
      ],
      "source": [
        "out = model(src, target)\n",
        "out.shape"
      ]
    },
    {
      "cell_type": "code",
      "execution_count": null,
      "id": "721c2449",
      "metadata": {
        "id": "721c2449",
        "colab": {
          "base_uri": "https://localhost:8080/"
        },
        "outputId": "d84ee6c3-8e07-4fac-ee2b-b9b9946ebc9e"
      },
      "outputs": [
        {
          "output_type": "stream",
          "name": "stdout",
          "text": [
            "torch.Size([1, 12]) torch.Size([1, 1])\n"
          ]
        },
        {
          "output_type": "execute_result",
          "data": {
            "text/plain": [
              "[0, 0, 0, 0, 0, 0, 0, 0, 0, 0, 0, 0]"
            ]
          },
          "metadata": {},
          "execution_count": 30
        }
      ],
      "source": [
        "# inference\n",
        "model = Transformer(embed_dim=512, src_vocab_size=src_vocab_size, \n",
        "                    target_vocab_size=target_vocab_size, seq_length=seq_length, \n",
        "                    num_layers=num_layers, expansion_factor=4, n_heads=8)\n",
        "                  \n",
        "\n",
        "\n",
        "src = torch.tensor([[0, 2, 5, 6, 4, 3, 9, 5, 2, 9, 10, 1]])\n",
        "trg = torch.tensor([[0]])\n",
        "print(src.shape,trg.shape)\n",
        "out = model.decode(src, trg)\n",
        "out"
      ]
    },
    {
      "cell_type": "code",
      "execution_count": null,
      "id": "926fcaf6",
      "metadata": {
        "id": "926fcaf6",
        "colab": {
          "base_uri": "https://localhost:8080/"
        },
        "outputId": "a4fd61a0-394e-4882-8168-ca3036dbb1cf"
      },
      "outputs": [
        {
          "output_type": "stream",
          "name": "stdout",
          "text": [
            "torch.Size([1, 12]) torch.Size([1, 1])\n"
          ]
        },
        {
          "output_type": "execute_result",
          "data": {
            "text/plain": [
              "[0, 0, 0, 0, 0, 0, 0, 0, 0, 0, 0, 0]"
            ]
          },
          "metadata": {},
          "execution_count": 31
        }
      ],
      "source": [
        "# inference\n",
        "model = Transformer(embed_dim=512, src_vocab_size=src_vocab_size, \n",
        "                    target_vocab_size=target_vocab_size, seq_length=seq_length, \n",
        "                    num_layers=num_layers, expansion_factor=4, n_heads=8)\n",
        "                  \n",
        "\n",
        "\n",
        "src = torch.tensor([[0, 2, 5, 6, 4, 3, 9, 5, 2, 9, 10, 1]])\n",
        "trg = torch.tensor([[0]])\n",
        "print(src.shape,trg.shape)\n",
        "out = model.decode(src, trg)\n",
        "out"
      ]
    },
    {
      "cell_type": "markdown",
      "id": "92b05cab",
      "metadata": {
        "id": "92b05cab"
      },
      "source": [
        "```Copyright 2019 The TensorFlow Authors.```"
      ]
    },
    {
      "cell_type": "markdown",
      "id": "3db62369",
      "metadata": {
        "id": "3db62369"
      },
      "source": [
        "```\n",
        "@title Licensed under the Apache License, Version 2.0 (the \"License\");\n",
        "you may not use this file except in compliance with the License.\n",
        "You may obtain a copy of the License at\n",
        "\n",
        "https://www.apache.org/licenses/LICENSE-2.0\n",
        "\n",
        "Unless required by applicable law or agreed to in writing, software\n",
        "distributed under the License is distributed on an \"AS IS\" BASIS,\n",
        "WITHOUT WARRANTIES OR CONDITIONS OF ANY KIND, either express or implied.\n",
        "See the License for the specific language governing permissions and\n",
        "limitations under the License.\n",
        "```"
      ]
    },
    {
      "cell_type": "markdown",
      "id": "f2704030",
      "metadata": {
        "id": "f2704030"
      },
      "source": [
        "<a class=\"anchor\" id=\"section-5\"></a>\n",
        "<h1 align=\"center\" style=\"color:Blue;font-size: 3em;\" >Implementing Transformers From Scratch Using TensorFlow</h1>"
      ]
    },
    {
      "cell_type": "markdown",
      "id": "70d63411",
      "metadata": {
        "id": "70d63411"
      },
      "source": [
        "* [1. Introduction](#section10)\n",
        "* [2. Import libraries](#section11)\n",
        "* [3. Positional encoding](#section12)\n",
        "* [4. Scaled dot product attention](#section13)\n",
        "* [5. Multi-head attention](#section14)\n",
        "* [6. Point wise feed forward network](#section15)\n",
        "* [7. Encoder and decoder](#section16)\n",
        "\t- [Encoder layer](#section17)\n",
        "\t- [Decoder layer](#section18)\n",
        "\t- [Encoder](#section19)\n",
        "\t- [Decoder](#section20)\n",
        "* [8. Create the Transformer](#section21)\n",
        "* [9. Set hyperparameters](#section22)\n",
        "* [10. Optimizer](#section23)\n",
        "* [11. Loss and metrics](#section24)\n",
        "* [12. Training and checkpointing](#section25)\n",
        "* [13. Evaluate](#section26)"
      ]
    },
    {
      "cell_type": "markdown",
      "id": "2be689aa",
      "metadata": {
        "id": "2be689aa"
      },
      "source": [
        "<a class=\"anchor\" id=\"section10\"></a>\n",
        "<h2 style=\"color:blue;font-size: 2em;\">1. Introduction</h2>"
      ]
    },
    {
      "cell_type": "markdown",
      "id": "a36f8dd5",
      "metadata": {
        "id": "a36f8dd5"
      },
      "source": [
        "This tutorial trains a <a href=\"https://arxiv.org/abs/1706.03762\" class=\"external\">Transformer model</a> to translate Portuguese to English.\n",
        "\n",
        "The core idea behind the Transformer model is *self-attention*—the ability to attend to different positions of the input sequence to compute a representation of that sequence. Transformer creates stacks of self-attention layers and is explained below in the sections *Scaled dot product attention* and *Multi-head attention*.\n",
        "\n",
        "A transformer model handles variable-sized input using stacks of self-attention layers instead of [RNNs]or [CNNsThis general architecture has a number of advantages:\n",
        "\n",
        "* It make no assumptions about the temporal/spatial relationships across the data. This is ideal for processing a set of objects\n",
        "* Layer outputs can be calculated in parallel, instead of a series like an RNN.\n",
        "* Distant items can affect each other's output without passing through many RNN-steps, or convolution layers (see [Scene Memory Transformer](https://arxiv.org/pdf/1903.03878.pdf) for example).\n",
        "* It can learn long-range dependencies. This is a challenge in many sequence tasks.\n",
        "\n",
        "The downsides of this architecture are:\n",
        "\n",
        "* For a time-series, the output for a time-step is calculated from the *entire history* instead of only the inputs and current hidden-state. This _may_ be less efficient.   \n",
        "* If the input *does* have a  temporal/spatial relationship, like text, some positional encoding must be added or the model will effectively see a bag of words. \n",
        "\n",
        "After training the model in this notebook, you will be able to input a Portuguese sentence and return the English translation.\n",
        "\n",
        "<img src=\"https://www.tensorflow.org/images/tutorials/transformer/attention_map_portuguese.png\" width=\"800\" alt=\"Attention heatmap\">"
      ]
    },
    {
      "cell_type": "markdown",
      "id": "38a1c366",
      "metadata": {
        "id": "38a1c366"
      },
      "source": [
        "<a class=\"anchor\" id=\"section11\"></a>\n",
        "<h2 style=\"color:blue;font-size: 2em;\">2. Import libraries</h2>"
      ]
    },
    {
      "cell_type": "code",
      "execution_count": null,
      "id": "8f142237",
      "metadata": {
        "id": "8f142237"
      },
      "outputs": [],
      "source": [
        "# !pip install -q tfds-nightly"
      ]
    },
    {
      "cell_type": "code",
      "source": [
        "import tensorflow_datasets as tfds\n",
        "import tensorflow as tf\n",
        "\n",
        "import time\n",
        "import numpy as np\n",
        "import matplotlib.pyplot as plt"
      ],
      "metadata": {
        "id": "9KdNZ2PeJT5r"
      },
      "id": "9KdNZ2PeJT5r",
      "execution_count": null,
      "outputs": []
    },
    {
      "cell_type": "markdown",
      "id": "f0afd6c5",
      "metadata": {
        "id": "f0afd6c5"
      },
      "source": [
        "<a class=\"anchor\" id=\"section12\"></a>\n",
        "<h2 style=\"color:blue;font-size: 2em;\">3. Setup input pipeline</h2>"
      ]
    },
    {
      "cell_type": "markdown",
      "id": "a38d9615",
      "metadata": {
        "id": "a38d9615"
      },
      "source": [
        "Use [TFDS](https://www.tensorflow.org/datasets) to load the [Portugese-English translation dataset](https://github.com/neulab/word-embeddings-for-nmt) from the [TED Talks Open Translation Project](https://www.ted.com/participate/translate).\n",
        "\n",
        "This dataset contains approximately 50000 training examples, 1100 validation examples, and 2000 test examples."
      ]
    },
    {
      "cell_type": "code",
      "execution_count": null,
      "id": "f8e0141d",
      "metadata": {
        "id": "f8e0141d",
        "colab": {
          "base_uri": "https://localhost:8080/",
          "height": 169,
          "referenced_widgets": [
            "37511f5a9af8456a88ac73def4dcafbc",
            "7943a668a1e74246a3e77f3bd0429939",
            "239ef70031b34c76939cc556d96e0eb3",
            "806edbede957429e8cfd1193f720bfe4",
            "d76618c87dd4477aaeb293135a9b623d",
            "fa9acfdae86148709a83f658b597b0d2",
            "90c986b8964d4abb8fb6049987ad1454",
            "77ab34a6adc94f89a80f6ce16f47ec1b",
            "4246e67540494ef1b0337d358e132649",
            "2eb7cd3912e94fc1b9727e01ccf24016",
            "68b7c43aac36437bb87c407c89acdc04",
            "339d3ae439514b98b9304423d39b11dd",
            "91e26a3b430e43b7b32b63b1c2ee4ce7",
            "6da4bcad21c94022b8d386dfe5914285",
            "0bb501df70894d0aa78ac5cf4fcf6b51",
            "2e30c0ec42434e6d828d8ce9b7bb3d95",
            "2b30bd809f1b43bb9d5082c9cc2e722e",
            "b927a493c89c41b09995260ce265fae2",
            "db75738ea24a43398b5ca3a5e8a04305",
            "f4a402d114c54e0d9476442a57ecd156",
            "d7bd1f1130ba422eac5546e280d5d188",
            "24513f891e4c4646a4ef5cd09de0b8bf",
            "3729276c338c4ee781aa2b2c370bdcf2",
            "e8561599914f4f63992d632d29fe9509",
            "6f831a781eb74754b5861bd9ebfb7cf7",
            "fcfac572f6b643ffabdc125122b0c23b",
            "5a98fbc26f814df6bcefd74872bcfdf5",
            "4b7ad08b7813407db601dfeee0133ba1",
            "ec6bd301b075484a85aee2ad9869a328",
            "b9ce9dea38e84b68987b590975c41750",
            "42e77c2a3d4a49ffbab7f9f313c4035b",
            "b799c8262bb641c48d60c0a5e11e3089",
            "8fbc5584ea76440ba2918a82909fd037",
            "243e2dd6f66d4e22a994cc089ece6dc4",
            "1375621a08fd4be583c7c17aaae205d8",
            "1b81a904e1d1411fa78f62a1bdba2a63",
            "a5233626b5a5494780b26331e18ddc14",
            "6797fbe3937940e59213ed2831aecfb8",
            "5cadbc899ad741289ab3a65125efab34",
            "3a0a346c292e4c9ca7beabc88b1623ff",
            "c8a7fd8363d4400b98816fc7749211b3",
            "26ee6cba022847fb8df1dae17eaf8ef5",
            "439911e9960c4e4b83788748fd40bada",
            "17312a33409446b084b41d1f7b38fa03",
            "cf69d23f314049deb87a71423575bfe2",
            "d00d69769c3f4f28af39a9a6e39dd593",
            "f187ed856f7c4556bb3f0cb9b7137f0b",
            "1dd4dc00bf0f4a719d55974489b4c13e",
            "01a28272619343deb95e164e14921837",
            "dc391ab7bd484c209e5af9c0e75d2c70",
            "55613e46a4a64e57a0a13c5d957ee8a3",
            "2621f007f26e4e5fbe6bef1a5941bb65",
            "3470277649f04e988624746c691ada6b",
            "41b92da569d345ba82ab205332b9c808",
            "d2ef28e3973f400d954888d51307b0ed",
            "4c403d40b90948cebfb842ec031994bd",
            "6f9c0693a0eb4cfa8a1ef73b2374ce61",
            "98208764bf254061981a90d6fbe5a6f2",
            "af6f7d58e94f41e4a9a7f8c2183a78be",
            "c69e55dc93da4e1e8a712fb6429d921b",
            "ec9dc983950b497b92244e0e2baf03c7",
            "34fe94d469194eb28f4df6ca720d4581",
            "3164ee8dec7d44edacd3ba7eb2e9798d",
            "5f80ad287bc44851ab5a093c20fff402",
            "822f613546ab4b14a590bebd74efc607",
            "a7a30a6564d94cd3881cf5ccb8afde6c",
            "e8357d314c6a49609547c58d48453e08",
            "0d21fda8622045ff8946b367a424e445",
            "3b9ca099a8b64a7fbc3ed19876857a56",
            "7415dbb6a1574e27a21871347343536a",
            "19e8f06848684d6d947fa7bc954dd9f8",
            "ed7fac025a5c42508857e9caa794f9cc",
            "746503ba2c16471498f58f2fddd614ee",
            "881d7c23e9434b479917d05c1b7c8c7d",
            "dba902d0650045a49f31cefdbe8f73f4",
            "08c6aacfe1b9452a973abe220fc3d256",
            "57da2d5ae8f34047919375cadd5814fa",
            "a91ab59b5319419c86d9ebe15af7709e",
            "a7b479fad77049efb1994c83e0ef0830",
            "a60c74c4bead431a921691b6942f445e",
            "af863cc350234c9ebbdb0bdcf249db13",
            "5ae05cec75404e869b12a09981996e26",
            "b9c4c8f475574f09b881937002b608e3",
            "cfd723a6ec7f4e6d84f7551feb3d678c",
            "3ffe59fb8cec44888055aed31bb0edfe",
            "13722e644f3940a1a3f62ab85d4720fc",
            "5fe570c34d514c6190b6b8e8dc24541f",
            "dd22bee15af7434fa4761ce0ec658e1c",
            "59172e0f6cec48299a0044bec2c07763",
            "27e583cb08d540de831ba7271b58a103",
            "219a68fb5f5a4d19ab69b88aa4ddf64f",
            "f2cab0019fa64aaa8de216baf78719bd",
            "2ec8cf99c79d4858bed268507142172d",
            "db65177b6cb3447b9f0eed428bf938ba",
            "9ab93cf034324a47b3560dc19c355a53",
            "4122b1f896a34b3e838c4585839244b7",
            "953aa9a55e3b4dacaa3d2f5748cff8b3",
            "270fa313e8c9402ca226ef022d3ef51e",
            "94df07a2787340fd92982b3a13ceadba",
            "1ef970607a4d48cc96d1bb3c8289d6b4",
            "7d137ffcb1cb41dcb196d4db824098db",
            "d65d84935a11425cafe16693cd0574ee",
            "d04283059aea4708b0768f20d24a8336",
            "69eac7dc715f4123965b9a6c2674dbc7",
            "bed345b7f12e49968c266493b1a0def6",
            "a18d9b3ef77d4bd59577ad845ae759d9",
            "900b57b5fb6f49f9ac9691a518909210",
            "08238c28840b42fd9161da8b214aec7b",
            "7409ebcf3de34acfae16323c414c2b11",
            "2eaecbd444214f94948e0c43f415a34b"
          ]
        },
        "outputId": "f85405c4-cba6-4913-da12-07122c7e6c16"
      },
      "outputs": [
        {
          "output_type": "stream",
          "name": "stdout",
          "text": [
            "Downloading and preparing dataset 124.94 MiB (download: 124.94 MiB, generated: Unknown size, total: 124.94 MiB) to /root/tensorflow_datasets/ted_hrlr_translate/pt_to_en/1.0.0...\n"
          ]
        },
        {
          "output_type": "display_data",
          "data": {
            "text/plain": [
              "Dl Completed...: 0 url [00:00, ? url/s]"
            ],
            "application/vnd.jupyter.widget-view+json": {
              "version_major": 2,
              "version_minor": 0,
              "model_id": "37511f5a9af8456a88ac73def4dcafbc"
            }
          },
          "metadata": {}
        },
        {
          "output_type": "display_data",
          "data": {
            "text/plain": [
              "Dl Size...: 0 MiB [00:00, ? MiB/s]"
            ],
            "application/vnd.jupyter.widget-view+json": {
              "version_major": 2,
              "version_minor": 0,
              "model_id": "339d3ae439514b98b9304423d39b11dd"
            }
          },
          "metadata": {}
        },
        {
          "output_type": "display_data",
          "data": {
            "text/plain": [
              "Extraction completed...: 0 file [00:00, ? file/s]"
            ],
            "application/vnd.jupyter.widget-view+json": {
              "version_major": 2,
              "version_minor": 0,
              "model_id": "3729276c338c4ee781aa2b2c370bdcf2"
            }
          },
          "metadata": {}
        },
        {
          "output_type": "display_data",
          "data": {
            "text/plain": [
              "Generating splits...:   0%|          | 0/3 [00:00<?, ? splits/s]"
            ],
            "application/vnd.jupyter.widget-view+json": {
              "version_major": 2,
              "version_minor": 0,
              "model_id": "243e2dd6f66d4e22a994cc089ece6dc4"
            }
          },
          "metadata": {}
        },
        {
          "output_type": "display_data",
          "data": {
            "text/plain": [
              "Generating train examples...:   0%|          | 0/51785 [00:00<?, ? examples/s]"
            ],
            "application/vnd.jupyter.widget-view+json": {
              "version_major": 2,
              "version_minor": 0,
              "model_id": "cf69d23f314049deb87a71423575bfe2"
            }
          },
          "metadata": {}
        },
        {
          "output_type": "display_data",
          "data": {
            "text/plain": [
              "Shuffling /root/tensorflow_datasets/ted_hrlr_translate/pt_to_en/1.0.0.incompleteQT604Z/ted_hrlr_translate-trai…"
            ],
            "application/vnd.jupyter.widget-view+json": {
              "version_major": 2,
              "version_minor": 0,
              "model_id": "4c403d40b90948cebfb842ec031994bd"
            }
          },
          "metadata": {}
        },
        {
          "output_type": "display_data",
          "data": {
            "text/plain": [
              "Generating validation examples...:   0%|          | 0/1193 [00:00<?, ? examples/s]"
            ],
            "application/vnd.jupyter.widget-view+json": {
              "version_major": 2,
              "version_minor": 0,
              "model_id": "e8357d314c6a49609547c58d48453e08"
            }
          },
          "metadata": {}
        },
        {
          "output_type": "display_data",
          "data": {
            "text/plain": [
              "Shuffling /root/tensorflow_datasets/ted_hrlr_translate/pt_to_en/1.0.0.incompleteQT604Z/ted_hrlr_translate-vali…"
            ],
            "application/vnd.jupyter.widget-view+json": {
              "version_major": 2,
              "version_minor": 0,
              "model_id": "a91ab59b5319419c86d9ebe15af7709e"
            }
          },
          "metadata": {}
        },
        {
          "output_type": "display_data",
          "data": {
            "text/plain": [
              "Generating test examples...:   0%|          | 0/1803 [00:00<?, ? examples/s]"
            ],
            "application/vnd.jupyter.widget-view+json": {
              "version_major": 2,
              "version_minor": 0,
              "model_id": "59172e0f6cec48299a0044bec2c07763"
            }
          },
          "metadata": {}
        },
        {
          "output_type": "display_data",
          "data": {
            "text/plain": [
              "Shuffling /root/tensorflow_datasets/ted_hrlr_translate/pt_to_en/1.0.0.incompleteQT604Z/ted_hrlr_translate-test…"
            ],
            "application/vnd.jupyter.widget-view+json": {
              "version_major": 2,
              "version_minor": 0,
              "model_id": "1ef970607a4d48cc96d1bb3c8289d6b4"
            }
          },
          "metadata": {}
        },
        {
          "output_type": "stream",
          "name": "stdout",
          "text": [
            "Dataset ted_hrlr_translate downloaded and prepared to /root/tensorflow_datasets/ted_hrlr_translate/pt_to_en/1.0.0. Subsequent calls will reuse this data.\n"
          ]
        }
      ],
      "source": [
        "examples, metadata = tfds.load('ted_hrlr_translate/pt_to_en', with_info=True,\n",
        "                               as_supervised=True)\n",
        "train_examples, val_examples = examples['train'], examples['validation']"
      ]
    },
    {
      "cell_type": "markdown",
      "id": "837ea538",
      "metadata": {
        "id": "837ea538"
      },
      "source": [
        "Create a custom subwords tokenizer from the training dataset. "
      ]
    },
    {
      "cell_type": "code",
      "execution_count": null,
      "id": "05eb5f2a",
      "metadata": {
        "id": "05eb5f2a"
      },
      "outputs": [],
      "source": [
        "tokenizer_en = tfds.deprecated.text.SubwordTextEncoder.build_from_corpus(\n",
        "    (en.numpy() for pt, en in train_examples), target_vocab_size=2**13)\n",
        "\n",
        "tokenizer_pt = tfds.deprecated.text.SubwordTextEncoder.build_from_corpus(\n",
        "    (pt.numpy() for pt, en in train_examples), target_vocab_size=2**13)"
      ]
    },
    {
      "cell_type": "code",
      "execution_count": null,
      "id": "de595532",
      "metadata": {
        "id": "de595532",
        "colab": {
          "base_uri": "https://localhost:8080/"
        },
        "outputId": "b7b5c137-2baa-451b-90e4-b40a6dd6b901"
      },
      "outputs": [
        {
          "output_type": "stream",
          "name": "stdout",
          "text": [
            "Tokenized string is [7915, 1248, 7946, 7194, 13, 2799, 7877]\n",
            "The original string: Transformer is awesome.\n"
          ]
        }
      ],
      "source": [
        "sample_string = 'Transformer is awesome.'\n",
        "\n",
        "tokenized_string = tokenizer_en.encode(sample_string)\n",
        "print ('Tokenized string is {}'.format(tokenized_string))\n",
        "\n",
        "original_string = tokenizer_en.decode(tokenized_string)\n",
        "print ('The original string: {}'.format(original_string))\n",
        "\n",
        "assert original_string == sample_string"
      ]
    },
    {
      "cell_type": "markdown",
      "id": "3e56bbb6",
      "metadata": {
        "id": "3e56bbb6"
      },
      "source": [
        "The tokenizer encodes the string by breaking it into subwords if the word is not in its dictionary."
      ]
    },
    {
      "cell_type": "code",
      "execution_count": null,
      "id": "3f8f236e",
      "metadata": {
        "id": "3f8f236e",
        "colab": {
          "base_uri": "https://localhost:8080/"
        },
        "outputId": "80cd430f-6a25-4347-c811-f9c9ae1cd049"
      },
      "outputs": [
        {
          "output_type": "stream",
          "name": "stdout",
          "text": [
            "7915 ----> T\n",
            "1248 ----> ran\n",
            "7946 ----> s\n",
            "7194 ----> former \n",
            "13 ----> is \n",
            "2799 ----> awesome\n",
            "7877 ----> .\n"
          ]
        }
      ],
      "source": [
        "for ts in tokenized_string:\n",
        "  print ('{} ----> {}'.format(ts, tokenizer_en.decode([ts])))"
      ]
    },
    {
      "cell_type": "code",
      "execution_count": null,
      "id": "e9e2319a",
      "metadata": {
        "id": "e9e2319a"
      },
      "outputs": [],
      "source": [
        "BUFFER_SIZE = 20000\n",
        "BATCH_SIZE = 64"
      ]
    },
    {
      "cell_type": "markdown",
      "id": "21294664",
      "metadata": {
        "id": "21294664"
      },
      "source": [
        "Add a start and end token to the input and target. "
      ]
    },
    {
      "cell_type": "code",
      "execution_count": null,
      "id": "c2b2947f",
      "metadata": {
        "id": "c2b2947f"
      },
      "outputs": [],
      "source": [
        "def encode(lang1, lang2):\n",
        "  lang1 = [tokenizer_pt.vocab_size] + tokenizer_pt.encode(\n",
        "      lang1.numpy()) + [tokenizer_pt.vocab_size+1]\n",
        "\n",
        "  lang2 = [tokenizer_en.vocab_size] + tokenizer_en.encode(\n",
        "      lang2.numpy()) + [tokenizer_en.vocab_size+1]\n",
        "  \n",
        "  return lang1, lang2"
      ]
    },
    {
      "cell_type": "markdown",
      "id": "da42e625",
      "metadata": {
        "id": "da42e625"
      },
      "source": [
        "You want to use `Dataset.map` to apply this function to each element of the dataset.  `Dataset.map` runs in graph mode.\n",
        "\n",
        "* Graph tensors do not have a value. \n",
        "* In graph mode you can only use TensorFlow Ops and functions. \n",
        "\n",
        "So you can't `.map` this function directly: You need to wrap it in a `tf.py_function`. The `tf.py_function` will pass regular tensors (with a value and a `.numpy()` method to access it), to the wrapped python function."
      ]
    },
    {
      "cell_type": "code",
      "execution_count": null,
      "id": "69f6740a",
      "metadata": {
        "id": "69f6740a"
      },
      "outputs": [],
      "source": [
        "def tf_encode(pt, en):\n",
        "  result_pt, result_en = tf.py_function(encode, [pt, en], [tf.int64, tf.int64])\n",
        "  result_pt.set_shape([None])\n",
        "  result_en.set_shape([None])\n",
        "\n",
        "  return result_pt, result_en"
      ]
    },
    {
      "cell_type": "markdown",
      "id": "c4565870",
      "metadata": {
        "id": "c4565870"
      },
      "source": [
        "Note: To keep this example small and relatively fast, drop examples with a length of over 40 tokens."
      ]
    },
    {
      "cell_type": "code",
      "execution_count": null,
      "id": "c103d316",
      "metadata": {
        "id": "c103d316"
      },
      "outputs": [],
      "source": [
        "MAX_LENGTH = 40"
      ]
    },
    {
      "cell_type": "code",
      "execution_count": null,
      "id": "62935595",
      "metadata": {
        "id": "62935595"
      },
      "outputs": [],
      "source": [
        "def filter_max_length(x, y, max_length=MAX_LENGTH):\n",
        "  return tf.logical_and(tf.size(x) <= max_length,\n",
        "                        tf.size(y) <= max_length)"
      ]
    },
    {
      "cell_type": "code",
      "execution_count": null,
      "id": "e0efb3e2",
      "metadata": {
        "id": "e0efb3e2"
      },
      "outputs": [],
      "source": [
        "train_dataset = train_examples.map(tf_encode)\n",
        "train_dataset = train_dataset.filter(filter_max_length)\n",
        "# cache the dataset to memory to get a speedup while reading from it.\n",
        "train_dataset = train_dataset.cache()\n",
        "train_dataset = train_dataset.shuffle(BUFFER_SIZE).padded_batch(BATCH_SIZE)\n",
        "train_dataset = train_dataset.prefetch(tf.data.experimental.AUTOTUNE)\n",
        "\n",
        "\n",
        "val_dataset = val_examples.map(tf_encode)\n",
        "val_dataset = val_dataset.filter(filter_max_length).padded_batch(BATCH_SIZE)"
      ]
    },
    {
      "cell_type": "code",
      "execution_count": null,
      "id": "a0182b97",
      "metadata": {
        "id": "a0182b97",
        "colab": {
          "base_uri": "https://localhost:8080/"
        },
        "outputId": "f0dbcae1-1811-40b9-df61-4082ce0ade4b"
      },
      "outputs": [
        {
          "output_type": "execute_result",
          "data": {
            "text/plain": [
              "(<tf.Tensor: shape=(64, 38), dtype=int64, numpy=\n",
              " array([[8214,  342, 3032, ...,    0,    0,    0],\n",
              "        [8214,   95,  198, ...,    0,    0,    0],\n",
              "        [8214, 4479, 7990, ...,    0,    0,    0],\n",
              "        ...,\n",
              "        [8214,  584,   12, ...,    0,    0,    0],\n",
              "        [8214,   59, 1548, ...,    0,    0,    0],\n",
              "        [8214,  118,   34, ...,    0,    0,    0]])>,\n",
              " <tf.Tensor: shape=(64, 40), dtype=int64, numpy=\n",
              " array([[8087,   98,   25, ...,    0,    0,    0],\n",
              "        [8087,   12,   20, ...,    0,    0,    0],\n",
              "        [8087,   12, 5453, ...,    0,    0,    0],\n",
              "        ...,\n",
              "        [8087,   18, 2059, ...,    0,    0,    0],\n",
              "        [8087,   16, 1436, ...,    0,    0,    0],\n",
              "        [8087,   15,   57, ...,    0,    0,    0]])>)"
            ]
          },
          "metadata": {},
          "execution_count": 44
        }
      ],
      "source": [
        "pt_batch, en_batch = next(iter(val_dataset))\n",
        "pt_batch, en_batch"
      ]
    },
    {
      "cell_type": "markdown",
      "id": "e1da49e1",
      "metadata": {
        "id": "e1da49e1"
      },
      "source": [
        "<a class=\"anchor\" id=\"section13\"></a>\n",
        "<h2 style=\"color:blue;font-size: 2em;\">3. Positional encoding</h2>\n",
        "\n",
        "Since this model doesn't contain any recurrence or convolution, positional encoding is added to give the model some information about the relative position of the words in the sentence. \n",
        "\n",
        "The positional encoding vector is added to the embedding vector. Embeddings represent a token in a d-dimensional space where tokens with similar meaning will be closer to each other. But the embeddings do not encode the relative position of words in a sentence. So after adding the positional encoding, words will be closer to each other based on the *similarity of their meaning and their position in the sentence*, in the d-dimensional space.\n",
        "\n",
        "See the notebook on [positional encoding](https://github.com/tensorflow/examples/blob/master/community/en/position_encoding.ipynb) to learn more about it. The formula for calculating the positional encoding is as follows:\n",
        "\n",
        "$$\\Large{PE_{(pos, 2i)} = sin(pos / 10000^{2i / d_{model}})} $$\n",
        "$$\\Large{PE_{(pos, 2i+1)} = cos(pos / 10000^{2i / d_{model}})} $$"
      ]
    },
    {
      "cell_type": "code",
      "execution_count": null,
      "id": "c7d43cc0",
      "metadata": {
        "id": "c7d43cc0"
      },
      "outputs": [],
      "source": [
        "def get_angles(pos, i, d_model):\n",
        "  angle_rates = 1 / np.power(10000, (2 * (i//2)) / np.float32(d_model))\n",
        "  return pos * angle_rates"
      ]
    },
    {
      "cell_type": "code",
      "execution_count": null,
      "id": "7515eea8",
      "metadata": {
        "id": "7515eea8"
      },
      "outputs": [],
      "source": [
        "def positional_encoding(position, d_model):\n",
        "  angle_rads = get_angles(np.arange(position)[:, np.newaxis],\n",
        "                          np.arange(d_model)[np.newaxis, :],\n",
        "                          d_model)\n",
        "  \n",
        "  # apply sin to even indices in the array; 2i\n",
        "  angle_rads[:, 0::2] = np.sin(angle_rads[:, 0::2])\n",
        "  \n",
        "  # apply cos to odd indices in the array; 2i+1\n",
        "  angle_rads[:, 1::2] = np.cos(angle_rads[:, 1::2])\n",
        "    \n",
        "  pos_encoding = angle_rads[np.newaxis, ...]\n",
        "    \n",
        "  return tf.cast(pos_encoding, dtype=tf.float32)"
      ]
    },
    {
      "cell_type": "code",
      "execution_count": null,
      "id": "819e8ecc",
      "metadata": {
        "id": "819e8ecc",
        "colab": {
          "base_uri": "https://localhost:8080/",
          "height": 473
        },
        "outputId": "8053455c-9459-424c-c174-e5da51730ad6"
      },
      "outputs": [
        {
          "output_type": "stream",
          "name": "stdout",
          "text": [
            "(1, 50, 512)\n"
          ]
        },
        {
          "output_type": "display_data",
          "data": {
            "text/plain": [
              "<Figure size 640x480 with 2 Axes>"
            ],
            "image/png": "[encoded data removed]"
          },
          "metadata": {}
        }
      ],
      "source": [
        "pos_encoding = positional_encoding(50, 512)\n",
        "print (pos_encoding.shape)\n",
        "\n",
        "plt.pcolormesh(pos_encoding[0], cmap='RdBu')\n",
        "plt.xlabel('Depth')\n",
        "plt.xlim((0, 512))\n",
        "plt.ylabel('Position')\n",
        "plt.colorbar()\n",
        "plt.show()"
      ]
    },
    {
      "cell_type": "markdown",
      "id": "45eaf331",
      "metadata": {
        "id": "45eaf331"
      },
      "source": [
        "<a class=\"anchor\" id=\"section14\"></a>\n",
        "<h2 style=\"color:blue;font-size: 2em;\">Masking</h2>"
      ]
    },
    {
      "cell_type": "markdown",
      "id": "60c40776",
      "metadata": {
        "id": "60c40776"
      },
      "source": [
        "Mask all the pad tokens in the batch of sequence. It ensures that the model does not treat padding as the input. The mask indicates where pad value `0` is present: it outputs a `1` at those locations, and a `0` otherwise."
      ]
    },
    {
      "cell_type": "code",
      "execution_count": null,
      "id": "a26fbee5",
      "metadata": {
        "id": "a26fbee5"
      },
      "outputs": [],
      "source": [
        "def create_padding_mask(seq):\n",
        "  seq = tf.cast(tf.math.equal(seq, 0), tf.float32)\n",
        "  \n",
        "  # add extra dimensions to add the padding\n",
        "  # to the attention logits.\n",
        "  return seq[:, tf.newaxis, tf.newaxis, :]  # (batch_size, 1, 1, seq_len)"
      ]
    },
    {
      "cell_type": "code",
      "execution_count": null,
      "id": "c28b86be",
      "metadata": {
        "id": "c28b86be",
        "colab": {
          "base_uri": "https://localhost:8080/"
        },
        "outputId": "28cbac4c-92d9-493b-aa52-a5ace8c49fec"
      },
      "outputs": [
        {
          "output_type": "execute_result",
          "data": {
            "text/plain": [
              "<tf.Tensor: shape=(3, 1, 1, 5), dtype=float32, numpy=\n",
              "array([[[[0., 0., 1., 1., 0.]]],\n",
              "\n",
              "\n",
              "       [[[0., 0., 0., 1., 1.]]],\n",
              "\n",
              "\n",
              "       [[[1., 1., 1., 0., 0.]]]], dtype=float32)>"
            ]
          },
          "metadata": {},
          "execution_count": 49
        }
      ],
      "source": [
        "x = tf.constant([[7, 6, 0, 0, 1], [1, 2, 3, 0, 0], [0, 0, 0, 4, 5]])\n",
        "create_padding_mask(x)"
      ]
    },
    {
      "cell_type": "markdown",
      "id": "86cff0d5",
      "metadata": {
        "id": "86cff0d5"
      },
      "source": [
        "The look-ahead mask is used to mask the future tokens in a sequence. In other words, the mask indicates which entries should not be used.\n",
        "\n",
        "This means that to predict the third word, only the first and second word will be used. Similarly to predict the fourth word, only the first, second and the third word will be used and so on."
      ]
    },
    {
      "cell_type": "code",
      "execution_count": null,
      "id": "98069a84",
      "metadata": {
        "id": "98069a84"
      },
      "outputs": [],
      "source": [
        "def create_look_ahead_mask(size):\n",
        "  mask = 1 - tf.linalg.band_part(tf.ones((size, size)), -1, 0)\n",
        "  return mask  # (seq_len, seq_len)"
      ]
    },
    {
      "cell_type": "code",
      "execution_count": null,
      "id": "ed6ec147",
      "metadata": {
        "id": "ed6ec147",
        "colab": {
          "base_uri": "https://localhost:8080/"
        },
        "outputId": "20332b41-d29b-4a36-cbeb-04ba5be31603"
      },
      "outputs": [
        {
          "output_type": "execute_result",
          "data": {
            "text/plain": [
              "<tf.Tensor: shape=(3, 3), dtype=float32, numpy=\n",
              "array([[0., 1., 1.],\n",
              "       [0., 0., 1.],\n",
              "       [0., 0., 0.]], dtype=float32)>"
            ]
          },
          "metadata": {},
          "execution_count": 51
        }
      ],
      "source": [
        "x = tf.random.uniform((1, 3))\n",
        "temp = create_look_ahead_mask(x.shape[1])\n",
        "temp"
      ]
    },
    {
      "cell_type": "markdown",
      "id": "7148eafb",
      "metadata": {
        "id": "7148eafb"
      },
      "source": [
        "<a class=\"anchor\" id=\"section14\"></a>\n",
        "<h2 style=\"color:blue;font-size: 2em;\">4. Scaled dot product attention</h2>"
      ]
    },
    {
      "cell_type": "markdown",
      "id": "4e94e2c0",
      "metadata": {
        "id": "4e94e2c0"
      },
      "source": [
        "<img src=\"https://www.tensorflow.org/images/tutorials/transformer/scaled_attention.png\" width=\"500\" alt=\"scaled_dot_product_attention\">\n",
        "\n",
        "The attention function used by the transformer takes three inputs: Q (query), K (key), V (value). The equation used to calculate the attention weights is:\n",
        "\n",
        "$$\\Large{Attention(Q, K, V) = softmax_k(\\frac{QK^T}{\\sqrt{d_k}}) V} $$\n",
        "\n",
        "The dot-product attention is scaled by a factor of square root of the depth. This is done because for large values of depth, the dot product grows large in magnitude pushing the softmax function where it has small gradients resulting in a very hard softmax. \n",
        "\n",
        "For example, consider that `Q` and `K` have a mean of 0 and variance of 1. Their matrix multiplication will have a mean of 0 and variance of `dk`. Hence, *square root of `dk`* is used for scaling (and not any other number) because the matmul of `Q` and `K` should have a mean of 0 and variance of 1, and you get a gentler softmax.\n",
        "\n",
        "The mask is multiplied with -1e9 (close to negative infinity). This is done because the mask is summed with the scaled matrix multiplication of Q and K and is applied immediately before a softmax. The goal is to zero out these cells, and large negative inputs to softmax are near zero in the output."
      ]
    },
    {
      "cell_type": "code",
      "execution_count": null,
      "id": "f3cdfb2d",
      "metadata": {
        "id": "f3cdfb2d"
      },
      "outputs": [],
      "source": [
        "def scaled_dot_product_attention(q, k, v, mask):\n",
        "  \"\"\"Calculate the attention weights.\n",
        "  q, k, v must have matching leading dimensions.\n",
        "  k, v must have matching penultimate dimension, i.e.: seq_len_k = seq_len_v.\n",
        "  The mask has different shapes depending on its type(padding or look ahead) \n",
        "  but it must be broadcastable for addition.\n",
        "  \n",
        "  Args:\n",
        "    q: query shape == (..., seq_len_q, depth)\n",
        "    k: key shape == (..., seq_len_k, depth)\n",
        "    v: value shape == (..., seq_len_v, depth_v)\n",
        "    mask: Float tensor with shape broadcastable \n",
        "          to (..., seq_len_q, seq_len_k). Defaults to None.\n",
        "    \n",
        "  Returns:\n",
        "    output, attention_weights\n",
        "  \"\"\"\n",
        "\n",
        "  matmul_qk = tf.matmul(q, k, transpose_b=True)  # (..., seq_len_q, seq_len_k)\n",
        "  \n",
        "  # scale matmul_qk\n",
        "  dk = tf.cast(tf.shape(k)[-1], tf.float32)\n",
        "  scaled_attention_logits = matmul_qk / tf.math.sqrt(dk)\n",
        "\n",
        "  # add the mask to the scaled tensor.\n",
        "  if mask is not None:\n",
        "    scaled_attention_logits += (mask * -1e9)  \n",
        "\n",
        "  # softmax is normalized on the last axis (seq_len_k) so that the scores\n",
        "  # add up to 1.\n",
        "  attention_weights = tf.nn.softmax(scaled_attention_logits, axis=-1)  # (..., seq_len_q, seq_len_k)\n",
        "\n",
        "  output = tf.matmul(attention_weights, v)  # (..., seq_len_q, depth_v)\n",
        "\n",
        "  return output, attention_weights"
      ]
    },
    {
      "cell_type": "markdown",
      "id": "8cd820f2",
      "metadata": {
        "id": "8cd820f2"
      },
      "source": [
        "As the softmax normalization is done on K, its values decide the amount of importance given to Q.\n",
        "\n",
        "The output represents the multiplication of the attention weights and the V (value) vector. This ensures that the words you want to focus on are kept as-is and the irrelevant words are flushed out."
      ]
    },
    {
      "cell_type": "code",
      "execution_count": null,
      "id": "80f7e0fc",
      "metadata": {
        "id": "80f7e0fc"
      },
      "outputs": [],
      "source": [
        "def print_out(q, k, v):\n",
        "  temp_out, temp_attn = scaled_dot_product_attention(\n",
        "      q, k, v, None)\n",
        "  print ('Attention weights are:')\n",
        "  print (temp_attn)\n",
        "  print ('Output is:')\n",
        "  print (temp_out)"
      ]
    },
    {
      "cell_type": "code",
      "execution_count": null,
      "id": "81c4eaf6",
      "metadata": {
        "id": "81c4eaf6",
        "colab": {
          "base_uri": "https://localhost:8080/"
        },
        "outputId": "b0491b8b-6ff8-4a44-de25-7ff51ad66253"
      },
      "outputs": [
        {
          "output_type": "stream",
          "name": "stdout",
          "text": [
            "Attention weights are:\n",
            "tf.Tensor([[0. 1. 0. 0.]], shape=(1, 4), dtype=float32)\n",
            "Output is:\n",
            "tf.Tensor([[10.  0.]], shape=(1, 2), dtype=float32)\n"
          ]
        }
      ],
      "source": [
        "np.set_printoptions(suppress=True)\n",
        "\n",
        "temp_k = tf.constant([[10,0,0],\n",
        "                      [0,10,0],\n",
        "                      [0,0,10],\n",
        "                      [0,0,10]], dtype=tf.float32)  # (4, 3)\n",
        "\n",
        "temp_v = tf.constant([[   1,0],\n",
        "                      [  10,0],\n",
        "                      [ 100,5],\n",
        "                      [1000,6]], dtype=tf.float32)  # (4, 2)\n",
        "\n",
        "# This `query` aligns with the second `key`,\n",
        "# so the second `value` is returned.\n",
        "temp_q = tf.constant([[0, 10, 0]], dtype=tf.float32)  # (1, 3)\n",
        "print_out(temp_q, temp_k, temp_v)"
      ]
    },
    {
      "cell_type": "code",
      "execution_count": null,
      "id": "bac5c435",
      "metadata": {
        "id": "bac5c435",
        "colab": {
          "base_uri": "https://localhost:8080/"
        },
        "outputId": "416e1928-b650-4d26-cbf5-0a1d2258a82d"
      },
      "outputs": [
        {
          "output_type": "stream",
          "name": "stdout",
          "text": [
            "Attention weights are:\n",
            "tf.Tensor([[0.  0.  0.5 0.5]], shape=(1, 4), dtype=float32)\n",
            "Output is:\n",
            "tf.Tensor([[550.    5.5]], shape=(1, 2), dtype=float32)\n"
          ]
        }
      ],
      "source": [
        "# This query aligns with a repeated key (third and fourth), \n",
        "# so all associated values get averaged.\n",
        "temp_q = tf.constant([[0, 0, 10]], dtype=tf.float32)  # (1, 3)\n",
        "print_out(temp_q, temp_k, temp_v)"
      ]
    },
    {
      "cell_type": "code",
      "execution_count": null,
      "id": "9e8163b6",
      "metadata": {
        "id": "9e8163b6",
        "colab": {
          "base_uri": "https://localhost:8080/"
        },
        "outputId": "0b8c910f-eddb-4324-ff95-4be9b49b7822"
      },
      "outputs": [
        {
          "output_type": "stream",
          "name": "stdout",
          "text": [
            "Attention weights are:\n",
            "tf.Tensor([[0.5 0.5 0.  0. ]], shape=(1, 4), dtype=float32)\n",
            "Output is:\n",
            "tf.Tensor([[5.5 0. ]], shape=(1, 2), dtype=float32)\n"
          ]
        }
      ],
      "source": [
        "# This query aligns equally with the first and second key, \n",
        "# so their values get averaged.\n",
        "temp_q = tf.constant([[10, 10, 0]], dtype=tf.float32)  # (1, 3)\n",
        "print_out(temp_q, temp_k, temp_v)"
      ]
    },
    {
      "cell_type": "markdown",
      "id": "69fbb630",
      "metadata": {
        "id": "69fbb630"
      },
      "source": [
        "Pass all the queries together."
      ]
    },
    {
      "cell_type": "code",
      "execution_count": null,
      "id": "03120d2d",
      "metadata": {
        "id": "03120d2d",
        "colab": {
          "base_uri": "https://localhost:8080/"
        },
        "outputId": "ce47b9e3-5410-4b50-b2ce-e2bb246546ff"
      },
      "outputs": [
        {
          "output_type": "stream",
          "name": "stdout",
          "text": [
            "Attention weights are:\n",
            "tf.Tensor(\n",
            "[[0.  0.  0.5 0.5]\n",
            " [0.  1.  0.  0. ]\n",
            " [0.5 0.5 0.  0. ]], shape=(3, 4), dtype=float32)\n",
            "Output is:\n",
            "tf.Tensor(\n",
            "[[550.    5.5]\n",
            " [ 10.    0. ]\n",
            " [  5.5   0. ]], shape=(3, 2), dtype=float32)\n"
          ]
        }
      ],
      "source": [
        "temp_q = tf.constant([[0, 0, 10], [0, 10, 0], [10, 10, 0]], dtype=tf.float32)  # (3, 3)\n",
        "print_out(temp_q, temp_k, temp_v)"
      ]
    },
    {
      "cell_type": "markdown",
      "id": "9aedc53c",
      "metadata": {
        "id": "9aedc53c"
      },
      "source": [
        "<a class=\"anchor\" id=\"section14\"></a>\n",
        "<h2 style=\"color:blue;font-size: 2em;\">5. Multi-head attention</h2>"
      ]
    },
    {
      "cell_type": "markdown",
      "id": "bc55ab65",
      "metadata": {
        "id": "bc55ab65"
      },
      "source": [
        "<img src=\"https://www.tensorflow.org/images/tutorials/transformer/multi_head_attention.png\" width=\"500\" alt=\"multi-head attention\">\n",
        "\n",
        "\n",
        "Multi-head attention consists of four parts:\n",
        "*    Linear layers and split into heads.\n",
        "*    Scaled dot-product attention.\n",
        "*    Concatenation of heads.\n",
        "*    Final linear layer."
      ]
    },
    {
      "cell_type": "markdown",
      "id": "0d0ea23f",
      "metadata": {
        "id": "0d0ea23f"
      },
      "source": [
        "Each multi-head attention block gets three inputs; Q (query), K (key), V (value). These are put through linear (Dense) layers and split up into multiple heads. \n",
        "\n",
        "The `scaled_dot_product_attention` defined above is applied to each head (broadcasted for efficiency). An appropriate mask must be used in the attention step.  The attention output for each head is then concatenated (using `tf.transpose`, and `tf.reshape`) and put through a final `Dense` layer.\n",
        "\n",
        "Instead of one single attention head, Q, K, and V are split into multiple heads because it allows the model to jointly attend to information at different positions from different representational spaces. After the split each head has a reduced dimensionality, so the total computation cost is the same as a single head attention with full dimensionality."
      ]
    },
    {
      "cell_type": "code",
      "execution_count": null,
      "id": "5617cab8",
      "metadata": {
        "id": "5617cab8"
      },
      "outputs": [],
      "source": [
        "class MultiHeadAttention(tf.keras.layers.Layer):\n",
        "  def __init__(self, d_model, num_heads):\n",
        "    super(MultiHeadAttention, self).__init__()\n",
        "    self.num_heads = num_heads\n",
        "    self.d_model = d_model\n",
        "    \n",
        "    assert d_model % self.num_heads == 0\n",
        "    \n",
        "    self.depth = d_model // self.num_heads\n",
        "    \n",
        "    self.wq = tf.keras.layers.Dense(d_model)\n",
        "    self.wk = tf.keras.layers.Dense(d_model)\n",
        "    self.wv = tf.keras.layers.Dense(d_model)\n",
        "    \n",
        "    self.dense = tf.keras.layers.Dense(d_model)\n",
        "        \n",
        "  def split_heads(self, x, batch_size):\n",
        "    \"\"\"Split the last dimension into (num_heads, depth).\n",
        "    Transpose the result such that the shape is (batch_size, num_heads, seq_len, depth)\n",
        "    \"\"\"\n",
        "    x = tf.reshape(x, (batch_size, -1, self.num_heads, self.depth))\n",
        "    return tf.transpose(x, perm=[0, 2, 1, 3])\n",
        "    \n",
        "  def call(self, v, k, q, mask):\n",
        "    batch_size = tf.shape(q)[0]\n",
        "    \n",
        "    q = self.wq(q)  # (batch_size, seq_len, d_model)\n",
        "    k = self.wk(k)  # (batch_size, seq_len, d_model)\n",
        "    v = self.wv(v)  # (batch_size, seq_len, d_model)\n",
        "    \n",
        "    q = self.split_heads(q, batch_size)  # (batch_size, num_heads, seq_len_q, depth)\n",
        "    k = self.split_heads(k, batch_size)  # (batch_size, num_heads, seq_len_k, depth)\n",
        "    v = self.split_heads(v, batch_size)  # (batch_size, num_heads, seq_len_v, depth)\n",
        "    \n",
        "    # scaled_attention.shape == (batch_size, num_heads, seq_len_q, depth)\n",
        "    # attention_weights.shape == (batch_size, num_heads, seq_len_q, seq_len_k)\n",
        "    scaled_attention, attention_weights = scaled_dot_product_attention(\n",
        "        q, k, v, mask)\n",
        "    \n",
        "    scaled_attention = tf.transpose(scaled_attention, perm=[0, 2, 1, 3])  # (batch_size, seq_len_q, num_heads, depth)\n",
        "\n",
        "    concat_attention = tf.reshape(scaled_attention, \n",
        "                                  (batch_size, -1, self.d_model))  # (batch_size, seq_len_q, d_model)\n",
        "\n",
        "    output = self.dense(concat_attention)  # (batch_size, seq_len_q, d_model)\n",
        "        \n",
        "    return output, attention_weights"
      ]
    },
    {
      "cell_type": "markdown",
      "id": "00e13f72",
      "metadata": {
        "id": "00e13f72"
      },
      "source": [
        "Create a `MultiHeadAttention` layer to try out. At each location in the sequence, `y`, the `MultiHeadAttention` runs all 8 attention heads across all other locations in the sequence, returning a new vector of the same length at each location."
      ]
    },
    {
      "cell_type": "code",
      "execution_count": null,
      "id": "7910a721",
      "metadata": {
        "id": "7910a721",
        "colab": {
          "base_uri": "https://localhost:8080/"
        },
        "outputId": "a24f829c-b89b-45fb-a063-5b7eabc1eb7a"
      },
      "outputs": [
        {
          "output_type": "execute_result",
          "data": {
            "text/plain": [
              "(TensorShape([1, 60, 512]), TensorShape([1, 8, 60, 60]))"
            ]
          },
          "metadata": {},
          "execution_count": 59
        }
      ],
      "source": [
        "temp_mha = MultiHeadAttention(d_model=512, num_heads=8)\n",
        "y = tf.random.uniform((1, 60, 512))  # (batch_size, encoder_sequence, d_model)\n",
        "out, attn = temp_mha(y, k=y, q=y, mask=None)\n",
        "out.shape, attn.shape"
      ]
    },
    {
      "cell_type": "markdown",
      "id": "dde07df3",
      "metadata": {
        "id": "dde07df3"
      },
      "source": [
        "<a class=\"anchor\" id=\"section15\"></a>\n",
        "<h2 style=\"color:blue;font-size: 2em;\">6. Point wise feed forward network</h2>"
      ]
    },
    {
      "cell_type": "markdown",
      "id": "cad498c4",
      "metadata": {
        "id": "cad498c4"
      },
      "source": [
        "Point wise feed forward network consists of two fully-connected layers with a ReLU activation in between."
      ]
    },
    {
      "cell_type": "code",
      "execution_count": null,
      "id": "3f6478c5",
      "metadata": {
        "id": "3f6478c5"
      },
      "outputs": [],
      "source": [
        "def point_wise_feed_forward_network(d_model, dff):\n",
        "  return tf.keras.Sequential([\n",
        "      tf.keras.layers.Dense(dff, activation='relu'),  # (batch_size, seq_len, dff)\n",
        "      tf.keras.layers.Dense(d_model)  # (batch_size, seq_len, d_model)\n",
        "  ])"
      ]
    },
    {
      "cell_type": "code",
      "execution_count": null,
      "id": "d10b16b4",
      "metadata": {
        "id": "d10b16b4",
        "colab": {
          "base_uri": "https://localhost:8080/"
        },
        "outputId": "31045a55-de66-4fef-c661-59724cc098ee"
      },
      "outputs": [
        {
          "output_type": "execute_result",
          "data": {
            "text/plain": [
              "TensorShape([64, 50, 512])"
            ]
          },
          "metadata": {},
          "execution_count": 61
        }
      ],
      "source": [
        "sample_ffn = point_wise_feed_forward_network(512, 2048)\n",
        "sample_ffn(tf.random.uniform((64, 50, 512))).shape"
      ]
    },
    {
      "cell_type": "markdown",
      "id": "4e089bc0",
      "metadata": {
        "id": "4e089bc0"
      },
      "source": [
        "<a class=\"anchor\" id=\"section16\"></a>\n",
        "<h2 style=\"color:blue;font-size: 2em;\">7. Encoder and decoder</h2>"
      ]
    },
    {
      "cell_type": "markdown",
      "id": "07d84b98",
      "metadata": {
        "id": "07d84b98"
      },
      "source": [
        "<img src=\"https://www.tensorflow.org/images/tutorials/transformer/transformer.png\" width=\"600\" alt=\"transformer\">"
      ]
    },
    {
      "cell_type": "markdown",
      "id": "c4e14139",
      "metadata": {
        "id": "c4e14139"
      },
      "source": [
        "The transformer model follows the same general pattern as a standard. \n",
        "\n",
        "* The input sentence is passed through `N` encoder layers that generates an output for each word/token in the sequence.\n",
        "* The decoder attends on the encoder's output and its own input (self-attention) to predict the next word. "
      ]
    },
    {
      "cell_type": "markdown",
      "id": "9c10bfa3",
      "metadata": {
        "id": "9c10bfa3"
      },
      "source": [
        "<a class=\"anchor\" id=\"section17\"></a>\n",
        "<h2 style=\"color:blue;font-size: 2em;\">Encoder layer</h2>\n",
        "\n",
        "Each encoder layer consists of sublayers:\n",
        "\n",
        "1.   Multi-head attention (with padding mask) \n",
        "2.    Point wise feed forward networks. \n",
        "\n",
        "Each of these sublayers has a residual connection around it followed by a layer normalization. Residual connections help in avoiding the vanishing gradient problem in deep networks.\n",
        "\n",
        "The output of each sublayer is `LayerNorm(x + Sublayer(x))`. The normalization is done on the `d_model` (last) axis. There are N encoder layers in the transformer."
      ]
    },
    {
      "cell_type": "code",
      "execution_count": null,
      "id": "d248d0ea",
      "metadata": {
        "id": "d248d0ea"
      },
      "outputs": [],
      "source": [
        "class EncoderLayer(tf.keras.layers.Layer):\n",
        "  def __init__(self, d_model, num_heads, dff, rate=0.1):\n",
        "    super(EncoderLayer, self).__init__()\n",
        "\n",
        "    self.mha = MultiHeadAttention(d_model, num_heads)\n",
        "    self.ffn = point_wise_feed_forward_network(d_model, dff)\n",
        "\n",
        "    self.layernorm1 = tf.keras.layers.LayerNormalization(epsilon=1e-6)\n",
        "    self.layernorm2 = tf.keras.layers.LayerNormalization(epsilon=1e-6)\n",
        "    \n",
        "    self.dropout1 = tf.keras.layers.Dropout(rate)\n",
        "    self.dropout2 = tf.keras.layers.Dropout(rate)\n",
        "    \n",
        "  def call(self, x, training, mask):\n",
        "\n",
        "    attn_output, _ = self.mha(x, x, x, mask)  # (batch_size, input_seq_len, d_model)\n",
        "    attn_output = self.dropout1(attn_output, training=training)\n",
        "    out1 = self.layernorm1(x + attn_output)  # (batch_size, input_seq_len, d_model)\n",
        "    \n",
        "    ffn_output = self.ffn(out1)  # (batch_size, input_seq_len, d_model)\n",
        "    ffn_output = self.dropout2(ffn_output, training=training)\n",
        "    out2 = self.layernorm2(out1 + ffn_output)  # (batch_size, input_seq_len, d_model)\n",
        "    \n",
        "    return out2"
      ]
    },
    {
      "cell_type": "code",
      "execution_count": null,
      "id": "e201c8ee",
      "metadata": {
        "id": "e201c8ee",
        "colab": {
          "base_uri": "https://localhost:8080/"
        },
        "outputId": "14c7f4c8-6005-49e3-8f7a-71790226ea95"
      },
      "outputs": [
        {
          "output_type": "execute_result",
          "data": {
            "text/plain": [
              "TensorShape([64, 43, 512])"
            ]
          },
          "metadata": {},
          "execution_count": 63
        }
      ],
      "source": [
        "sample_encoder_layer = EncoderLayer(512, 8, 2048)\n",
        "\n",
        "sample_encoder_layer_output = sample_encoder_layer(\n",
        "    tf.random.uniform((64, 43, 512)), False, None)\n",
        "\n",
        "sample_encoder_layer_output.shape  # (batch_size, input_seq_len, d_model)"
      ]
    },
    {
      "cell_type": "markdown",
      "id": "af7c34e3",
      "metadata": {
        "id": "af7c34e3"
      },
      "source": [
        "<a class=\"anchor\" id=\"section18\"></a>\n",
        "<h2 style=\"color:blue;font-size: 2em;\">Decoder layer</h2>\n",
        "\n",
        "Each decoder layer consists of sublayers:\n",
        "\n",
        "1.   Masked multi-head attention (with look ahead mask and padding mask)\n",
        "2.   Multi-head attention (with padding mask). V (value) and K (key) receive the *encoder output* as inputs. Q (query) receives the *output from the masked multi-head attention sublayer.*\n",
        "3.   Point wise feed forward networks\n",
        "\n",
        "Each of these sublayers has a residual connection around it followed by a layer normalization. The output of each sublayer is `LayerNorm(x + Sublayer(x))`. The normalization is done on the `d_model` (last) axis.\n",
        "\n",
        "There are N decoder layers in the transformer.\n",
        "\n",
        "As Q receives the output from decoder's first attention block, and K receives the encoder output, the attention weights represent the importance given to the decoder's input based on the encoder's output. In other words, the decoder predicts the next word by looking at the encoder output and self-attending to its own output. See the demonstration above in the scaled dot product attention section."
      ]
    },
    {
      "cell_type": "code",
      "execution_count": null,
      "id": "f92833ed",
      "metadata": {
        "id": "f92833ed"
      },
      "outputs": [],
      "source": [
        "class DecoderLayer(tf.keras.layers.Layer):\n",
        "  def __init__(self, d_model, num_heads, dff, rate=0.1):\n",
        "    super(DecoderLayer, self).__init__()\n",
        "\n",
        "    self.mha1 = MultiHeadAttention(d_model, num_heads)\n",
        "    self.mha2 = MultiHeadAttention(d_model, num_heads)\n",
        "\n",
        "    self.ffn = point_wise_feed_forward_network(d_model, dff)\n",
        " \n",
        "    self.layernorm1 = tf.keras.layers.LayerNormalization(epsilon=1e-6)\n",
        "    self.layernorm2 = tf.keras.layers.LayerNormalization(epsilon=1e-6)\n",
        "    self.layernorm3 = tf.keras.layers.LayerNormalization(epsilon=1e-6)\n",
        "    \n",
        "    self.dropout1 = tf.keras.layers.Dropout(rate)\n",
        "    self.dropout2 = tf.keras.layers.Dropout(rate)\n",
        "    self.dropout3 = tf.keras.layers.Dropout(rate)\n",
        "    \n",
        "    \n",
        "  def call(self, x, enc_output, training, \n",
        "           look_ahead_mask, padding_mask):\n",
        "    # enc_output.shape == (batch_size, input_seq_len, d_model)\n",
        "\n",
        "    attn1, attn_weights_block1 = self.mha1(x, x, x, look_ahead_mask)  # (batch_size, target_seq_len, d_model)\n",
        "    attn1 = self.dropout1(attn1, training=training)\n",
        "    out1 = self.layernorm1(attn1 + x)\n",
        "    \n",
        "    attn2, attn_weights_block2 = self.mha2(\n",
        "        enc_output, enc_output, out1, padding_mask)  # (batch_size, target_seq_len, d_model)\n",
        "    attn2 = self.dropout2(attn2, training=training)\n",
        "    out2 = self.layernorm2(attn2 + out1)  # (batch_size, target_seq_len, d_model)\n",
        "    \n",
        "    ffn_output = self.ffn(out2)  # (batch_size, target_seq_len, d_model)\n",
        "    ffn_output = self.dropout3(ffn_output, training=training)\n",
        "    out3 = self.layernorm3(ffn_output + out2)  # (batch_size, target_seq_len, d_model)\n",
        "    \n",
        "    return out3, attn_weights_block1, attn_weights_block2"
      ]
    },
    {
      "cell_type": "code",
      "execution_count": null,
      "id": "2280f20c",
      "metadata": {
        "id": "2280f20c",
        "colab": {
          "base_uri": "https://localhost:8080/"
        },
        "outputId": "48c979f6-abf5-4365-fe0f-17a711dc0288"
      },
      "outputs": [
        {
          "output_type": "execute_result",
          "data": {
            "text/plain": [
              "TensorShape([64, 50, 512])"
            ]
          },
          "metadata": {},
          "execution_count": 65
        }
      ],
      "source": [
        "sample_decoder_layer = DecoderLayer(512, 8, 2048)\n",
        "\n",
        "sample_decoder_layer_output, _, _ = sample_decoder_layer(\n",
        "    tf.random.uniform((64, 50, 512)), sample_encoder_layer_output, \n",
        "    False, None, None)\n",
        "\n",
        "sample_decoder_layer_output.shape  # (batch_size, target_seq_len, d_model)"
      ]
    },
    {
      "cell_type": "markdown",
      "id": "0694b587",
      "metadata": {
        "id": "0694b587"
      },
      "source": [
        "<a class=\"anchor\" id=\"section19\"></a>\n",
        "<h2 style=\"color:blue;font-size: 2em;\">Encoder</h2>\n",
        "\n",
        "The `Encoder` consists of:\n",
        "1.   Input Embedding\n",
        "2.   Positional Encoding\n",
        "3.   N encoder layers\n",
        "\n",
        "The input is put through an embedding which is summed with the positional encoding. The output of this summation is the input to the encoder layers. The output of the encoder is the input to the decoder."
      ]
    },
    {
      "cell_type": "code",
      "execution_count": null,
      "id": "befff418",
      "metadata": {
        "id": "befff418"
      },
      "outputs": [],
      "source": [
        "class Encoder(tf.keras.layers.Layer):\n",
        "  def __init__(self, num_layers, d_model, num_heads, dff, input_vocab_size,\n",
        "               maximum_position_encoding, rate=0.1):\n",
        "    super(Encoder, self).__init__()\n",
        "\n",
        "    self.d_model = d_model\n",
        "    self.num_layers = num_layers\n",
        "    \n",
        "    self.embedding = tf.keras.layers.Embedding(input_vocab_size, d_model)\n",
        "    self.pos_encoding = positional_encoding(maximum_position_encoding, \n",
        "                                            self.d_model)\n",
        "    \n",
        "    \n",
        "    self.enc_layers = [EncoderLayer(d_model, num_heads, dff, rate) \n",
        "                       for _ in range(num_layers)]\n",
        "  \n",
        "    self.dropout = tf.keras.layers.Dropout(rate)\n",
        "        \n",
        "  def call(self, x, training, mask):\n",
        "\n",
        "    seq_len = tf.shape(x)[1]\n",
        "    \n",
        "    # adding embedding and position encoding.\n",
        "    x = self.embedding(x)  # (batch_size, input_seq_len, d_model)\n",
        "    x *= tf.math.sqrt(tf.cast(self.d_model, tf.float32))\n",
        "    x += self.pos_encoding[:, :seq_len, :]\n",
        "\n",
        "    x = self.dropout(x, training=training)\n",
        "    \n",
        "    for i in range(self.num_layers):\n",
        "      x = self.enc_layers[i](x, training, mask)\n",
        "    \n",
        "    return x  # (batch_size, input_seq_len, d_model)"
      ]
    },
    {
      "cell_type": "code",
      "execution_count": null,
      "id": "90dfc740",
      "metadata": {
        "id": "90dfc740",
        "colab": {
          "base_uri": "https://localhost:8080/"
        },
        "outputId": "a682f4ae-7569-441a-c949-e21889428bda"
      },
      "outputs": [
        {
          "output_type": "stream",
          "name": "stdout",
          "text": [
            "(64, 62, 512)\n"
          ]
        }
      ],
      "source": [
        "sample_encoder = Encoder(num_layers=2, d_model=512, num_heads=8, \n",
        "                         dff=2048, input_vocab_size=8500,\n",
        "                         maximum_position_encoding=10000)\n",
        "temp_input = tf.random.uniform((64, 62), dtype=tf.int64, minval=0, maxval=200)\n",
        "\n",
        "sample_encoder_output = sample_encoder(temp_input, training=False, mask=None)\n",
        "\n",
        "print (sample_encoder_output.shape)  # (batch_size, input_seq_len, d_model)"
      ]
    },
    {
      "cell_type": "markdown",
      "id": "dfe4ecf2",
      "metadata": {
        "id": "dfe4ecf2"
      },
      "source": [
        "<a class=\"anchor\" id=\"section20\"></a>\n",
        "<h2 style=\"color:blue;font-size: 2em;\">Decoder</h2>"
      ]
    },
    {
      "cell_type": "markdown",
      "id": "200322ea",
      "metadata": {
        "id": "200322ea"
      },
      "source": [
        " The `Decoder` consists of:\n",
        "1.   Output Embedding\n",
        "2.   Positional Encoding\n",
        "3.   N decoder layers\n",
        "\n",
        "The target is put through an embedding which is summed with the positional encoding. The output of this summation is the input to the decoder layers. The output of the decoder is the input to the final linear layer."
      ]
    },
    {
      "cell_type": "code",
      "execution_count": null,
      "id": "977041c9",
      "metadata": {
        "id": "977041c9"
      },
      "outputs": [],
      "source": [
        "class Decoder(tf.keras.layers.Layer):\n",
        "  def __init__(self, num_layers, d_model, num_heads, dff, target_vocab_size,\n",
        "               maximum_position_encoding, rate=0.1):\n",
        "    super(Decoder, self).__init__()\n",
        "\n",
        "    self.d_model = d_model\n",
        "    self.num_layers = num_layers\n",
        "    \n",
        "    self.embedding = tf.keras.layers.Embedding(target_vocab_size, d_model)\n",
        "    self.pos_encoding = positional_encoding(maximum_position_encoding, d_model)\n",
        "    \n",
        "    self.dec_layers = [DecoderLayer(d_model, num_heads, dff, rate) \n",
        "                       for _ in range(num_layers)]\n",
        "    self.dropout = tf.keras.layers.Dropout(rate)\n",
        "    \n",
        "  def call(self, x, enc_output, training, \n",
        "           look_ahead_mask, padding_mask):\n",
        "\n",
        "    seq_len = tf.shape(x)[1]\n",
        "    attention_weights = {}\n",
        "    \n",
        "    x = self.embedding(x)  # (batch_size, target_seq_len, d_model)\n",
        "    x *= tf.math.sqrt(tf.cast(self.d_model, tf.float32))\n",
        "    x += self.pos_encoding[:, :seq_len, :]\n",
        "    \n",
        "    x = self.dropout(x, training=training)\n",
        "\n",
        "    for i in range(self.num_layers):\n",
        "      x, block1, block2 = self.dec_layers[i](x, enc_output, training,\n",
        "                                             look_ahead_mask, padding_mask)\n",
        "      \n",
        "      attention_weights['decoder_layer{}_block1'.format(i+1)] = block1\n",
        "      attention_weights['decoder_layer{}_block2'.format(i+1)] = block2\n",
        "    \n",
        "    # x.shape == (batch_size, target_seq_len, d_model)\n",
        "    return x, attention_weights"
      ]
    },
    {
      "cell_type": "code",
      "execution_count": null,
      "id": "aa6a884d",
      "metadata": {
        "id": "aa6a884d",
        "colab": {
          "base_uri": "https://localhost:8080/"
        },
        "outputId": "0f3a6d94-df96-4d1f-e38b-78d5aa886ed0"
      },
      "outputs": [
        {
          "output_type": "execute_result",
          "data": {
            "text/plain": [
              "(TensorShape([64, 26, 512]), TensorShape([64, 8, 26, 62]))"
            ]
          },
          "metadata": {},
          "execution_count": 69
        }
      ],
      "source": [
        "sample_decoder = Decoder(num_layers=2, d_model=512, num_heads=8, \n",
        "                         dff=2048, target_vocab_size=8000,\n",
        "                         maximum_position_encoding=5000)\n",
        "temp_input = tf.random.uniform((64, 26), dtype=tf.int64, minval=0, maxval=200)\n",
        "\n",
        "output, attn = sample_decoder(temp_input, \n",
        "                              enc_output=sample_encoder_output, \n",
        "                              training=False,\n",
        "                              look_ahead_mask=None, \n",
        "                              padding_mask=None)\n",
        "\n",
        "output.shape, attn['decoder_layer2_block2'].shape"
      ]
    },
    {
      "cell_type": "markdown",
      "id": "9de20427",
      "metadata": {
        "id": "9de20427"
      },
      "source": [
        "<a class=\"anchor\" id=\"section21\"></a>\n",
        "<h1 style=\"color:blue;font-size: 2em;\">8. Create the Transformer</h1>"
      ]
    },
    {
      "cell_type": "markdown",
      "id": "1e61cd54",
      "metadata": {
        "id": "1e61cd54"
      },
      "source": [
        "Transformer consists of the encoder, decoder and a final linear layer. The output of the decoder is the input to the linear layer and its output is returned."
      ]
    },
    {
      "cell_type": "code",
      "execution_count": null,
      "id": "74bd11a8",
      "metadata": {
        "id": "74bd11a8"
      },
      "outputs": [],
      "source": [
        "class Transformer(tf.keras.Model):\n",
        "  def __init__(self, num_layers, d_model, num_heads, dff, input_vocab_size, \n",
        "               target_vocab_size, pe_input, pe_target, rate=0.1):\n",
        "    super(Transformer, self).__init__()\n",
        "\n",
        "    self.encoder = Encoder(num_layers, d_model, num_heads, dff, \n",
        "                           input_vocab_size, pe_input, rate)\n",
        "\n",
        "    self.decoder = Decoder(num_layers, d_model, num_heads, dff, \n",
        "                           target_vocab_size, pe_target, rate)\n",
        "\n",
        "    self.final_layer = tf.keras.layers.Dense(target_vocab_size)\n",
        "    \n",
        "  def call(self, inp, tar, training, enc_padding_mask, \n",
        "           look_ahead_mask, dec_padding_mask):\n",
        "\n",
        "    enc_output = self.encoder(inp, training, enc_padding_mask)  # (batch_size, inp_seq_len, d_model)\n",
        "    \n",
        "    # dec_output.shape == (batch_size, tar_seq_len, d_model)\n",
        "    dec_output, attention_weights = self.decoder(\n",
        "        tar, enc_output, training, look_ahead_mask, dec_padding_mask)\n",
        "    \n",
        "    final_output = self.final_layer(dec_output)  # (batch_size, tar_seq_len, target_vocab_size)\n",
        "    \n",
        "    return final_output, attention_weights"
      ]
    },
    {
      "cell_type": "code",
      "execution_count": null,
      "id": "7db69099",
      "metadata": {
        "id": "7db69099",
        "colab": {
          "base_uri": "https://localhost:8080/"
        },
        "outputId": "808c1114-1798-40eb-9c14-9e3b4d8424c0"
      },
      "outputs": [
        {
          "output_type": "execute_result",
          "data": {
            "text/plain": [
              "TensorShape([64, 36, 8000])"
            ]
          },
          "metadata": {},
          "execution_count": 71
        }
      ],
      "source": [
        "sample_transformer = Transformer(\n",
        "    num_layers=2, d_model=512, num_heads=8, dff=2048, \n",
        "    input_vocab_size=8500, target_vocab_size=8000, \n",
        "    pe_input=10000, pe_target=6000)\n",
        "\n",
        "temp_input = tf.random.uniform((64, 38), dtype=tf.int64, minval=0, maxval=200)\n",
        "temp_target = tf.random.uniform((64, 36), dtype=tf.int64, minval=0, maxval=200)\n",
        "\n",
        "fn_out, _ = sample_transformer(temp_input, temp_target, training=False, \n",
        "                               enc_padding_mask=None, \n",
        "                               look_ahead_mask=None,\n",
        "                               dec_padding_mask=None)\n",
        "\n",
        "fn_out.shape  # (batch_size, tar_seq_len, target_vocab_size)"
      ]
    },
    {
      "cell_type": "markdown",
      "id": "9a8f67e1",
      "metadata": {
        "id": "9a8f67e1"
      },
      "source": [
        "<a class=\"anchor\" id=\"section22\"></a>\n",
        "<h1 style=\"color:blue;font-size: 2em;\">9. Set hyperparameters</h1>"
      ]
    },
    {
      "cell_type": "markdown",
      "id": "64045434",
      "metadata": {
        "id": "64045434"
      },
      "source": [
        "To keep this example small and relatively fast, the values for *num_layers, d_model, and dff* have been reduced. \n",
        "\n",
        "The values used in the base model of transformer were; *num_layers=6*, *d_model = 512*, *dff = 2048*. See the [paper](https://arxiv.org/abs/1706.03762) for all the other versions of the transformer.\n",
        "\n",
        "Note: By changing the values below, you can get the model that achieved state of the art on many tasks."
      ]
    },
    {
      "cell_type": "code",
      "execution_count": null,
      "id": "1d049dd9",
      "metadata": {
        "id": "1d049dd9"
      },
      "outputs": [],
      "source": [
        "num_layers = 4\n",
        "d_model = 128\n",
        "dff = 512\n",
        "num_heads = 8\n",
        "\n",
        "input_vocab_size = tokenizer_pt.vocab_size + 2\n",
        "target_vocab_size = tokenizer_en.vocab_size + 2\n",
        "dropout_rate = 0.1"
      ]
    },
    {
      "cell_type": "markdown",
      "id": "16c737ff",
      "metadata": {
        "id": "16c737ff"
      },
      "source": [
        "<a class=\"anchor\" id=\"section23\"></a>\n",
        "<h1 style=\"color:blue;font-size: 2em;\">10. Optimizer</h1>"
      ]
    },
    {
      "cell_type": "markdown",
      "id": "f114888c",
      "metadata": {
        "id": "f114888c"
      },
      "source": [
        "Use the Adam optimizer with a custom learning rate scheduler according to the formula in the [paper](https://arxiv.org/abs/1706.03762).\n",
        "\n",
        "$$\\Large{lrate = d_{model}^{-0.5} * min(step{\\_}num^{-0.5}, step{\\_}num * warmup{\\_}steps^{-1.5})}$$\n"
      ]
    },
    {
      "cell_type": "code",
      "execution_count": null,
      "id": "debc5fb3",
      "metadata": {
        "id": "debc5fb3"
      },
      "outputs": [],
      "source": [
        "class CustomSchedule(tf.keras.optimizers.schedules.LearningRateSchedule):\n",
        "  def __init__(self, d_model, warmup_steps=4000):\n",
        "    super(CustomSchedule, self).__init__()\n",
        "    \n",
        "    self.d_model = d_model\n",
        "    self.d_model = tf.cast(self.d_model, tf.float32)\n",
        "    self.warmup_steps = warmup_steps\n",
        "\n",
        "  def __call__(self, step):\n",
        "    \n",
        "    step = tf.cast(step, tf.float32)\n",
        "    arg1 = tf.math.rsqrt(step)\n",
        "    arg2 = step * (self.warmup_steps ** -1.5)\n",
        "    \n",
        "    return tf.math.rsqrt(self.d_model) * tf.math.minimum(arg1, arg2)"
      ]
    },
    {
      "cell_type": "markdown",
      "source": [
        "**Alter Discussion**\n",
        "* Here I edit some of the code because of an error I found in the opearation of RSQR"
      ],
      "metadata": {
        "id": "6GVwXA7ocWY-"
      },
      "id": "6GVwXA7ocWY-"
    },
    {
      "cell_type": "code",
      "execution_count": null,
      "id": "5e6fa54a",
      "metadata": {
        "id": "5e6fa54a"
      },
      "outputs": [],
      "source": [
        "learning_rate = CustomSchedule(d_model)\n",
        "\n",
        "optimizer = tf.keras.optimizers.Adam(learning_rate, beta_1=0.9, beta_2=0.98,\n",
        "                                     epsilon=1e-9)"
      ]
    },
    {
      "cell_type": "code",
      "execution_count": null,
      "id": "15d3299c",
      "metadata": {
        "id": "15d3299c",
        "colab": {
          "base_uri": "https://localhost:8080/",
          "height": 467
        },
        "outputId": "84b0e687-1623-4875-ecbf-1c2fe050093c"
      },
      "outputs": [
        {
          "output_type": "execute_result",
          "data": {
            "text/plain": [
              "Text(0.5, 0, 'Train Step')"
            ]
          },
          "metadata": {},
          "execution_count": 75
        },
        {
          "output_type": "display_data",
          "data": {
            "text/plain": [
              "<Figure size 640x480 with 1 Axes>"
            ],
            "image/png": "[encoded data removed]"
          },
          "metadata": {}
        }
      ],
      "source": [
        "temp_learning_rate_schedule = CustomSchedule(d_model)\n",
        "\n",
        "plt.plot(temp_learning_rate_schedule(tf.range(40000, dtype=tf.float32)))\n",
        "plt.ylabel(\"Learning Rate\")\n",
        "plt.xlabel(\"Train Step\")"
      ]
    },
    {
      "cell_type": "markdown",
      "id": "486892fb",
      "metadata": {
        "id": "486892fb"
      },
      "source": [
        "<a class=\"anchor\" id=\"section24\"></a>\n",
        "<h1 style=\"color:blue;font-size: 2em;\">11. Loss and metrics</h1>"
      ]
    },
    {
      "cell_type": "markdown",
      "id": "5dbb772d",
      "metadata": {
        "id": "5dbb772d"
      },
      "source": [
        "Since the target sequences are padded, it is important to apply a padding mask when calculating the loss."
      ]
    },
    {
      "cell_type": "code",
      "execution_count": null,
      "id": "654ecaf5",
      "metadata": {
        "id": "654ecaf5"
      },
      "outputs": [],
      "source": [
        "loss_object = tf.keras.losses.SparseCategoricalCrossentropy(\n",
        "    from_logits=True, reduction='none')"
      ]
    },
    {
      "cell_type": "code",
      "execution_count": null,
      "id": "b25b2e77",
      "metadata": {
        "id": "b25b2e77"
      },
      "outputs": [],
      "source": [
        "def loss_function(real, pred):\n",
        "  mask = tf.math.logical_not(tf.math.equal(real, 0))\n",
        "  loss_ = loss_object(real, pred)\n",
        "\n",
        "  mask = tf.cast(mask, dtype=loss_.dtype)\n",
        "  loss_ *= mask\n",
        "  \n",
        "  return tf.reduce_sum(loss_)/tf.reduce_sum(mask)"
      ]
    },
    {
      "cell_type": "code",
      "execution_count": null,
      "id": "d18f9108",
      "metadata": {
        "id": "d18f9108"
      },
      "outputs": [],
      "source": [
        "train_loss = tf.keras.metrics.Mean(name='train_loss')\n",
        "train_accuracy = tf.keras.metrics.SparseCategoricalAccuracy(\n",
        "    name='train_accuracy')"
      ]
    },
    {
      "cell_type": "markdown",
      "id": "94d8a104",
      "metadata": {
        "id": "94d8a104"
      },
      "source": [
        "<a class=\"anchor\" id=\"section25\"></a>\n",
        "<h1 style=\"color:blue;font-size: 2em;\">11. Training and checkpointing</h1>"
      ]
    },
    {
      "cell_type": "code",
      "execution_count": null,
      "id": "5383b92a",
      "metadata": {
        "id": "5383b92a"
      },
      "outputs": [],
      "source": [
        "transformer = Transformer(num_layers, d_model, num_heads, dff,\n",
        "                          input_vocab_size, target_vocab_size, \n",
        "                          pe_input=input_vocab_size, \n",
        "                          pe_target=target_vocab_size,\n",
        "                          rate=dropout_rate)"
      ]
    },
    {
      "cell_type": "code",
      "execution_count": null,
      "id": "a629f73a",
      "metadata": {
        "id": "a629f73a"
      },
      "outputs": [],
      "source": [
        "def create_masks(inp, tar):\n",
        "  # Encoder padding mask\n",
        "  enc_padding_mask = create_padding_mask(inp)\n",
        "  \n",
        "  # Used in the 2nd attention block in the decoder.\n",
        "  # This padding mask is used to mask the encoder outputs.\n",
        "  dec_padding_mask = create_padding_mask(inp)\n",
        "  \n",
        "  # Used in the 1st attention block in the decoder.\n",
        "  # It is used to pad and mask future tokens in the input received by \n",
        "  # the decoder.\n",
        "  look_ahead_mask = create_look_ahead_mask(tf.shape(tar)[1])\n",
        "  dec_target_padding_mask = create_padding_mask(tar)\n",
        "  combined_mask = tf.maximum(dec_target_padding_mask, look_ahead_mask)\n",
        "  \n",
        "  return enc_padding_mask, combined_mask, dec_padding_mask"
      ]
    },
    {
      "cell_type": "markdown",
      "id": "cd3119ad",
      "metadata": {
        "id": "cd3119ad"
      },
      "source": [
        "Create the checkpoint path and the checkpoint manager. This will be used to save checkpoints every `n` epochs."
      ]
    },
    {
      "cell_type": "code",
      "execution_count": null,
      "id": "dfef22e0",
      "metadata": {
        "id": "dfef22e0"
      },
      "outputs": [],
      "source": [
        "checkpoint_path = \"./checkpoints/train\"\n",
        "\n",
        "ckpt = tf.train.Checkpoint(transformer=transformer,\n",
        "                           optimizer=optimizer)\n",
        "\n",
        "ckpt_manager = tf.train.CheckpointManager(ckpt, checkpoint_path, max_to_keep=5)\n",
        "\n",
        "# if a checkpoint exists, restore the latest checkpoint.\n",
        "if ckpt_manager.latest_checkpoint:\n",
        "  ckpt.restore(ckpt_manager.latest_checkpoint)\n",
        "  print ('Latest checkpoint restored!!')"
      ]
    },
    {
      "cell_type": "markdown",
      "id": "d0c6887d",
      "metadata": {
        "id": "d0c6887d"
      },
      "source": [
        "The target is divided into tar_inp and tar_real. tar_inp is passed as an input to the decoder. `tar_real` is that same input shifted by 1: At each location in `tar_input`, `tar_real` contains the  next token that should be predicted.\n",
        "\n",
        "For example, `sentence` = \"SOS A lion in the jungle is sleeping EOS\"\n",
        "\n",
        "`tar_inp` =  \"SOS A lion in the jungle is sleeping\"\n",
        "\n",
        "`tar_real` = \"A lion in the jungle is sleeping EOS\"\n",
        "\n",
        "The transformer is an auto-regressive model: it makes predictions one part at a time, and uses its output so far to decide what to do next. \n",
        "\n",
        "During training this example uses teacher-forcing. Teacher forcing is passing the true output to the next time step regardless of what the model predicts at the current time step.\n",
        "\n",
        "As the transformer predicts each word, *self-attention* allows it to look at the previous words in the input sequence to better predict the next word.\n",
        "\n",
        "To prevent the model from peeking at the expected output the model uses a look-ahead mask."
      ]
    },
    {
      "cell_type": "code",
      "execution_count": null,
      "id": "58edfa63",
      "metadata": {
        "id": "58edfa63"
      },
      "outputs": [],
      "source": [
        "EPOCHS = 20"
      ]
    },
    {
      "cell_type": "code",
      "execution_count": null,
      "id": "1f97cfc7",
      "metadata": {
        "id": "1f97cfc7"
      },
      "outputs": [],
      "source": [
        "# The @tf.function trace-compiles train_step into a TF graph for faster\n",
        "# execution. The function specializes to the precise shape of the argument\n",
        "# tensors. To avoid re-tracing due to the variable sequence lengths or variable\n",
        "# batch sizes (the last batch is smaller), use input_signature to specify\n",
        "# more generic shapes.\n",
        "\n",
        "train_step_signature = [\n",
        "    tf.TensorSpec(shape=(None, None), dtype=tf.int64),\n",
        "    tf.TensorSpec(shape=(None, None), dtype=tf.int64),\n",
        "]\n",
        "\n",
        "@tf.function(input_signature=train_step_signature)\n",
        "def train_step(inp, tar):\n",
        "  tar_inp = tar[:, :-1]\n",
        "  tar_real = tar[:, 1:]\n",
        "  \n",
        "  enc_padding_mask, combined_mask, dec_padding_mask = create_masks(inp, tar_inp)\n",
        "  \n",
        "  with tf.GradientTape() as tape:\n",
        "    predictions, _ = transformer(inp, tar_inp, \n",
        "                                 True, \n",
        "                                 enc_padding_mask, \n",
        "                                 combined_mask, \n",
        "                                 dec_padding_mask)\n",
        "    loss = loss_function(tar_real, predictions)\n",
        "\n",
        "  gradients = tape.gradient(loss, transformer.trainable_variables)    \n",
        "  optimizer.apply_gradients(zip(gradients, transformer.trainable_variables))\n",
        "  \n",
        "  train_loss(loss)\n",
        "  train_accuracy(tar_real, predictions)"
      ]
    },
    {
      "cell_type": "markdown",
      "id": "e07e61cd",
      "metadata": {
        "id": "e07e61cd"
      },
      "source": [
        "Portuguese is used as the input language and English is the target language."
      ]
    },
    {
      "cell_type": "code",
      "execution_count": null,
      "id": "42d7301a",
      "metadata": {
        "id": "42d7301a",
        "colab": {
          "base_uri": "https://localhost:8080/"
        },
        "outputId": "c77c29a7-076e-4442-fe61-53201fd3e226"
      },
      "outputs": [
        {
          "output_type": "stream",
          "name": "stdout",
          "text": [
            "Epoch 1 Batch 0 Loss 9.0143 Accuracy 0.0004\n",
            "Epoch 1 Batch 50 Loss 8.9542 Accuracy 0.0008\n",
            "Epoch 1 Batch 100 Loss 8.8569 Accuracy 0.0119\n",
            "Epoch 1 Batch 150 Loss 8.7502 Accuracy 0.0170\n",
            "Epoch 1 Batch 200 Loss 8.6206 Accuracy 0.0195\n",
            "Epoch 1 Batch 250 Loss 8.4641 Accuracy 0.0215\n",
            "Epoch 1 Batch 300 Loss 8.2859 Accuracy 0.0247\n",
            "Epoch 1 Batch 350 Loss 8.1005 Accuracy 0.0290\n",
            "Epoch 1 Batch 400 Loss 7.9191 Accuracy 0.0326\n",
            "Epoch 1 Batch 450 Loss 7.7529 Accuracy 0.0358\n",
            "Epoch 1 Batch 500 Loss 7.6092 Accuracy 0.0386\n",
            "Epoch 1 Batch 550 Loss 7.4769 Accuracy 0.0420\n",
            "Epoch 1 Batch 600 Loss 7.3512 Accuracy 0.0457\n",
            "Epoch 1 Batch 650 Loss 7.2338 Accuracy 0.0492\n",
            "Epoch 1 Batch 700 Loss 7.1196 Accuracy 0.0526\n",
            "Epoch 1 Loss 7.1153 Accuracy 0.0527\n",
            "Time taken for 1 epoch: 203.0406949520111 secs\n",
            "\n",
            "Epoch 2 Batch 0 Loss 5.3157 Accuracy 0.1034\n",
            "Epoch 2 Batch 50 Loss 5.4783 Accuracy 0.1045\n",
            "Epoch 2 Batch 100 Loss 5.4440 Accuracy 0.1052\n",
            "Epoch 2 Batch 150 Loss 5.3907 Accuracy 0.1075\n",
            "Epoch 2 Batch 200 Loss 5.3375 Accuracy 0.1094\n",
            "Epoch 2 Batch 250 Loss 5.2929 Accuracy 0.1117\n",
            "Epoch 2 Batch 300 Loss 5.2524 Accuracy 0.1134\n",
            "Epoch 2 Batch 350 Loss 5.2109 Accuracy 0.1151\n",
            "Epoch 2 Batch 400 Loss 5.1768 Accuracy 0.1165\n",
            "Epoch 2 Batch 450 Loss 5.1468 Accuracy 0.1180\n",
            "Epoch 2 Batch 500 Loss 5.1171 Accuracy 0.1193\n",
            "Epoch 2 Batch 550 Loss 5.0869 Accuracy 0.1208\n",
            "Epoch 2 Batch 600 Loss 5.0630 Accuracy 0.1221\n",
            "Epoch 2 Batch 650 Loss 5.0374 Accuracy 0.1233\n",
            "Epoch 2 Batch 700 Loss 5.0129 Accuracy 0.1246\n",
            "Epoch 2 Loss 5.0122 Accuracy 0.1246\n",
            "Time taken for 1 epoch: 56.32472085952759 secs\n",
            "\n",
            "Epoch 3 Batch 0 Loss 4.6138 Accuracy 0.1549\n",
            "Epoch 3 Batch 50 Loss 4.6251 Accuracy 0.1429\n",
            "Epoch 3 Batch 100 Loss 4.6120 Accuracy 0.1425\n",
            "Epoch 3 Batch 150 Loss 4.6057 Accuracy 0.1429\n",
            "Epoch 3 Batch 200 Loss 4.5857 Accuracy 0.1438\n",
            "Epoch 3 Batch 250 Loss 4.5741 Accuracy 0.1448\n",
            "Epoch 3 Batch 300 Loss 4.5647 Accuracy 0.1451\n",
            "Epoch 3 Batch 350 Loss 4.5518 Accuracy 0.1456\n",
            "Epoch 3 Batch 400 Loss 4.5404 Accuracy 0.1464\n",
            "Epoch 3 Batch 450 Loss 4.5222 Accuracy 0.1472\n",
            "Epoch 3 Batch 500 Loss 4.5041 Accuracy 0.1481\n",
            "Epoch 3 Batch 550 Loss 4.4874 Accuracy 0.1489\n",
            "Epoch 3 Batch 600 Loss 4.4733 Accuracy 0.1498\n",
            "Epoch 3 Batch 650 Loss 4.4577 Accuracy 0.1508\n",
            "Epoch 3 Batch 700 Loss 4.4429 Accuracy 0.1516\n",
            "Epoch 3 Loss 4.4420 Accuracy 0.1517\n",
            "Time taken for 1 epoch: 49.9892303943634 secs\n",
            "\n",
            "Epoch 4 Batch 0 Loss 4.3729 Accuracy 0.1562\n",
            "Epoch 4 Batch 50 Loss 4.1557 Accuracy 0.1656\n",
            "Epoch 4 Batch 100 Loss 4.1379 Accuracy 0.1656\n",
            "Epoch 4 Batch 150 Loss 4.1178 Accuracy 0.1673\n",
            "Epoch 4 Batch 200 Loss 4.1040 Accuracy 0.1690\n",
            "Epoch 4 Batch 250 Loss 4.0883 Accuracy 0.1697\n",
            "Epoch 4 Batch 300 Loss 4.0686 Accuracy 0.1715\n",
            "Epoch 4 Batch 350 Loss 4.0501 Accuracy 0.1725\n",
            "Epoch 4 Batch 400 Loss 4.0334 Accuracy 0.1737\n",
            "Epoch 4 Batch 450 Loss 4.0172 Accuracy 0.1744\n",
            "Epoch 4 Batch 500 Loss 3.9989 Accuracy 0.1754\n",
            "Epoch 4 Batch 550 Loss 3.9857 Accuracy 0.1766\n",
            "Epoch 4 Batch 600 Loss 3.9692 Accuracy 0.1776\n",
            "Epoch 4 Batch 650 Loss 3.9555 Accuracy 0.1784\n",
            "Epoch 4 Batch 700 Loss 3.9430 Accuracy 0.1793\n",
            "Epoch 4 Loss 3.9420 Accuracy 0.1793\n",
            "Time taken for 1 epoch: 48.706156492233276 secs\n",
            "\n",
            "Epoch 5 Batch 0 Loss 3.5798 Accuracy 0.2112\n",
            "Epoch 5 Batch 50 Loss 3.5932 Accuracy 0.1968\n",
            "Epoch 5 Batch 100 Loss 3.5707 Accuracy 0.1981\n",
            "Epoch 5 Batch 150 Loss 3.5702 Accuracy 0.1984\n",
            "Epoch 5 Batch 200 Loss 3.5698 Accuracy 0.1990\n",
            "Epoch 5 Batch 250 Loss 3.5604 Accuracy 0.1998\n",
            "Epoch 5 Batch 300 Loss 3.5494 Accuracy 0.2012\n",
            "Epoch 5 Batch 350 Loss 3.5443 Accuracy 0.2016\n",
            "Epoch 5 Batch 400 Loss 3.5335 Accuracy 0.2026\n",
            "Epoch 5 Batch 450 Loss 3.5223 Accuracy 0.2036\n",
            "Epoch 5 Batch 500 Loss 3.5158 Accuracy 0.2040\n",
            "Epoch 5 Batch 550 Loss 3.5047 Accuracy 0.2047\n",
            "Epoch 5 Batch 600 Loss 3.4962 Accuracy 0.2051\n",
            "Epoch 5 Batch 650 Loss 3.4852 Accuracy 0.2057\n",
            "Epoch 5 Batch 700 Loss 3.4759 Accuracy 0.2063\n",
            "Saving checkpoint for epoch 5 at ./checkpoints/train/ckpt-1\n",
            "Epoch 5 Loss 3.4752 Accuracy 0.2063\n",
            "Time taken for 1 epoch: 49.56443190574646 secs\n",
            "\n",
            "Epoch 6 Batch 0 Loss 3.4008 Accuracy 0.1905\n",
            "Epoch 6 Batch 50 Loss 3.1608 Accuracy 0.2233\n",
            "Epoch 6 Batch 100 Loss 3.1540 Accuracy 0.2222\n",
            "Epoch 6 Batch 150 Loss 3.1440 Accuracy 0.2225\n",
            "Epoch 6 Batch 200 Loss 3.1401 Accuracy 0.2231\n",
            "Epoch 6 Batch 250 Loss 3.1338 Accuracy 0.2239\n",
            "Epoch 6 Batch 300 Loss 3.1322 Accuracy 0.2241\n",
            "Epoch 6 Batch 350 Loss 3.1257 Accuracy 0.2245\n",
            "Epoch 6 Batch 400 Loss 3.1179 Accuracy 0.2251\n",
            "Epoch 6 Batch 450 Loss 3.1110 Accuracy 0.2252\n",
            "Epoch 6 Batch 500 Loss 3.1038 Accuracy 0.2255\n",
            "Epoch 6 Batch 550 Loss 3.0989 Accuracy 0.2259\n",
            "Epoch 6 Batch 600 Loss 3.0880 Accuracy 0.2264\n",
            "Epoch 6 Batch 650 Loss 3.0792 Accuracy 0.2272\n",
            "Epoch 6 Batch 700 Loss 3.0725 Accuracy 0.2275\n",
            "Epoch 6 Loss 3.0730 Accuracy 0.2276\n",
            "Time taken for 1 epoch: 47.378098487854004 secs\n",
            "\n",
            "Epoch 7 Batch 0 Loss 2.6668 Accuracy 0.2616\n",
            "Epoch 7 Batch 50 Loss 2.7224 Accuracy 0.2469\n",
            "Epoch 7 Batch 100 Loss 2.7143 Accuracy 0.2466\n",
            "Epoch 7 Batch 150 Loss 2.7227 Accuracy 0.2475\n",
            "Epoch 7 Batch 200 Loss 2.7213 Accuracy 0.2468\n",
            "Epoch 7 Batch 250 Loss 2.7238 Accuracy 0.2461\n",
            "Epoch 7 Batch 300 Loss 2.7163 Accuracy 0.2463\n",
            "Epoch 7 Batch 350 Loss 2.7124 Accuracy 0.2469\n",
            "Epoch 7 Batch 400 Loss 2.7058 Accuracy 0.2468\n",
            "Epoch 7 Batch 450 Loss 2.7030 Accuracy 0.2470\n",
            "Epoch 7 Batch 500 Loss 2.6986 Accuracy 0.2473\n",
            "Epoch 7 Batch 550 Loss 2.6934 Accuracy 0.2479\n",
            "Epoch 7 Batch 600 Loss 2.6907 Accuracy 0.2481\n",
            "Epoch 7 Batch 650 Loss 2.6852 Accuracy 0.2485\n",
            "Epoch 7 Batch 700 Loss 2.6794 Accuracy 0.2491\n",
            "Epoch 7 Loss 2.6793 Accuracy 0.2491\n",
            "Time taken for 1 epoch: 47.064502000808716 secs\n",
            "\n",
            "Epoch 8 Batch 0 Loss 2.3106 Accuracy 0.2664\n",
            "Epoch 8 Batch 50 Loss 2.3433 Accuracy 0.2663\n",
            "Epoch 8 Batch 100 Loss 2.3541 Accuracy 0.2659\n",
            "Epoch 8 Batch 150 Loss 2.3619 Accuracy 0.2657\n",
            "Epoch 8 Batch 200 Loss 2.3693 Accuracy 0.2658\n",
            "Epoch 8 Batch 250 Loss 2.3716 Accuracy 0.2659\n",
            "Epoch 8 Batch 300 Loss 2.3711 Accuracy 0.2661\n",
            "Epoch 8 Batch 350 Loss 2.3678 Accuracy 0.2655\n",
            "Epoch 8 Batch 400 Loss 2.3643 Accuracy 0.2659\n",
            "Epoch 8 Batch 450 Loss 2.3635 Accuracy 0.2661\n",
            "Epoch 8 Batch 500 Loss 2.3610 Accuracy 0.2667\n",
            "Epoch 8 Batch 550 Loss 2.3600 Accuracy 0.2667\n",
            "Epoch 8 Batch 600 Loss 2.3612 Accuracy 0.2668\n",
            "Epoch 8 Batch 650 Loss 2.3610 Accuracy 0.2669\n",
            "Epoch 8 Batch 700 Loss 2.3603 Accuracy 0.2670\n",
            "Epoch 8 Loss 2.3606 Accuracy 0.2670\n",
            "Time taken for 1 epoch: 47.3291220664978 secs\n",
            "\n",
            "Epoch 9 Batch 0 Loss 2.1097 Accuracy 0.3055\n",
            "Epoch 9 Batch 50 Loss 2.1194 Accuracy 0.2774\n",
            "Epoch 9 Batch 100 Loss 2.1188 Accuracy 0.2798\n",
            "Epoch 9 Batch 150 Loss 2.1201 Accuracy 0.2791\n",
            "Epoch 9 Batch 200 Loss 2.1239 Accuracy 0.2789\n",
            "Epoch 9 Batch 250 Loss 2.1232 Accuracy 0.2784\n",
            "Epoch 9 Batch 300 Loss 2.1248 Accuracy 0.2793\n",
            "Epoch 9 Batch 350 Loss 2.1219 Accuracy 0.2800\n",
            "Epoch 9 Batch 400 Loss 2.1221 Accuracy 0.2807\n",
            "Epoch 9 Batch 450 Loss 2.1226 Accuracy 0.2809\n",
            "Epoch 9 Batch 500 Loss 2.1233 Accuracy 0.2808\n",
            "Epoch 9 Batch 550 Loss 2.1255 Accuracy 0.2807\n",
            "Epoch 9 Batch 600 Loss 2.1280 Accuracy 0.2804\n",
            "Epoch 9 Batch 650 Loss 2.1282 Accuracy 0.2803\n",
            "Epoch 9 Batch 700 Loss 2.1280 Accuracy 0.2805\n",
            "Epoch 9 Loss 2.1279 Accuracy 0.2806\n",
            "Time taken for 1 epoch: 46.29415464401245 secs\n",
            "\n",
            "Epoch 10 Batch 0 Loss 1.6942 Accuracy 0.3315\n",
            "Epoch 10 Batch 50 Loss 1.8999 Accuracy 0.2920\n",
            "Epoch 10 Batch 100 Loss 1.9006 Accuracy 0.2925\n",
            "Epoch 10 Batch 150 Loss 1.9110 Accuracy 0.2927\n",
            "Epoch 10 Batch 200 Loss 1.9219 Accuracy 0.2920\n",
            "Epoch 10 Batch 250 Loss 1.9294 Accuracy 0.2913\n",
            "Epoch 10 Batch 300 Loss 1.9306 Accuracy 0.2908\n",
            "Epoch 10 Batch 350 Loss 1.9351 Accuracy 0.2916\n",
            "Epoch 10 Batch 400 Loss 1.9383 Accuracy 0.2919\n",
            "Epoch 10 Batch 450 Loss 1.9448 Accuracy 0.2917\n",
            "Epoch 10 Batch 500 Loss 1.9480 Accuracy 0.2912\n",
            "Epoch 10 Batch 550 Loss 1.9491 Accuracy 0.2915\n",
            "Epoch 10 Batch 600 Loss 1.9502 Accuracy 0.2913\n",
            "Epoch 10 Batch 650 Loss 1.9549 Accuracy 0.2912\n",
            "Epoch 10 Batch 700 Loss 1.9550 Accuracy 0.2912\n",
            "Saving checkpoint for epoch 10 at ./checkpoints/train/ckpt-2\n",
            "Epoch 10 Loss 1.9547 Accuracy 0.2913\n",
            "Time taken for 1 epoch: 45.4824914932251 secs\n",
            "\n",
            "Epoch 11 Batch 0 Loss 1.7241 Accuracy 0.3321\n",
            "Epoch 11 Batch 50 Loss 1.7441 Accuracy 0.2995\n",
            "Epoch 11 Batch 100 Loss 1.7549 Accuracy 0.3010\n",
            "Epoch 11 Batch 150 Loss 1.7670 Accuracy 0.3017\n",
            "Epoch 11 Batch 200 Loss 1.7744 Accuracy 0.3020\n",
            "Epoch 11 Batch 250 Loss 1.7764 Accuracy 0.3016\n",
            "Epoch 11 Batch 300 Loss 1.7835 Accuracy 0.3011\n",
            "Epoch 11 Batch 350 Loss 1.7843 Accuracy 0.3009\n",
            "Epoch 11 Batch 400 Loss 1.7875 Accuracy 0.3011\n",
            "Epoch 11 Batch 450 Loss 1.7924 Accuracy 0.3006\n",
            "Epoch 11 Batch 500 Loss 1.7973 Accuracy 0.3007\n",
            "Epoch 11 Batch 550 Loss 1.8015 Accuracy 0.3007\n",
            "Epoch 11 Batch 600 Loss 1.8072 Accuracy 0.3006\n",
            "Epoch 11 Batch 650 Loss 1.8114 Accuracy 0.3002\n",
            "Epoch 11 Batch 700 Loss 1.8139 Accuracy 0.3001\n",
            "Epoch 11 Loss 1.8145 Accuracy 0.3001\n",
            "Time taken for 1 epoch: 46.75266242027283 secs\n",
            "\n",
            "Epoch 12 Batch 0 Loss 1.5347 Accuracy 0.3193\n",
            "Epoch 12 Batch 50 Loss 1.6330 Accuracy 0.3192\n",
            "Epoch 12 Batch 100 Loss 1.6350 Accuracy 0.3125\n",
            "Epoch 12 Batch 150 Loss 1.6480 Accuracy 0.3107\n",
            "Epoch 12 Batch 200 Loss 1.6516 Accuracy 0.3101\n",
            "Epoch 12 Batch 250 Loss 1.6591 Accuracy 0.3096\n",
            "Epoch 12 Batch 300 Loss 1.6636 Accuracy 0.3099\n",
            "Epoch 12 Batch 350 Loss 1.6679 Accuracy 0.3101\n",
            "Epoch 12 Batch 400 Loss 1.6709 Accuracy 0.3097\n",
            "Epoch 12 Batch 450 Loss 1.6733 Accuracy 0.3097\n",
            "Epoch 12 Batch 500 Loss 1.6772 Accuracy 0.3093\n",
            "Epoch 12 Batch 550 Loss 1.6821 Accuracy 0.3087\n",
            "Epoch 12 Batch 600 Loss 1.6849 Accuracy 0.3087\n",
            "Epoch 12 Batch 650 Loss 1.6916 Accuracy 0.3080\n",
            "Epoch 12 Batch 700 Loss 1.6969 Accuracy 0.3079\n",
            "Epoch 12 Loss 1.6973 Accuracy 0.3079\n",
            "Time taken for 1 epoch: 45.63346982002258 secs\n",
            "\n",
            "Epoch 13 Batch 0 Loss 1.5566 Accuracy 0.2917\n",
            "Epoch 13 Batch 50 Loss 1.5153 Accuracy 0.3170\n",
            "Epoch 13 Batch 100 Loss 1.5416 Accuracy 0.3161\n",
            "Epoch 13 Batch 150 Loss 1.5437 Accuracy 0.3176\n",
            "Epoch 13 Batch 200 Loss 1.5501 Accuracy 0.3170\n",
            "Epoch 13 Batch 250 Loss 1.5593 Accuracy 0.3163\n",
            "Epoch 13 Batch 300 Loss 1.5604 Accuracy 0.3161\n",
            "Epoch 13 Batch 350 Loss 1.5667 Accuracy 0.3157\n",
            "Epoch 13 Batch 400 Loss 1.5735 Accuracy 0.3152\n",
            "Epoch 13 Batch 450 Loss 1.5789 Accuracy 0.3146\n",
            "Epoch 13 Batch 500 Loss 1.5814 Accuracy 0.3147\n",
            "Epoch 13 Batch 550 Loss 1.5863 Accuracy 0.3147\n",
            "Epoch 13 Batch 600 Loss 1.5921 Accuracy 0.3147\n",
            "Epoch 13 Batch 650 Loss 1.5963 Accuracy 0.3145\n",
            "Epoch 13 Batch 700 Loss 1.6001 Accuracy 0.3142\n",
            "Epoch 13 Loss 1.5997 Accuracy 0.3142\n",
            "Time taken for 1 epoch: 46.844669342041016 secs\n",
            "\n",
            "Epoch 14 Batch 0 Loss 1.3595 Accuracy 0.3637\n",
            "Epoch 14 Batch 50 Loss 1.4435 Accuracy 0.3172\n",
            "Epoch 14 Batch 100 Loss 1.4459 Accuracy 0.3205\n",
            "Epoch 14 Batch 150 Loss 1.4539 Accuracy 0.3208\n",
            "Epoch 14 Batch 200 Loss 1.4626 Accuracy 0.3208\n",
            "Epoch 14 Batch 250 Loss 1.4695 Accuracy 0.3197\n",
            "Epoch 14 Batch 300 Loss 1.4753 Accuracy 0.3198\n",
            "Epoch 14 Batch 350 Loss 1.4790 Accuracy 0.3194\n",
            "Epoch 14 Batch 400 Loss 1.4858 Accuracy 0.3195\n",
            "Epoch 14 Batch 450 Loss 1.4915 Accuracy 0.3196\n",
            "Epoch 14 Batch 500 Loss 1.4941 Accuracy 0.3194\n",
            "Epoch 14 Batch 550 Loss 1.4980 Accuracy 0.3196\n",
            "Epoch 14 Batch 600 Loss 1.5035 Accuracy 0.3195\n",
            "Epoch 14 Batch 650 Loss 1.5089 Accuracy 0.3195\n",
            "Epoch 14 Batch 700 Loss 1.5154 Accuracy 0.3193\n",
            "Epoch 14 Loss 1.5163 Accuracy 0.3193\n",
            "Time taken for 1 epoch: 45.05026936531067 secs\n",
            "\n",
            "Epoch 15 Batch 0 Loss 1.4358 Accuracy 0.3073\n",
            "Epoch 15 Batch 50 Loss 1.3331 Accuracy 0.3306\n",
            "Epoch 15 Batch 100 Loss 1.3497 Accuracy 0.3299\n",
            "Epoch 15 Batch 150 Loss 1.3649 Accuracy 0.3296\n",
            "Epoch 15 Batch 200 Loss 1.3771 Accuracy 0.3273\n",
            "Epoch 15 Batch 250 Loss 1.3842 Accuracy 0.3273\n",
            "Epoch 15 Batch 300 Loss 1.3912 Accuracy 0.3274\n",
            "Epoch 15 Batch 350 Loss 1.3980 Accuracy 0.3274\n",
            "Epoch 15 Batch 400 Loss 1.4054 Accuracy 0.3271\n",
            "Epoch 15 Batch 450 Loss 1.4122 Accuracy 0.3270\n",
            "Epoch 15 Batch 500 Loss 1.4172 Accuracy 0.3268\n",
            "Epoch 15 Batch 550 Loss 1.4231 Accuracy 0.3265\n",
            "Epoch 15 Batch 600 Loss 1.4291 Accuracy 0.3262\n",
            "Epoch 15 Batch 650 Loss 1.4370 Accuracy 0.3258\n",
            "Epoch 15 Batch 700 Loss 1.4420 Accuracy 0.3253\n",
            "Saving checkpoint for epoch 15 at ./checkpoints/train/ckpt-3\n",
            "Epoch 15 Loss 1.4420 Accuracy 0.3253\n",
            "Time taken for 1 epoch: 46.75013542175293 secs\n",
            "\n",
            "Epoch 16 Batch 0 Loss 1.2134 Accuracy 0.3051\n",
            "Epoch 16 Batch 50 Loss 1.2969 Accuracy 0.3350\n",
            "Epoch 16 Batch 100 Loss 1.3050 Accuracy 0.3354\n",
            "Epoch 16 Batch 150 Loss 1.3157 Accuracy 0.3346\n",
            "Epoch 16 Batch 200 Loss 1.3250 Accuracy 0.3321\n",
            "Epoch 16 Batch 250 Loss 1.3272 Accuracy 0.3328\n",
            "Epoch 16 Batch 300 Loss 1.3350 Accuracy 0.3325\n",
            "Epoch 16 Batch 350 Loss 1.3411 Accuracy 0.3324\n",
            "Epoch 16 Batch 400 Loss 1.3429 Accuracy 0.3319\n",
            "Epoch 16 Batch 450 Loss 1.3503 Accuracy 0.3315\n",
            "Epoch 16 Batch 500 Loss 1.3550 Accuracy 0.3311\n",
            "Epoch 16 Batch 550 Loss 1.3608 Accuracy 0.3305\n",
            "Epoch 16 Batch 600 Loss 1.3665 Accuracy 0.3303\n",
            "Epoch 16 Batch 650 Loss 1.3709 Accuracy 0.3301\n",
            "Epoch 16 Batch 700 Loss 1.3754 Accuracy 0.3299\n",
            "Epoch 16 Loss 1.3756 Accuracy 0.3300\n",
            "Time taken for 1 epoch: 45.895798683166504 secs\n",
            "\n",
            "Epoch 17 Batch 0 Loss 1.2056 Accuracy 0.3409\n",
            "Epoch 17 Batch 50 Loss 1.2227 Accuracy 0.3389\n",
            "Epoch 17 Batch 100 Loss 1.2341 Accuracy 0.3387\n",
            "Epoch 17 Batch 150 Loss 1.2437 Accuracy 0.3389\n",
            "Epoch 17 Batch 200 Loss 1.2564 Accuracy 0.3383\n",
            "Epoch 17 Batch 250 Loss 1.2660 Accuracy 0.3382\n",
            "Epoch 17 Batch 300 Loss 1.2725 Accuracy 0.3387\n",
            "Epoch 17 Batch 350 Loss 1.2776 Accuracy 0.3378\n",
            "Epoch 17 Batch 400 Loss 1.2818 Accuracy 0.3367\n",
            "Epoch 17 Batch 450 Loss 1.2874 Accuracy 0.3361\n",
            "Epoch 17 Batch 500 Loss 1.2940 Accuracy 0.3355\n",
            "Epoch 17 Batch 550 Loss 1.3001 Accuracy 0.3352\n",
            "Epoch 17 Batch 600 Loss 1.3043 Accuracy 0.3346\n",
            "Epoch 17 Batch 650 Loss 1.3098 Accuracy 0.3339\n",
            "Epoch 17 Batch 700 Loss 1.3153 Accuracy 0.3330\n",
            "Epoch 17 Loss 1.3155 Accuracy 0.3330\n",
            "Time taken for 1 epoch: 45.20691514015198 secs\n",
            "\n",
            "Epoch 18 Batch 0 Loss 1.2351 Accuracy 0.3649\n",
            "Epoch 18 Batch 50 Loss 1.1900 Accuracy 0.3414\n",
            "Epoch 18 Batch 100 Loss 1.1834 Accuracy 0.3401\n",
            "Epoch 18 Batch 150 Loss 1.1970 Accuracy 0.3403\n",
            "Epoch 18 Batch 200 Loss 1.2074 Accuracy 0.3417\n",
            "Epoch 18 Batch 250 Loss 1.2152 Accuracy 0.3407\n",
            "Epoch 18 Batch 300 Loss 1.2206 Accuracy 0.3403\n",
            "Epoch 18 Batch 350 Loss 1.2263 Accuracy 0.3399\n",
            "Epoch 18 Batch 400 Loss 1.2305 Accuracy 0.3403\n",
            "Epoch 18 Batch 450 Loss 1.2356 Accuracy 0.3400\n",
            "Epoch 18 Batch 500 Loss 1.2403 Accuracy 0.3398\n",
            "Epoch 18 Batch 550 Loss 1.2471 Accuracy 0.3392\n",
            "Epoch 18 Batch 600 Loss 1.2521 Accuracy 0.3385\n",
            "Epoch 18 Batch 650 Loss 1.2585 Accuracy 0.3379\n",
            "Epoch 18 Batch 700 Loss 1.2639 Accuracy 0.3374\n",
            "Epoch 18 Loss 1.2638 Accuracy 0.3375\n",
            "Time taken for 1 epoch: 46.143543004989624 secs\n",
            "\n",
            "Epoch 19 Batch 0 Loss 1.3129 Accuracy 0.3129\n",
            "Epoch 19 Batch 50 Loss 1.1277 Accuracy 0.3489\n",
            "Epoch 19 Batch 100 Loss 1.1404 Accuracy 0.3471\n",
            "Epoch 19 Batch 150 Loss 1.1538 Accuracy 0.3464\n",
            "Epoch 19 Batch 200 Loss 1.1598 Accuracy 0.3462\n",
            "Epoch 19 Batch 250 Loss 1.1657 Accuracy 0.3448\n",
            "Epoch 19 Batch 300 Loss 1.1711 Accuracy 0.3445\n",
            "Epoch 19 Batch 350 Loss 1.1792 Accuracy 0.3438\n",
            "Epoch 19 Batch 400 Loss 1.1863 Accuracy 0.3429\n",
            "Epoch 19 Batch 450 Loss 1.1895 Accuracy 0.3426\n",
            "Epoch 19 Batch 500 Loss 1.1946 Accuracy 0.3426\n",
            "Epoch 19 Batch 550 Loss 1.1996 Accuracy 0.3422\n",
            "Epoch 19 Batch 600 Loss 1.2033 Accuracy 0.3421\n",
            "Epoch 19 Batch 650 Loss 1.2086 Accuracy 0.3418\n",
            "Epoch 19 Batch 700 Loss 1.2143 Accuracy 0.3411\n",
            "Epoch 19 Loss 1.2148 Accuracy 0.3411\n",
            "Time taken for 1 epoch: 46.90108299255371 secs\n",
            "\n",
            "Epoch 20 Batch 0 Loss 1.0429 Accuracy 0.3681\n",
            "Epoch 20 Batch 50 Loss 1.0776 Accuracy 0.3486\n",
            "Epoch 20 Batch 100 Loss 1.0950 Accuracy 0.3490\n",
            "Epoch 20 Batch 150 Loss 1.1077 Accuracy 0.3487\n",
            "Epoch 20 Batch 200 Loss 1.1168 Accuracy 0.3486\n",
            "Epoch 20 Batch 250 Loss 1.1288 Accuracy 0.3462\n",
            "Epoch 20 Batch 300 Loss 1.1317 Accuracy 0.3464\n",
            "Epoch 20 Batch 350 Loss 1.1346 Accuracy 0.3462\n",
            "Epoch 20 Batch 400 Loss 1.1422 Accuracy 0.3460\n",
            "Epoch 20 Batch 450 Loss 1.1474 Accuracy 0.3455\n",
            "Epoch 20 Batch 500 Loss 1.1542 Accuracy 0.3452\n",
            "Epoch 20 Batch 550 Loss 1.1585 Accuracy 0.3447\n",
            "Epoch 20 Batch 600 Loss 1.1645 Accuracy 0.3445\n",
            "Epoch 20 Batch 650 Loss 1.1692 Accuracy 0.3442\n",
            "Epoch 20 Batch 700 Loss 1.1744 Accuracy 0.3444\n",
            "Saving checkpoint for epoch 20 at ./checkpoints/train/ckpt-4\n",
            "Epoch 20 Loss 1.1745 Accuracy 0.3443\n",
            "Time taken for 1 epoch: 46.15658402442932 secs\n",
            "\n"
          ]
        }
      ],
      "source": [
        "for epoch in range(EPOCHS):\n",
        "  start = time.time()\n",
        "  \n",
        "  train_loss.reset_states()\n",
        "  train_accuracy.reset_states()\n",
        "  \n",
        "  # inp -> portuguese, tar -> english\n",
        "  for (batch, (inp, tar)) in enumerate(train_dataset):\n",
        "    train_step(inp, tar)\n",
        "    \n",
        "    if batch % 50 == 0:\n",
        "      print ('Epoch {} Batch {} Loss {:.4f} Accuracy {:.4f}'.format(\n",
        "          epoch + 1, batch, train_loss.result(), train_accuracy.result()))\n",
        "      \n",
        "  if (epoch + 1) % 5 == 0:\n",
        "    ckpt_save_path = ckpt_manager.save()\n",
        "    print ('Saving checkpoint for epoch {} at {}'.format(epoch+1,\n",
        "                                                         ckpt_save_path))\n",
        "    \n",
        "  print ('Epoch {} Loss {:.4f} Accuracy {:.4f}'.format(epoch + 1, \n",
        "                                                train_loss.result(), \n",
        "                                                train_accuracy.result()))\n",
        "\n",
        "  print ('Time taken for 1 epoch: {} secs\\n'.format(time.time() - start))"
      ]
    },
    {
      "cell_type": "markdown",
      "id": "8e50f3c9",
      "metadata": {
        "id": "8e50f3c9"
      },
      "source": [
        "<a class=\"anchor\" id=\"section26\"></a>\n",
        "<h1 style=\"color:blue;font-size: 2em;\">13. Evaluate</h1>"
      ]
    },
    {
      "cell_type": "markdown",
      "id": "ed182be0",
      "metadata": {
        "id": "ed182be0"
      },
      "source": [
        "The following steps are used for evaluation:\n",
        "\n",
        "* Encode the input sentence using the Portuguese tokenizer (`tokenizer_pt`). Moreover, add the start and end token so the input is equivalent to what the model is trained with. This is the encoder input.\n",
        "* The decoder input is the `start token == tokenizer_en.vocab_size`.\n",
        "* Calculate the padding masks and the look ahead masks.\n",
        "* The `decoder` then outputs the predictions by looking at the `encoder output` and its own output (self-attention).\n",
        "* Select the last word and calculate the argmax of that.\n",
        "* Concatentate the predicted word to the decoder input as pass it to the decoder.\n",
        "* In this approach, the decoder predicts the next word based on the previous words it predicted.\n",
        "\n",
        "Note: The model used here has less capacity to keep the example relatively faster so the predictions maybe less right. To reproduce the results in the paper, use the entire dataset and base transformer model or transformer XL, by changing the hyperparameters above."
      ]
    },
    {
      "cell_type": "code",
      "execution_count": null,
      "id": "06399c36",
      "metadata": {
        "id": "06399c36"
      },
      "outputs": [],
      "source": [
        "def evaluate(inp_sentence):\n",
        "  start_token = [tokenizer_pt.vocab_size]\n",
        "  end_token = [tokenizer_pt.vocab_size + 1]\n",
        "  \n",
        "  # inp sentence is portuguese, hence adding the start and end token\n",
        "  inp_sentence = start_token + tokenizer_pt.encode(inp_sentence) + end_token\n",
        "  encoder_input = tf.expand_dims(inp_sentence, 0)\n",
        "  \n",
        "  # as the target is english, the first word to the transformer should be the\n",
        "  # english start token.\n",
        "  decoder_input = [tokenizer_en.vocab_size]\n",
        "  output = tf.expand_dims(decoder_input, 0)\n",
        "    \n",
        "  for i in range(MAX_LENGTH):\n",
        "    enc_padding_mask, combined_mask, dec_padding_mask = create_masks(\n",
        "        encoder_input, output)\n",
        "  \n",
        "    # predictions.shape == (batch_size, seq_len, vocab_size)\n",
        "    predictions, attention_weights = transformer(encoder_input, \n",
        "                                                 output,\n",
        "                                                 False,\n",
        "                                                 enc_padding_mask,\n",
        "                                                 combined_mask,\n",
        "                                                 dec_padding_mask)\n",
        "    \n",
        "    # select the last word from the seq_len dimension\n",
        "    predictions = predictions[: ,-1:, :]  # (batch_size, 1, vocab_size)\n",
        "\n",
        "    predicted_id = tf.cast(tf.argmax(predictions, axis=-1), tf.int32)\n",
        "    \n",
        "    # return the result if the predicted_id is equal to the end token\n",
        "    if predicted_id == tokenizer_en.vocab_size+1:\n",
        "      return tf.squeeze(output, axis=0), attention_weights\n",
        "    \n",
        "    # concatentate the predicted_id to the output which is given to the decoder\n",
        "    # as its input.\n",
        "    output = tf.concat([output, predicted_id], axis=-1)\n",
        "\n",
        "  return tf.squeeze(output, axis=0), attention_weights"
      ]
    },
    {
      "cell_type": "code",
      "execution_count": null,
      "id": "25ebaf19",
      "metadata": {
        "id": "25ebaf19"
      },
      "outputs": [],
      "source": [
        "def plot_attention_weights(attention, sentence, result, layer):\n",
        "  fig = plt.figure(figsize=(16, 8))\n",
        "  \n",
        "  sentence = tokenizer_pt.encode(sentence)\n",
        "  \n",
        "  attention = tf.squeeze(attention[layer], axis=0)\n",
        "  \n",
        "  for head in range(attention.shape[0]):\n",
        "    ax = fig.add_subplot(2, 4, head+1)\n",
        "    \n",
        "    # plot the attention weights\n",
        "    ax.matshow(attention[head][:-1, :], cmap='viridis')\n",
        "\n",
        "    fontdict = {'fontsize': 10}\n",
        "    \n",
        "    ax.set_xticks(range(len(sentence)+2))\n",
        "    ax.set_yticks(range(len(result)))\n",
        "    \n",
        "    ax.set_ylim(len(result)-1.5, -0.5)\n",
        "        \n",
        "    ax.set_xticklabels(\n",
        "        ['<start>']+[tokenizer_pt.decode([i]) for i in sentence]+['<end>'], \n",
        "        fontdict=fontdict, rotation=90)\n",
        "    \n",
        "    ax.set_yticklabels([tokenizer_en.decode([i]) for i in result \n",
        "                        if i < tokenizer_en.vocab_size], \n",
        "                       fontdict=fontdict)\n",
        "    \n",
        "    ax.set_xlabel('Head {}'.format(head+1))\n",
        "  \n",
        "  plt.tight_layout()\n",
        "  plt.show()"
      ]
    },
    {
      "cell_type": "code",
      "execution_count": null,
      "id": "9fd6d0bd",
      "metadata": {
        "id": "9fd6d0bd"
      },
      "outputs": [],
      "source": [
        "def translate(sentence, plot=''):\n",
        "  result, attention_weights = evaluate(sentence)\n",
        "  \n",
        "  predicted_sentence = tokenizer_en.decode([i for i in result \n",
        "                                            if i < tokenizer_en.vocab_size])  \n",
        "\n",
        "  print('Input: {}'.format(sentence))\n",
        "  print('Predicted translation: {}'.format(predicted_sentence))\n",
        "  \n",
        "  if plot:\n",
        "    plot_attention_weights(attention_weights, sentence, result, plot)"
      ]
    },
    {
      "cell_type": "code",
      "execution_count": null,
      "id": "242a747b",
      "metadata": {
        "id": "242a747b",
        "colab": {
          "base_uri": "https://localhost:8080/"
        },
        "outputId": "82a55b5a-41a2-4680-af6d-86196a5af3d8"
      },
      "outputs": [
        {
          "output_type": "stream",
          "name": "stdout",
          "text": [
            "Input: este é um problema que temos que resolver.\n",
            "Predicted translation: this is a problem we have to deal with .\n",
            "Real translation: this is a problem we have to solve .\n"
          ]
        }
      ],
      "source": [
        "translate(\"este é um problema que temos que resolver.\")\n",
        "print (\"Real translation: this is a problem we have to solve .\")"
      ]
    },
    {
      "cell_type": "code",
      "execution_count": null,
      "id": "4776f610",
      "metadata": {
        "id": "4776f610",
        "colab": {
          "base_uri": "https://localhost:8080/"
        },
        "outputId": "dd510d03-dc88-416a-b7ab-93f0a059d6bf"
      },
      "outputs": [
        {
          "output_type": "stream",
          "name": "stdout",
          "text": [
            "Input: os meus vizinhos ouviram sobre esta ideia.\n",
            "Predicted translation: my neighbors heard about this idea .\n",
            "Real translation: and my neighboring homes heard about this idea .\n"
          ]
        }
      ],
      "source": [
        "translate(\"os meus vizinhos ouviram sobre esta ideia.\")\n",
        "print (\"Real translation: and my neighboring homes heard about this idea .\")"
      ]
    },
    {
      "cell_type": "code",
      "execution_count": null,
      "id": "b82989fe",
      "metadata": {
        "id": "b82989fe",
        "colab": {
          "base_uri": "https://localhost:8080/"
        },
        "outputId": "c2996e55-02cc-4590-b3de-db1d0b71fc37"
      },
      "outputs": [
        {
          "output_type": "stream",
          "name": "stdout",
          "text": [
            "Input: vou então muito rapidamente partilhar convosco algumas histórias de algumas coisas mágicas que aconteceram.\n",
            "Predicted translation: so i 'm going to share with you a few very quickly stories of some magic things , and then i 'm going to happen .\n",
            "Real translation: so i 'll just share with you some stories very quickly of some magical things that have happened .\n"
          ]
        }
      ],
      "source": [
        "translate(\"vou então muito rapidamente partilhar convosco algumas histórias de algumas coisas mágicas que aconteceram.\")\n",
        "print (\"Real translation: so i 'll just share with you some stories very quickly of some magical things that have happened .\")"
      ]
    },
    {
      "cell_type": "markdown",
      "id": "0ee257fa",
      "metadata": {
        "id": "0ee257fa"
      },
      "source": [
        "You can pass different layers and attention blocks of the decoder to the `plot` parameter."
      ]
    },
    {
      "cell_type": "code",
      "source": [
        "# # Pin matplotlib version to 3.2.2 since in the latest version\n",
        "# # transformer.ipynb fails with the following error:\n",
        "# # https://stackoverflow.com/questions/62953704/valueerror-the-number-of-fixedlocator-locations-5-usually-from-a-call-to-set\n",
        "# !pip install matplotlib==3.2.2\n",
        "# then we could call the translate function with plot parameter:\n",
        "# translate(\"este é o primeiro livro que eu fiz.\", plot='decoder_layer4_block2')\n",
        "# print (\"Real translation: this is the first book i've ever done.\")"
      ],
      "metadata": {
        "id": "T_D6NqwagEFZ"
      },
      "id": "T_D6NqwagEFZ",
      "execution_count": null,
      "outputs": []
    },
    {
      "cell_type": "code",
      "execution_count": null,
      "id": "50c750ab",
      "metadata": {
        "id": "50c750ab",
        "colab": {
          "base_uri": "https://localhost:8080/"
        },
        "outputId": "1a5b1d5a-f5b7-418d-fd18-230dcd3ba009"
      },
      "outputs": [
        {
          "output_type": "stream",
          "name": "stdout",
          "text": [
            "Input: este é o primeiro livro que eu fiz.\n",
            "Predicted translation: this is the first book i dod.s .\n",
            "Real translation: this is the first book i've ever done.\n"
          ]
        }
      ],
      "source": [
        "translate(\"este é o primeiro livro que eu fiz.\")\n",
        "print (\"Real translation: this is the first book i've ever done.\")"
      ]
    },
    {
      "cell_type": "markdown",
      "id": "0567805c",
      "metadata": {
        "id": "0567805c"
      },
      "source": [
        "<a class=\"anchor\" id=\"section27\"></a>\n",
        "<h1 style=\"color:blue;font-size: 2em;\">13. Summary</h1>\n",
        "\n",
        "In this tutorial, you learned about positional encoding, multi-head attention, the importance of masking and how to create a transformer.\n",
        "\n",
        "Try using a different dataset to train the transformer. You can also create the base transformer or transformer XL by changing the hyperparameters above. You can also use the layers defined here to create [BERT](https://arxiv.org/abs/1810.04805) and train state of the art models. Futhermore, you can implement beam search to get better predictions."
      ]
    }
  ],
  "metadata": {
    "colab": {
      "provenance": [],
      "gpuType": "T4"
    },
    "kernelspec": {
      "display_name": "Python 3 (ipykernel)",
      "language": "python",
      "name": "python3"
    },
    "language_info": {
      "codemirror_mode": {
        "name": "ipython",
        "version": 3
      },
      "file_extension": ".py",
      "mimetype": "text/x-python",
      "name": "python",
      "nbconvert_exporter": "python",
      "pygments_lexer": "ipython3",
      "version": "3.8.16"
    },
    "widgets": {
      "application/vnd.jupyter.widget-state+json": {
        "37511f5a9af8456a88ac73def4dcafbc": {
          "model_module": "@jupyter-widgets/controls",
          "model_name": "HBoxModel",
          "model_module_version": "1.5.0",
          "state": {
            "_dom_classes": [],
            "_model_module": "@jupyter-widgets/controls",
            "_model_module_version": "1.5.0",
            "_model_name": "HBoxModel",
            "_view_count": null,
            "_view_module": "@jupyter-widgets/controls",
            "_view_module_version": "1.5.0",
            "_view_name": "HBoxView",
            "box_style": "",
            "children": [
              "IPY_MODEL_7943a668a1e74246a3e77f3bd0429939",
              "IPY_MODEL_239ef70031b34c76939cc556d96e0eb3",
              "IPY_MODEL_806edbede957429e8cfd1193f720bfe4"
            ],
            "layout": "IPY_MODEL_d76618c87dd4477aaeb293135a9b623d"
          }
        },
        "7943a668a1e74246a3e77f3bd0429939": {
          "model_module": "@jupyter-widgets/controls",
          "model_name": "HTMLModel",
          "model_module_version": "1.5.0",
          "state": {
            "_dom_classes": [],
            "_model_module": "@jupyter-widgets/controls",
            "_model_module_version": "1.5.0",
            "_model_name": "HTMLModel",
            "_view_count": null,
            "_view_module": "@jupyter-widgets/controls",
            "_view_module_version": "1.5.0",
            "_view_name": "HTMLView",
            "description": "",
            "description_tooltip": null,
            "layout": "IPY_MODEL_fa9acfdae86148709a83f658b597b0d2",
            "placeholder": "​",
            "style": "IPY_MODEL_90c986b8964d4abb8fb6049987ad1454",
            "value": "Dl Completed...: 100%"
          }
        },
        "239ef70031b34c76939cc556d96e0eb3": {
          "model_module": "@jupyter-widgets/controls",
          "model_name": "FloatProgressModel",
          "model_module_version": "1.5.0",
          "state": {
            "_dom_classes": [],
            "_model_module": "@jupyter-widgets/controls",
            "_model_module_version": "1.5.0",
            "_model_name": "FloatProgressModel",
            "_view_count": null,
            "_view_module": "@jupyter-widgets/controls",
            "_view_module_version": "1.5.0",
            "_view_name": "ProgressView",
            "bar_style": "success",
            "description": "",
            "description_tooltip": null,
            "layout": "IPY_MODEL_77ab34a6adc94f89a80f6ce16f47ec1b",
            "max": 1,
            "min": 0,
            "orientation": "horizontal",
            "style": "IPY_MODEL_4246e67540494ef1b0337d358e132649",
            "value": 1
          }
        },
        "806edbede957429e8cfd1193f720bfe4": {
          "model_module": "@jupyter-widgets/controls",
          "model_name": "HTMLModel",
          "model_module_version": "1.5.0",
          "state": {
            "_dom_classes": [],
            "_model_module": "@jupyter-widgets/controls",
            "_model_module_version": "1.5.0",
            "_model_name": "HTMLModel",
            "_view_count": null,
            "_view_module": "@jupyter-widgets/controls",
            "_view_module_version": "1.5.0",
            "_view_name": "HTMLView",
            "description": "",
            "description_tooltip": null,
            "layout": "IPY_MODEL_2eb7cd3912e94fc1b9727e01ccf24016",
            "placeholder": "​",
            "style": "IPY_MODEL_68b7c43aac36437bb87c407c89acdc04",
            "value": " 1/1 [00:16&lt;00:00, 12.95s/ url]"
          }
        },
        "d76618c87dd4477aaeb293135a9b623d": {
          "model_module": "@jupyter-widgets/base",
          "model_name": "LayoutModel",
          "model_module_version": "1.2.0",
          "state": {
            "_model_module": "@jupyter-widgets/base",
            "_model_module_version": "1.2.0",
            "_model_name": "LayoutModel",
            "_view_count": null,
            "_view_module": "@jupyter-widgets/base",
            "_view_module_version": "1.2.0",
            "_view_name": "LayoutView",
            "align_content": null,
            "align_items": null,
            "align_self": null,
            "border": null,
            "bottom": null,
            "display": null,
            "flex": null,
            "flex_flow": null,
            "grid_area": null,
            "grid_auto_columns": null,
            "grid_auto_flow": null,
            "grid_auto_rows": null,
            "grid_column": null,
            "grid_gap": null,
            "grid_row": null,
            "grid_template_areas": null,
            "grid_template_columns": null,
            "grid_template_rows": null,
            "height": null,
            "justify_content": null,
            "justify_items": null,
            "left": null,
            "margin": null,
            "max_height": null,
            "max_width": null,
            "min_height": null,
            "min_width": null,
            "object_fit": null,
            "object_position": null,
            "order": null,
            "overflow": null,
            "overflow_x": null,
            "overflow_y": null,
            "padding": null,
            "right": null,
            "top": null,
            "visibility": null,
            "width": null
          }
        },
        "fa9acfdae86148709a83f658b597b0d2": {
          "model_module": "@jupyter-widgets/base",
          "model_name": "LayoutModel",
          "model_module_version": "1.2.0",
          "state": {
            "_model_module": "@jupyter-widgets/base",
            "_model_module_version": "1.2.0",
            "_model_name": "LayoutModel",
            "_view_count": null,
            "_view_module": "@jupyter-widgets/base",
            "_view_module_version": "1.2.0",
            "_view_name": "LayoutView",
            "align_content": null,
            "align_items": null,
            "align_self": null,
            "border": null,
            "bottom": null,
            "display": null,
            "flex": null,
            "flex_flow": null,
            "grid_area": null,
            "grid_auto_columns": null,
            "grid_auto_flow": null,
            "grid_auto_rows": null,
            "grid_column": null,
            "grid_gap": null,
            "grid_row": null,
            "grid_template_areas": null,
            "grid_template_columns": null,
            "grid_template_rows": null,
            "height": null,
            "justify_content": null,
            "justify_items": null,
            "left": null,
            "margin": null,
            "max_height": null,
            "max_width": null,
            "min_height": null,
            "min_width": null,
            "object_fit": null,
            "object_position": null,
            "order": null,
            "overflow": null,
            "overflow_x": null,
            "overflow_y": null,
            "padding": null,
            "right": null,
            "top": null,
            "visibility": null,
            "width": null
          }
        },
        "90c986b8964d4abb8fb6049987ad1454": {
          "model_module": "@jupyter-widgets/controls",
          "model_name": "DescriptionStyleModel",
          "model_module_version": "1.5.0",
          "state": {
            "_model_module": "@jupyter-widgets/controls",
            "_model_module_version": "1.5.0",
            "_model_name": "DescriptionStyleModel",
            "_view_count": null,
            "_view_module": "@jupyter-widgets/base",
            "_view_module_version": "1.2.0",
            "_view_name": "StyleView",
            "description_width": ""
          }
        },
        "77ab34a6adc94f89a80f6ce16f47ec1b": {
          "model_module": "@jupyter-widgets/base",
          "model_name": "LayoutModel",
          "model_module_version": "1.2.0",
          "state": {
            "_model_module": "@jupyter-widgets/base",
            "_model_module_version": "1.2.0",
            "_model_name": "LayoutModel",
            "_view_count": null,
            "_view_module": "@jupyter-widgets/base",
            "_view_module_version": "1.2.0",
            "_view_name": "LayoutView",
            "align_content": null,
            "align_items": null,
            "align_self": null,
            "border": null,
            "bottom": null,
            "display": null,
            "flex": null,
            "flex_flow": null,
            "grid_area": null,
            "grid_auto_columns": null,
            "grid_auto_flow": null,
            "grid_auto_rows": null,
            "grid_column": null,
            "grid_gap": null,
            "grid_row": null,
            "grid_template_areas": null,
            "grid_template_columns": null,
            "grid_template_rows": null,
            "height": null,
            "justify_content": null,
            "justify_items": null,
            "left": null,
            "margin": null,
            "max_height": null,
            "max_width": null,
            "min_height": null,
            "min_width": null,
            "object_fit": null,
            "object_position": null,
            "order": null,
            "overflow": null,
            "overflow_x": null,
            "overflow_y": null,
            "padding": null,
            "right": null,
            "top": null,
            "visibility": null,
            "width": "20px"
          }
        },
        "4246e67540494ef1b0337d358e132649": {
          "model_module": "@jupyter-widgets/controls",
          "model_name": "ProgressStyleModel",
          "model_module_version": "1.5.0",
          "state": {
            "_model_module": "@jupyter-widgets/controls",
            "_model_module_version": "1.5.0",
            "_model_name": "ProgressStyleModel",
            "_view_count": null,
            "_view_module": "@jupyter-widgets/base",
            "_view_module_version": "1.2.0",
            "_view_name": "StyleView",
            "bar_color": null,
            "description_width": ""
          }
        },
        "2eb7cd3912e94fc1b9727e01ccf24016": {
          "model_module": "@jupyter-widgets/base",
          "model_name": "LayoutModel",
          "model_module_version": "1.2.0",
          "state": {
            "_model_module": "@jupyter-widgets/base",
            "_model_module_version": "1.2.0",
            "_model_name": "LayoutModel",
            "_view_count": null,
            "_view_module": "@jupyter-widgets/base",
            "_view_module_version": "1.2.0",
            "_view_name": "LayoutView",
            "align_content": null,
            "align_items": null,
            "align_self": null,
            "border": null,
            "bottom": null,
            "display": null,
            "flex": null,
            "flex_flow": null,
            "grid_area": null,
            "grid_auto_columns": null,
            "grid_auto_flow": null,
            "grid_auto_rows": null,
            "grid_column": null,
            "grid_gap": null,
            "grid_row": null,
            "grid_template_areas": null,
            "grid_template_columns": null,
            "grid_template_rows": null,
            "height": null,
            "justify_content": null,
            "justify_items": null,
            "left": null,
            "margin": null,
            "max_height": null,
            "max_width": null,
            "min_height": null,
            "min_width": null,
            "object_fit": null,
            "object_position": null,
            "order": null,
            "overflow": null,
            "overflow_x": null,
            "overflow_y": null,
            "padding": null,
            "right": null,
            "top": null,
            "visibility": null,
            "width": null
          }
        },
        "68b7c43aac36437bb87c407c89acdc04": {
          "model_module": "@jupyter-widgets/controls",
          "model_name": "DescriptionStyleModel",
          "model_module_version": "1.5.0",
          "state": {
            "_model_module": "@jupyter-widgets/controls",
            "_model_module_version": "1.5.0",
            "_model_name": "DescriptionStyleModel",
            "_view_count": null,
            "_view_module": "@jupyter-widgets/base",
            "_view_module_version": "1.2.0",
            "_view_name": "StyleView",
            "description_width": ""
          }
        },
        "339d3ae439514b98b9304423d39b11dd": {
          "model_module": "@jupyter-widgets/controls",
          "model_name": "HBoxModel",
          "model_module_version": "1.5.0",
          "state": {
            "_dom_classes": [],
            "_model_module": "@jupyter-widgets/controls",
            "_model_module_version": "1.5.0",
            "_model_name": "HBoxModel",
            "_view_count": null,
            "_view_module": "@jupyter-widgets/controls",
            "_view_module_version": "1.5.0",
            "_view_name": "HBoxView",
            "box_style": "",
            "children": [
              "IPY_MODEL_91e26a3b430e43b7b32b63b1c2ee4ce7",
              "IPY_MODEL_6da4bcad21c94022b8d386dfe5914285",
              "IPY_MODEL_0bb501df70894d0aa78ac5cf4fcf6b51"
            ],
            "layout": "IPY_MODEL_2e30c0ec42434e6d828d8ce9b7bb3d95"
          }
        },
        "91e26a3b430e43b7b32b63b1c2ee4ce7": {
          "model_module": "@jupyter-widgets/controls",
          "model_name": "HTMLModel",
          "model_module_version": "1.5.0",
          "state": {
            "_dom_classes": [],
            "_model_module": "@jupyter-widgets/controls",
            "_model_module_version": "1.5.0",
            "_model_name": "HTMLModel",
            "_view_count": null,
            "_view_module": "@jupyter-widgets/controls",
            "_view_module_version": "1.5.0",
            "_view_name": "HTMLView",
            "description": "",
            "description_tooltip": null,
            "layout": "IPY_MODEL_2b30bd809f1b43bb9d5082c9cc2e722e",
            "placeholder": "​",
            "style": "IPY_MODEL_b927a493c89c41b09995260ce265fae2",
            "value": "Dl Size...: 100%"
          }
        },
        "6da4bcad21c94022b8d386dfe5914285": {
          "model_module": "@jupyter-widgets/controls",
          "model_name": "FloatProgressModel",
          "model_module_version": "1.5.0",
          "state": {
            "_dom_classes": [],
            "_model_module": "@jupyter-widgets/controls",
            "_model_module_version": "1.5.0",
            "_model_name": "FloatProgressModel",
            "_view_count": null,
            "_view_module": "@jupyter-widgets/controls",
            "_view_module_version": "1.5.0",
            "_view_name": "ProgressView",
            "bar_style": "success",
            "description": "",
            "description_tooltip": null,
            "layout": "IPY_MODEL_db75738ea24a43398b5ca3a5e8a04305",
            "max": 1,
            "min": 0,
            "orientation": "horizontal",
            "style": "IPY_MODEL_f4a402d114c54e0d9476442a57ecd156",
            "value": 1
          }
        },
        "0bb501df70894d0aa78ac5cf4fcf6b51": {
          "model_module": "@jupyter-widgets/controls",
          "model_name": "HTMLModel",
          "model_module_version": "1.5.0",
          "state": {
            "_dom_classes": [],
            "_model_module": "@jupyter-widgets/controls",
            "_model_module_version": "1.5.0",
            "_model_name": "HTMLModel",
            "_view_count": null,
            "_view_module": "@jupyter-widgets/controls",
            "_view_module_version": "1.5.0",
            "_view_name": "HTMLView",
            "description": "",
            "description_tooltip": null,
            "layout": "IPY_MODEL_d7bd1f1130ba422eac5546e280d5d188",
            "placeholder": "​",
            "style": "IPY_MODEL_24513f891e4c4646a4ef5cd09de0b8bf",
            "value": " 124/124 [00:16&lt;00:00, 12.79 MiB/s]"
          }
        },
        "2e30c0ec42434e6d828d8ce9b7bb3d95": {
          "model_module": "@jupyter-widgets/base",
          "model_name": "LayoutModel",
          "model_module_version": "1.2.0",
          "state": {
            "_model_module": "@jupyter-widgets/base",
            "_model_module_version": "1.2.0",
            "_model_name": "LayoutModel",
            "_view_count": null,
            "_view_module": "@jupyter-widgets/base",
            "_view_module_version": "1.2.0",
            "_view_name": "LayoutView",
            "align_content": null,
            "align_items": null,
            "align_self": null,
            "border": null,
            "bottom": null,
            "display": null,
            "flex": null,
            "flex_flow": null,
            "grid_area": null,
            "grid_auto_columns": null,
            "grid_auto_flow": null,
            "grid_auto_rows": null,
            "grid_column": null,
            "grid_gap": null,
            "grid_row": null,
            "grid_template_areas": null,
            "grid_template_columns": null,
            "grid_template_rows": null,
            "height": null,
            "justify_content": null,
            "justify_items": null,
            "left": null,
            "margin": null,
            "max_height": null,
            "max_width": null,
            "min_height": null,
            "min_width": null,
            "object_fit": null,
            "object_position": null,
            "order": null,
            "overflow": null,
            "overflow_x": null,
            "overflow_y": null,
            "padding": null,
            "right": null,
            "top": null,
            "visibility": null,
            "width": null
          }
        },
        "2b30bd809f1b43bb9d5082c9cc2e722e": {
          "model_module": "@jupyter-widgets/base",
          "model_name": "LayoutModel",
          "model_module_version": "1.2.0",
          "state": {
            "_model_module": "@jupyter-widgets/base",
            "_model_module_version": "1.2.0",
            "_model_name": "LayoutModel",
            "_view_count": null,
            "_view_module": "@jupyter-widgets/base",
            "_view_module_version": "1.2.0",
            "_view_name": "LayoutView",
            "align_content": null,
            "align_items": null,
            "align_self": null,
            "border": null,
            "bottom": null,
            "display": null,
            "flex": null,
            "flex_flow": null,
            "grid_area": null,
            "grid_auto_columns": null,
            "grid_auto_flow": null,
            "grid_auto_rows": null,
            "grid_column": null,
            "grid_gap": null,
            "grid_row": null,
            "grid_template_areas": null,
            "grid_template_columns": null,
            "grid_template_rows": null,
            "height": null,
            "justify_content": null,
            "justify_items": null,
            "left": null,
            "margin": null,
            "max_height": null,
            "max_width": null,
            "min_height": null,
            "min_width": null,
            "object_fit": null,
            "object_position": null,
            "order": null,
            "overflow": null,
            "overflow_x": null,
            "overflow_y": null,
            "padding": null,
            "right": null,
            "top": null,
            "visibility": null,
            "width": null
          }
        },
        "b927a493c89c41b09995260ce265fae2": {
          "model_module": "@jupyter-widgets/controls",
          "model_name": "DescriptionStyleModel",
          "model_module_version": "1.5.0",
          "state": {
            "_model_module": "@jupyter-widgets/controls",
            "_model_module_version": "1.5.0",
            "_model_name": "DescriptionStyleModel",
            "_view_count": null,
            "_view_module": "@jupyter-widgets/base",
            "_view_module_version": "1.2.0",
            "_view_name": "StyleView",
            "description_width": ""
          }
        },
        "db75738ea24a43398b5ca3a5e8a04305": {
          "model_module": "@jupyter-widgets/base",
          "model_name": "LayoutModel",
          "model_module_version": "1.2.0",
          "state": {
            "_model_module": "@jupyter-widgets/base",
            "_model_module_version": "1.2.0",
            "_model_name": "LayoutModel",
            "_view_count": null,
            "_view_module": "@jupyter-widgets/base",
            "_view_module_version": "1.2.0",
            "_view_name": "LayoutView",
            "align_content": null,
            "align_items": null,
            "align_self": null,
            "border": null,
            "bottom": null,
            "display": null,
            "flex": null,
            "flex_flow": null,
            "grid_area": null,
            "grid_auto_columns": null,
            "grid_auto_flow": null,
            "grid_auto_rows": null,
            "grid_column": null,
            "grid_gap": null,
            "grid_row": null,
            "grid_template_areas": null,
            "grid_template_columns": null,
            "grid_template_rows": null,
            "height": null,
            "justify_content": null,
            "justify_items": null,
            "left": null,
            "margin": null,
            "max_height": null,
            "max_width": null,
            "min_height": null,
            "min_width": null,
            "object_fit": null,
            "object_position": null,
            "order": null,
            "overflow": null,
            "overflow_x": null,
            "overflow_y": null,
            "padding": null,
            "right": null,
            "top": null,
            "visibility": null,
            "width": "20px"
          }
        },
        "f4a402d114c54e0d9476442a57ecd156": {
          "model_module": "@jupyter-widgets/controls",
          "model_name": "ProgressStyleModel",
          "model_module_version": "1.5.0",
          "state": {
            "_model_module": "@jupyter-widgets/controls",
            "_model_module_version": "1.5.0",
            "_model_name": "ProgressStyleModel",
            "_view_count": null,
            "_view_module": "@jupyter-widgets/base",
            "_view_module_version": "1.2.0",
            "_view_name": "StyleView",
            "bar_color": null,
            "description_width": ""
          }
        },
        "d7bd1f1130ba422eac5546e280d5d188": {
          "model_module": "@jupyter-widgets/base",
          "model_name": "LayoutModel",
          "model_module_version": "1.2.0",
          "state": {
            "_model_module": "@jupyter-widgets/base",
            "_model_module_version": "1.2.0",
            "_model_name": "LayoutModel",
            "_view_count": null,
            "_view_module": "@jupyter-widgets/base",
            "_view_module_version": "1.2.0",
            "_view_name": "LayoutView",
            "align_content": null,
            "align_items": null,
            "align_self": null,
            "border": null,
            "bottom": null,
            "display": null,
            "flex": null,
            "flex_flow": null,
            "grid_area": null,
            "grid_auto_columns": null,
            "grid_auto_flow": null,
            "grid_auto_rows": null,
            "grid_column": null,
            "grid_gap": null,
            "grid_row": null,
            "grid_template_areas": null,
            "grid_template_columns": null,
            "grid_template_rows": null,
            "height": null,
            "justify_content": null,
            "justify_items": null,
            "left": null,
            "margin": null,
            "max_height": null,
            "max_width": null,
            "min_height": null,
            "min_width": null,
            "object_fit": null,
            "object_position": null,
            "order": null,
            "overflow": null,
            "overflow_x": null,
            "overflow_y": null,
            "padding": null,
            "right": null,
            "top": null,
            "visibility": null,
            "width": null
          }
        },
        "24513f891e4c4646a4ef5cd09de0b8bf": {
          "model_module": "@jupyter-widgets/controls",
          "model_name": "DescriptionStyleModel",
          "model_module_version": "1.5.0",
          "state": {
            "_model_module": "@jupyter-widgets/controls",
            "_model_module_version": "1.5.0",
            "_model_name": "DescriptionStyleModel",
            "_view_count": null,
            "_view_module": "@jupyter-widgets/base",
            "_view_module_version": "1.2.0",
            "_view_name": "StyleView",
            "description_width": ""
          }
        },
        "3729276c338c4ee781aa2b2c370bdcf2": {
          "model_module": "@jupyter-widgets/controls",
          "model_name": "HBoxModel",
          "model_module_version": "1.5.0",
          "state": {
            "_dom_classes": [],
            "_model_module": "@jupyter-widgets/controls",
            "_model_module_version": "1.5.0",
            "_model_name": "HBoxModel",
            "_view_count": null,
            "_view_module": "@jupyter-widgets/controls",
            "_view_module_version": "1.5.0",
            "_view_name": "HBoxView",
            "box_style": "",
            "children": [
              "IPY_MODEL_e8561599914f4f63992d632d29fe9509",
              "IPY_MODEL_6f831a781eb74754b5861bd9ebfb7cf7",
              "IPY_MODEL_fcfac572f6b643ffabdc125122b0c23b"
            ],
            "layout": "IPY_MODEL_5a98fbc26f814df6bcefd74872bcfdf5"
          }
        },
        "e8561599914f4f63992d632d29fe9509": {
          "model_module": "@jupyter-widgets/controls",
          "model_name": "HTMLModel",
          "model_module_version": "1.5.0",
          "state": {
            "_dom_classes": [],
            "_model_module": "@jupyter-widgets/controls",
            "_model_module_version": "1.5.0",
            "_model_name": "HTMLModel",
            "_view_count": null,
            "_view_module": "@jupyter-widgets/controls",
            "_view_module_version": "1.5.0",
            "_view_name": "HTMLView",
            "description": "",
            "description_tooltip": null,
            "layout": "IPY_MODEL_4b7ad08b7813407db601dfeee0133ba1",
            "placeholder": "​",
            "style": "IPY_MODEL_ec6bd301b075484a85aee2ad9869a328",
            "value": "Extraction completed...: 100%"
          }
        },
        "6f831a781eb74754b5861bd9ebfb7cf7": {
          "model_module": "@jupyter-widgets/controls",
          "model_name": "FloatProgressModel",
          "model_module_version": "1.5.0",
          "state": {
            "_dom_classes": [],
            "_model_module": "@jupyter-widgets/controls",
            "_model_module_version": "1.5.0",
            "_model_name": "FloatProgressModel",
            "_view_count": null,
            "_view_module": "@jupyter-widgets/controls",
            "_view_module_version": "1.5.0",
            "_view_name": "ProgressView",
            "bar_style": "success",
            "description": "",
            "description_tooltip": null,
            "layout": "IPY_MODEL_b9ce9dea38e84b68987b590975c41750",
            "max": 1,
            "min": 0,
            "orientation": "horizontal",
            "style": "IPY_MODEL_42e77c2a3d4a49ffbab7f9f313c4035b",
            "value": 1
          }
        },
        "fcfac572f6b643ffabdc125122b0c23b": {
          "model_module": "@jupyter-widgets/controls",
          "model_name": "HTMLModel",
          "model_module_version": "1.5.0",
          "state": {
            "_dom_classes": [],
            "_model_module": "@jupyter-widgets/controls",
            "_model_module_version": "1.5.0",
            "_model_name": "HTMLModel",
            "_view_count": null,
            "_view_module": "@jupyter-widgets/controls",
            "_view_module_version": "1.5.0",
            "_view_name": "HTMLView",
            "description": "",
            "description_tooltip": null,
            "layout": "IPY_MODEL_b799c8262bb641c48d60c0a5e11e3089",
            "placeholder": "​",
            "style": "IPY_MODEL_8fbc5584ea76440ba2918a82909fd037",
            "value": " 112/112 [00:16&lt;00:00,  7.81 file/s]"
          }
        },
        "5a98fbc26f814df6bcefd74872bcfdf5": {
          "model_module": "@jupyter-widgets/base",
          "model_name": "LayoutModel",
          "model_module_version": "1.2.0",
          "state": {
            "_model_module": "@jupyter-widgets/base",
            "_model_module_version": "1.2.0",
            "_model_name": "LayoutModel",
            "_view_count": null,
            "_view_module": "@jupyter-widgets/base",
            "_view_module_version": "1.2.0",
            "_view_name": "LayoutView",
            "align_content": null,
            "align_items": null,
            "align_self": null,
            "border": null,
            "bottom": null,
            "display": null,
            "flex": null,
            "flex_flow": null,
            "grid_area": null,
            "grid_auto_columns": null,
            "grid_auto_flow": null,
            "grid_auto_rows": null,
            "grid_column": null,
            "grid_gap": null,
            "grid_row": null,
            "grid_template_areas": null,
            "grid_template_columns": null,
            "grid_template_rows": null,
            "height": null,
            "justify_content": null,
            "justify_items": null,
            "left": null,
            "margin": null,
            "max_height": null,
            "max_width": null,
            "min_height": null,
            "min_width": null,
            "object_fit": null,
            "object_position": null,
            "order": null,
            "overflow": null,
            "overflow_x": null,
            "overflow_y": null,
            "padding": null,
            "right": null,
            "top": null,
            "visibility": null,
            "width": null
          }
        },
        "4b7ad08b7813407db601dfeee0133ba1": {
          "model_module": "@jupyter-widgets/base",
          "model_name": "LayoutModel",
          "model_module_version": "1.2.0",
          "state": {
            "_model_module": "@jupyter-widgets/base",
            "_model_module_version": "1.2.0",
            "_model_name": "LayoutModel",
            "_view_count": null,
            "_view_module": "@jupyter-widgets/base",
            "_view_module_version": "1.2.0",
            "_view_name": "LayoutView",
            "align_content": null,
            "align_items": null,
            "align_self": null,
            "border": null,
            "bottom": null,
            "display": null,
            "flex": null,
            "flex_flow": null,
            "grid_area": null,
            "grid_auto_columns": null,
            "grid_auto_flow": null,
            "grid_auto_rows": null,
            "grid_column": null,
            "grid_gap": null,
            "grid_row": null,
            "grid_template_areas": null,
            "grid_template_columns": null,
            "grid_template_rows": null,
            "height": null,
            "justify_content": null,
            "justify_items": null,
            "left": null,
            "margin": null,
            "max_height": null,
            "max_width": null,
            "min_height": null,
            "min_width": null,
            "object_fit": null,
            "object_position": null,
            "order": null,
            "overflow": null,
            "overflow_x": null,
            "overflow_y": null,
            "padding": null,
            "right": null,
            "top": null,
            "visibility": null,
            "width": null
          }
        },
        "ec6bd301b075484a85aee2ad9869a328": {
          "model_module": "@jupyter-widgets/controls",
          "model_name": "DescriptionStyleModel",
          "model_module_version": "1.5.0",
          "state": {
            "_model_module": "@jupyter-widgets/controls",
            "_model_module_version": "1.5.0",
            "_model_name": "DescriptionStyleModel",
            "_view_count": null,
            "_view_module": "@jupyter-widgets/base",
            "_view_module_version": "1.2.0",
            "_view_name": "StyleView",
            "description_width": ""
          }
        },
        "b9ce9dea38e84b68987b590975c41750": {
          "model_module": "@jupyter-widgets/base",
          "model_name": "LayoutModel",
          "model_module_version": "1.2.0",
          "state": {
            "_model_module": "@jupyter-widgets/base",
            "_model_module_version": "1.2.0",
            "_model_name": "LayoutModel",
            "_view_count": null,
            "_view_module": "@jupyter-widgets/base",
            "_view_module_version": "1.2.0",
            "_view_name": "LayoutView",
            "align_content": null,
            "align_items": null,
            "align_self": null,
            "border": null,
            "bottom": null,
            "display": null,
            "flex": null,
            "flex_flow": null,
            "grid_area": null,
            "grid_auto_columns": null,
            "grid_auto_flow": null,
            "grid_auto_rows": null,
            "grid_column": null,
            "grid_gap": null,
            "grid_row": null,
            "grid_template_areas": null,
            "grid_template_columns": null,
            "grid_template_rows": null,
            "height": null,
            "justify_content": null,
            "justify_items": null,
            "left": null,
            "margin": null,
            "max_height": null,
            "max_width": null,
            "min_height": null,
            "min_width": null,
            "object_fit": null,
            "object_position": null,
            "order": null,
            "overflow": null,
            "overflow_x": null,
            "overflow_y": null,
            "padding": null,
            "right": null,
            "top": null,
            "visibility": null,
            "width": "20px"
          }
        },
        "42e77c2a3d4a49ffbab7f9f313c4035b": {
          "model_module": "@jupyter-widgets/controls",
          "model_name": "ProgressStyleModel",
          "model_module_version": "1.5.0",
          "state": {
            "_model_module": "@jupyter-widgets/controls",
            "_model_module_version": "1.5.0",
            "_model_name": "ProgressStyleModel",
            "_view_count": null,
            "_view_module": "@jupyter-widgets/base",
            "_view_module_version": "1.2.0",
            "_view_name": "StyleView",
            "bar_color": null,
            "description_width": ""
          }
        },
        "b799c8262bb641c48d60c0a5e11e3089": {
          "model_module": "@jupyter-widgets/base",
          "model_name": "LayoutModel",
          "model_module_version": "1.2.0",
          "state": {
            "_model_module": "@jupyter-widgets/base",
            "_model_module_version": "1.2.0",
            "_model_name": "LayoutModel",
            "_view_count": null,
            "_view_module": "@jupyter-widgets/base",
            "_view_module_version": "1.2.0",
            "_view_name": "LayoutView",
            "align_content": null,
            "align_items": null,
            "align_self": null,
            "border": null,
            "bottom": null,
            "display": null,
            "flex": null,
            "flex_flow": null,
            "grid_area": null,
            "grid_auto_columns": null,
            "grid_auto_flow": null,
            "grid_auto_rows": null,
            "grid_column": null,
            "grid_gap": null,
            "grid_row": null,
            "grid_template_areas": null,
            "grid_template_columns": null,
            "grid_template_rows": null,
            "height": null,
            "justify_content": null,
            "justify_items": null,
            "left": null,
            "margin": null,
            "max_height": null,
            "max_width": null,
            "min_height": null,
            "min_width": null,
            "object_fit": null,
            "object_position": null,
            "order": null,
            "overflow": null,
            "overflow_x": null,
            "overflow_y": null,
            "padding": null,
            "right": null,
            "top": null,
            "visibility": null,
            "width": null
          }
        },
        "8fbc5584ea76440ba2918a82909fd037": {
          "model_module": "@jupyter-widgets/controls",
          "model_name": "DescriptionStyleModel",
          "model_module_version": "1.5.0",
          "state": {
            "_model_module": "@jupyter-widgets/controls",
            "_model_module_version": "1.5.0",
            "_model_name": "DescriptionStyleModel",
            "_view_count": null,
            "_view_module": "@jupyter-widgets/base",
            "_view_module_version": "1.2.0",
            "_view_name": "StyleView",
            "description_width": ""
          }
        },
        "243e2dd6f66d4e22a994cc089ece6dc4": {
          "model_module": "@jupyter-widgets/controls",
          "model_name": "HBoxModel",
          "model_module_version": "1.5.0",
          "state": {
            "_dom_classes": [],
            "_model_module": "@jupyter-widgets/controls",
            "_model_module_version": "1.5.0",
            "_model_name": "HBoxModel",
            "_view_count": null,
            "_view_module": "@jupyter-widgets/controls",
            "_view_module_version": "1.5.0",
            "_view_name": "HBoxView",
            "box_style": "",
            "children": [
              "IPY_MODEL_1375621a08fd4be583c7c17aaae205d8",
              "IPY_MODEL_1b81a904e1d1411fa78f62a1bdba2a63",
              "IPY_MODEL_a5233626b5a5494780b26331e18ddc14"
            ],
            "layout": "IPY_MODEL_6797fbe3937940e59213ed2831aecfb8"
          }
        },
        "1375621a08fd4be583c7c17aaae205d8": {
          "model_module": "@jupyter-widgets/controls",
          "model_name": "HTMLModel",
          "model_module_version": "1.5.0",
          "state": {
            "_dom_classes": [],
            "_model_module": "@jupyter-widgets/controls",
            "_model_module_version": "1.5.0",
            "_model_name": "HTMLModel",
            "_view_count": null,
            "_view_module": "@jupyter-widgets/controls",
            "_view_module_version": "1.5.0",
            "_view_name": "HTMLView",
            "description": "",
            "description_tooltip": null,
            "layout": "IPY_MODEL_5cadbc899ad741289ab3a65125efab34",
            "placeholder": "​",
            "style": "IPY_MODEL_3a0a346c292e4c9ca7beabc88b1623ff",
            "value": "Generating splits...: 100%"
          }
        },
        "1b81a904e1d1411fa78f62a1bdba2a63": {
          "model_module": "@jupyter-widgets/controls",
          "model_name": "FloatProgressModel",
          "model_module_version": "1.5.0",
          "state": {
            "_dom_classes": [],
            "_model_module": "@jupyter-widgets/controls",
            "_model_module_version": "1.5.0",
            "_model_name": "FloatProgressModel",
            "_view_count": null,
            "_view_module": "@jupyter-widgets/controls",
            "_view_module_version": "1.5.0",
            "_view_name": "ProgressView",
            "bar_style": "",
            "description": "",
            "description_tooltip": null,
            "layout": "IPY_MODEL_c8a7fd8363d4400b98816fc7749211b3",
            "max": 3,
            "min": 0,
            "orientation": "horizontal",
            "style": "IPY_MODEL_26ee6cba022847fb8df1dae17eaf8ef5",
            "value": 3
          }
        },
        "a5233626b5a5494780b26331e18ddc14": {
          "model_module": "@jupyter-widgets/controls",
          "model_name": "HTMLModel",
          "model_module_version": "1.5.0",
          "state": {
            "_dom_classes": [],
            "_model_module": "@jupyter-widgets/controls",
            "_model_module_version": "1.5.0",
            "_model_name": "HTMLModel",
            "_view_count": null,
            "_view_module": "@jupyter-widgets/controls",
            "_view_module_version": "1.5.0",
            "_view_name": "HTMLView",
            "description": "",
            "description_tooltip": null,
            "layout": "IPY_MODEL_439911e9960c4e4b83788748fd40bada",
            "placeholder": "​",
            "style": "IPY_MODEL_17312a33409446b084b41d1f7b38fa03",
            "value": " 3/3 [00:04&lt;00:00,  1.11s/ splits]"
          }
        },
        "6797fbe3937940e59213ed2831aecfb8": {
          "model_module": "@jupyter-widgets/base",
          "model_name": "LayoutModel",
          "model_module_version": "1.2.0",
          "state": {
            "_model_module": "@jupyter-widgets/base",
            "_model_module_version": "1.2.0",
            "_model_name": "LayoutModel",
            "_view_count": null,
            "_view_module": "@jupyter-widgets/base",
            "_view_module_version": "1.2.0",
            "_view_name": "LayoutView",
            "align_content": null,
            "align_items": null,
            "align_self": null,
            "border": null,
            "bottom": null,
            "display": null,
            "flex": null,
            "flex_flow": null,
            "grid_area": null,
            "grid_auto_columns": null,
            "grid_auto_flow": null,
            "grid_auto_rows": null,
            "grid_column": null,
            "grid_gap": null,
            "grid_row": null,
            "grid_template_areas": null,
            "grid_template_columns": null,
            "grid_template_rows": null,
            "height": null,
            "justify_content": null,
            "justify_items": null,
            "left": null,
            "margin": null,
            "max_height": null,
            "max_width": null,
            "min_height": null,
            "min_width": null,
            "object_fit": null,
            "object_position": null,
            "order": null,
            "overflow": null,
            "overflow_x": null,
            "overflow_y": null,
            "padding": null,
            "right": null,
            "top": null,
            "visibility": "hidden",
            "width": null
          }
        },
        "5cadbc899ad741289ab3a65125efab34": {
          "model_module": "@jupyter-widgets/base",
          "model_name": "LayoutModel",
          "model_module_version": "1.2.0",
          "state": {
            "_model_module": "@jupyter-widgets/base",
            "_model_module_version": "1.2.0",
            "_model_name": "LayoutModel",
            "_view_count": null,
            "_view_module": "@jupyter-widgets/base",
            "_view_module_version": "1.2.0",
            "_view_name": "LayoutView",
            "align_content": null,
            "align_items": null,
            "align_self": null,
            "border": null,
            "bottom": null,
            "display": null,
            "flex": null,
            "flex_flow": null,
            "grid_area": null,
            "grid_auto_columns": null,
            "grid_auto_flow": null,
            "grid_auto_rows": null,
            "grid_column": null,
            "grid_gap": null,
            "grid_row": null,
            "grid_template_areas": null,
            "grid_template_columns": null,
            "grid_template_rows": null,
            "height": null,
            "justify_content": null,
            "justify_items": null,
            "left": null,
            "margin": null,
            "max_height": null,
            "max_width": null,
            "min_height": null,
            "min_width": null,
            "object_fit": null,
            "object_position": null,
            "order": null,
            "overflow": null,
            "overflow_x": null,
            "overflow_y": null,
            "padding": null,
            "right": null,
            "top": null,
            "visibility": null,
            "width": null
          }
        },
        "3a0a346c292e4c9ca7beabc88b1623ff": {
          "model_module": "@jupyter-widgets/controls",
          "model_name": "DescriptionStyleModel",
          "model_module_version": "1.5.0",
          "state": {
            "_model_module": "@jupyter-widgets/controls",
            "_model_module_version": "1.5.0",
            "_model_name": "DescriptionStyleModel",
            "_view_count": null,
            "_view_module": "@jupyter-widgets/base",
            "_view_module_version": "1.2.0",
            "_view_name": "StyleView",
            "description_width": ""
          }
        },
        "c8a7fd8363d4400b98816fc7749211b3": {
          "model_module": "@jupyter-widgets/base",
          "model_name": "LayoutModel",
          "model_module_version": "1.2.0",
          "state": {
            "_model_module": "@jupyter-widgets/base",
            "_model_module_version": "1.2.0",
            "_model_name": "LayoutModel",
            "_view_count": null,
            "_view_module": "@jupyter-widgets/base",
            "_view_module_version": "1.2.0",
            "_view_name": "LayoutView",
            "align_content": null,
            "align_items": null,
            "align_self": null,
            "border": null,
            "bottom": null,
            "display": null,
            "flex": null,
            "flex_flow": null,
            "grid_area": null,
            "grid_auto_columns": null,
            "grid_auto_flow": null,
            "grid_auto_rows": null,
            "grid_column": null,
            "grid_gap": null,
            "grid_row": null,
            "grid_template_areas": null,
            "grid_template_columns": null,
            "grid_template_rows": null,
            "height": null,
            "justify_content": null,
            "justify_items": null,
            "left": null,
            "margin": null,
            "max_height": null,
            "max_width": null,
            "min_height": null,
            "min_width": null,
            "object_fit": null,
            "object_position": null,
            "order": null,
            "overflow": null,
            "overflow_x": null,
            "overflow_y": null,
            "padding": null,
            "right": null,
            "top": null,
            "visibility": null,
            "width": null
          }
        },
        "26ee6cba022847fb8df1dae17eaf8ef5": {
          "model_module": "@jupyter-widgets/controls",
          "model_name": "ProgressStyleModel",
          "model_module_version": "1.5.0",
          "state": {
            "_model_module": "@jupyter-widgets/controls",
            "_model_module_version": "1.5.0",
            "_model_name": "ProgressStyleModel",
            "_view_count": null,
            "_view_module": "@jupyter-widgets/base",
            "_view_module_version": "1.2.0",
            "_view_name": "StyleView",
            "bar_color": null,
            "description_width": ""
          }
        },
        "439911e9960c4e4b83788748fd40bada": {
          "model_module": "@jupyter-widgets/base",
          "model_name": "LayoutModel",
          "model_module_version": "1.2.0",
          "state": {
            "_model_module": "@jupyter-widgets/base",
            "_model_module_version": "1.2.0",
            "_model_name": "LayoutModel",
            "_view_count": null,
            "_view_module": "@jupyter-widgets/base",
            "_view_module_version": "1.2.0",
            "_view_name": "LayoutView",
            "align_content": null,
            "align_items": null,
            "align_self": null,
            "border": null,
            "bottom": null,
            "display": null,
            "flex": null,
            "flex_flow": null,
            "grid_area": null,
            "grid_auto_columns": null,
            "grid_auto_flow": null,
            "grid_auto_rows": null,
            "grid_column": null,
            "grid_gap": null,
            "grid_row": null,
            "grid_template_areas": null,
            "grid_template_columns": null,
            "grid_template_rows": null,
            "height": null,
            "justify_content": null,
            "justify_items": null,
            "left": null,
            "margin": null,
            "max_height": null,
            "max_width": null,
            "min_height": null,
            "min_width": null,
            "object_fit": null,
            "object_position": null,
            "order": null,
            "overflow": null,
            "overflow_x": null,
            "overflow_y": null,
            "padding": null,
            "right": null,
            "top": null,
            "visibility": null,
            "width": null
          }
        },
        "17312a33409446b084b41d1f7b38fa03": {
          "model_module": "@jupyter-widgets/controls",
          "model_name": "DescriptionStyleModel",
          "model_module_version": "1.5.0",
          "state": {
            "_model_module": "@jupyter-widgets/controls",
            "_model_module_version": "1.5.0",
            "_model_name": "DescriptionStyleModel",
            "_view_count": null,
            "_view_module": "@jupyter-widgets/base",
            "_view_module_version": "1.2.0",
            "_view_name": "StyleView",
            "description_width": ""
          }
        },
        "cf69d23f314049deb87a71423575bfe2": {
          "model_module": "@jupyter-widgets/controls",
          "model_name": "HBoxModel",
          "model_module_version": "1.5.0",
          "state": {
            "_dom_classes": [],
            "_model_module": "@jupyter-widgets/controls",
            "_model_module_version": "1.5.0",
            "_model_name": "HBoxModel",
            "_view_count": null,
            "_view_module": "@jupyter-widgets/controls",
            "_view_module_version": "1.5.0",
            "_view_name": "HBoxView",
            "box_style": "",
            "children": [
              "IPY_MODEL_d00d69769c3f4f28af39a9a6e39dd593",
              "IPY_MODEL_f187ed856f7c4556bb3f0cb9b7137f0b",
              "IPY_MODEL_1dd4dc00bf0f4a719d55974489b4c13e"
            ],
            "layout": "IPY_MODEL_01a28272619343deb95e164e14921837"
          }
        },
        "d00d69769c3f4f28af39a9a6e39dd593": {
          "model_module": "@jupyter-widgets/controls",
          "model_name": "HTMLModel",
          "model_module_version": "1.5.0",
          "state": {
            "_dom_classes": [],
            "_model_module": "@jupyter-widgets/controls",
            "_model_module_version": "1.5.0",
            "_model_name": "HTMLModel",
            "_view_count": null,
            "_view_module": "@jupyter-widgets/controls",
            "_view_module_version": "1.5.0",
            "_view_name": "HTMLView",
            "description": "",
            "description_tooltip": null,
            "layout": "IPY_MODEL_dc391ab7bd484c209e5af9c0e75d2c70",
            "placeholder": "​",
            "style": "IPY_MODEL_55613e46a4a64e57a0a13c5d957ee8a3",
            "value": "Generating train examples...:  97%"
          }
        },
        "f187ed856f7c4556bb3f0cb9b7137f0b": {
          "model_module": "@jupyter-widgets/controls",
          "model_name": "FloatProgressModel",
          "model_module_version": "1.5.0",
          "state": {
            "_dom_classes": [],
            "_model_module": "@jupyter-widgets/controls",
            "_model_module_version": "1.5.0",
            "_model_name": "FloatProgressModel",
            "_view_count": null,
            "_view_module": "@jupyter-widgets/controls",
            "_view_module_version": "1.5.0",
            "_view_name": "ProgressView",
            "bar_style": "",
            "description": "",
            "description_tooltip": null,
            "layout": "IPY_MODEL_2621f007f26e4e5fbe6bef1a5941bb65",
            "max": 51785,
            "min": 0,
            "orientation": "horizontal",
            "style": "IPY_MODEL_3470277649f04e988624746c691ada6b",
            "value": 51785
          }
        },
        "1dd4dc00bf0f4a719d55974489b4c13e": {
          "model_module": "@jupyter-widgets/controls",
          "model_name": "HTMLModel",
          "model_module_version": "1.5.0",
          "state": {
            "_dom_classes": [],
            "_model_module": "@jupyter-widgets/controls",
            "_model_module_version": "1.5.0",
            "_model_name": "HTMLModel",
            "_view_count": null,
            "_view_module": "@jupyter-widgets/controls",
            "_view_module_version": "1.5.0",
            "_view_name": "HTMLView",
            "description": "",
            "description_tooltip": null,
            "layout": "IPY_MODEL_41b92da569d345ba82ab205332b9c808",
            "placeholder": "​",
            "style": "IPY_MODEL_d2ef28e3973f400d954888d51307b0ed",
            "value": " 50371/51785 [00:03&lt;00:00, 14543.94 examples/s]"
          }
        },
        "01a28272619343deb95e164e14921837": {
          "model_module": "@jupyter-widgets/base",
          "model_name": "LayoutModel",
          "model_module_version": "1.2.0",
          "state": {
            "_model_module": "@jupyter-widgets/base",
            "_model_module_version": "1.2.0",
            "_model_name": "LayoutModel",
            "_view_count": null,
            "_view_module": "@jupyter-widgets/base",
            "_view_module_version": "1.2.0",
            "_view_name": "LayoutView",
            "align_content": null,
            "align_items": null,
            "align_self": null,
            "border": null,
            "bottom": null,
            "display": null,
            "flex": null,
            "flex_flow": null,
            "grid_area": null,
            "grid_auto_columns": null,
            "grid_auto_flow": null,
            "grid_auto_rows": null,
            "grid_column": null,
            "grid_gap": null,
            "grid_row": null,
            "grid_template_areas": null,
            "grid_template_columns": null,
            "grid_template_rows": null,
            "height": null,
            "justify_content": null,
            "justify_items": null,
            "left": null,
            "margin": null,
            "max_height": null,
            "max_width": null,
            "min_height": null,
            "min_width": null,
            "object_fit": null,
            "object_position": null,
            "order": null,
            "overflow": null,
            "overflow_x": null,
            "overflow_y": null,
            "padding": null,
            "right": null,
            "top": null,
            "visibility": "hidden",
            "width": null
          }
        },
        "dc391ab7bd484c209e5af9c0e75d2c70": {
          "model_module": "@jupyter-widgets/base",
          "model_name": "LayoutModel",
          "model_module_version": "1.2.0",
          "state": {
            "_model_module": "@jupyter-widgets/base",
            "_model_module_version": "1.2.0",
            "_model_name": "LayoutModel",
            "_view_count": null,
            "_view_module": "@jupyter-widgets/base",
            "_view_module_version": "1.2.0",
            "_view_name": "LayoutView",
            "align_content": null,
            "align_items": null,
            "align_self": null,
            "border": null,
            "bottom": null,
            "display": null,
            "flex": null,
            "flex_flow": null,
            "grid_area": null,
            "grid_auto_columns": null,
            "grid_auto_flow": null,
            "grid_auto_rows": null,
            "grid_column": null,
            "grid_gap": null,
            "grid_row": null,
            "grid_template_areas": null,
            "grid_template_columns": null,
            "grid_template_rows": null,
            "height": null,
            "justify_content": null,
            "justify_items": null,
            "left": null,
            "margin": null,
            "max_height": null,
            "max_width": null,
            "min_height": null,
            "min_width": null,
            "object_fit": null,
            "object_position": null,
            "order": null,
            "overflow": null,
            "overflow_x": null,
            "overflow_y": null,
            "padding": null,
            "right": null,
            "top": null,
            "visibility": null,
            "width": null
          }
        },
        "55613e46a4a64e57a0a13c5d957ee8a3": {
          "model_module": "@jupyter-widgets/controls",
          "model_name": "DescriptionStyleModel",
          "model_module_version": "1.5.0",
          "state": {
            "_model_module": "@jupyter-widgets/controls",
            "_model_module_version": "1.5.0",
            "_model_name": "DescriptionStyleModel",
            "_view_count": null,
            "_view_module": "@jupyter-widgets/base",
            "_view_module_version": "1.2.0",
            "_view_name": "StyleView",
            "description_width": ""
          }
        },
        "2621f007f26e4e5fbe6bef1a5941bb65": {
          "model_module": "@jupyter-widgets/base",
          "model_name": "LayoutModel",
          "model_module_version": "1.2.0",
          "state": {
            "_model_module": "@jupyter-widgets/base",
            "_model_module_version": "1.2.0",
            "_model_name": "LayoutModel",
            "_view_count": null,
            "_view_module": "@jupyter-widgets/base",
            "_view_module_version": "1.2.0",
            "_view_name": "LayoutView",
            "align_content": null,
            "align_items": null,
            "align_self": null,
            "border": null,
            "bottom": null,
            "display": null,
            "flex": null,
            "flex_flow": null,
            "grid_area": null,
            "grid_auto_columns": null,
            "grid_auto_flow": null,
            "grid_auto_rows": null,
            "grid_column": null,
            "grid_gap": null,
            "grid_row": null,
            "grid_template_areas": null,
            "grid_template_columns": null,
            "grid_template_rows": null,
            "height": null,
            "justify_content": null,
            "justify_items": null,
            "left": null,
            "margin": null,
            "max_height": null,
            "max_width": null,
            "min_height": null,
            "min_width": null,
            "object_fit": null,
            "object_position": null,
            "order": null,
            "overflow": null,
            "overflow_x": null,
            "overflow_y": null,
            "padding": null,
            "right": null,
            "top": null,
            "visibility": null,
            "width": null
          }
        },
        "3470277649f04e988624746c691ada6b": {
          "model_module": "@jupyter-widgets/controls",
          "model_name": "ProgressStyleModel",
          "model_module_version": "1.5.0",
          "state": {
            "_model_module": "@jupyter-widgets/controls",
            "_model_module_version": "1.5.0",
            "_model_name": "ProgressStyleModel",
            "_view_count": null,
            "_view_module": "@jupyter-widgets/base",
            "_view_module_version": "1.2.0",
            "_view_name": "StyleView",
            "bar_color": null,
            "description_width": ""
          }
        },
        "41b92da569d345ba82ab205332b9c808": {
          "model_module": "@jupyter-widgets/base",
          "model_name": "LayoutModel",
          "model_module_version": "1.2.0",
          "state": {
            "_model_module": "@jupyter-widgets/base",
            "_model_module_version": "1.2.0",
            "_model_name": "LayoutModel",
            "_view_count": null,
            "_view_module": "@jupyter-widgets/base",
            "_view_module_version": "1.2.0",
            "_view_name": "LayoutView",
            "align_content": null,
            "align_items": null,
            "align_self": null,
            "border": null,
            "bottom": null,
            "display": null,
            "flex": null,
            "flex_flow": null,
            "grid_area": null,
            "grid_auto_columns": null,
            "grid_auto_flow": null,
            "grid_auto_rows": null,
            "grid_column": null,
            "grid_gap": null,
            "grid_row": null,
            "grid_template_areas": null,
            "grid_template_columns": null,
            "grid_template_rows": null,
            "height": null,
            "justify_content": null,
            "justify_items": null,
            "left": null,
            "margin": null,
            "max_height": null,
            "max_width": null,
            "min_height": null,
            "min_width": null,
            "object_fit": null,
            "object_position": null,
            "order": null,
            "overflow": null,
            "overflow_x": null,
            "overflow_y": null,
            "padding": null,
            "right": null,
            "top": null,
            "visibility": null,
            "width": null
          }
        },
        "d2ef28e3973f400d954888d51307b0ed": {
          "model_module": "@jupyter-widgets/controls",
          "model_name": "DescriptionStyleModel",
          "model_module_version": "1.5.0",
          "state": {
            "_model_module": "@jupyter-widgets/controls",
            "_model_module_version": "1.5.0",
            "_model_name": "DescriptionStyleModel",
            "_view_count": null,
            "_view_module": "@jupyter-widgets/base",
            "_view_module_version": "1.2.0",
            "_view_name": "StyleView",
            "description_width": ""
          }
        },
        "4c403d40b90948cebfb842ec031994bd": {
          "model_module": "@jupyter-widgets/controls",
          "model_name": "HBoxModel",
          "model_module_version": "1.5.0",
          "state": {
            "_dom_classes": [],
            "_model_module": "@jupyter-widgets/controls",
            "_model_module_version": "1.5.0",
            "_model_name": "HBoxModel",
            "_view_count": null,
            "_view_module": "@jupyter-widgets/controls",
            "_view_module_version": "1.5.0",
            "_view_name": "HBoxView",
            "box_style": "",
            "children": [
              "IPY_MODEL_6f9c0693a0eb4cfa8a1ef73b2374ce61",
              "IPY_MODEL_98208764bf254061981a90d6fbe5a6f2",
              "IPY_MODEL_af6f7d58e94f41e4a9a7f8c2183a78be"
            ],
            "layout": "IPY_MODEL_c69e55dc93da4e1e8a712fb6429d921b"
          }
        },
        "6f9c0693a0eb4cfa8a1ef73b2374ce61": {
          "model_module": "@jupyter-widgets/controls",
          "model_name": "HTMLModel",
          "model_module_version": "1.5.0",
          "state": {
            "_dom_classes": [],
            "_model_module": "@jupyter-widgets/controls",
            "_model_module_version": "1.5.0",
            "_model_name": "HTMLModel",
            "_view_count": null,
            "_view_module": "@jupyter-widgets/controls",
            "_view_module_version": "1.5.0",
            "_view_name": "HTMLView",
            "description": "",
            "description_tooltip": null,
            "layout": "IPY_MODEL_ec9dc983950b497b92244e0e2baf03c7",
            "placeholder": "​",
            "style": "IPY_MODEL_34fe94d469194eb28f4df6ca720d4581",
            "value": "Shuffling /root/tensorflow_datasets/ted_hrlr_translate/pt_to_en/1.0.0.incompleteQT604Z/ted_hrlr_translate-train.tfrecord*...:  40%"
          }
        },
        "98208764bf254061981a90d6fbe5a6f2": {
          "model_module": "@jupyter-widgets/controls",
          "model_name": "FloatProgressModel",
          "model_module_version": "1.5.0",
          "state": {
            "_dom_classes": [],
            "_model_module": "@jupyter-widgets/controls",
            "_model_module_version": "1.5.0",
            "_model_name": "FloatProgressModel",
            "_view_count": null,
            "_view_module": "@jupyter-widgets/controls",
            "_view_module_version": "1.5.0",
            "_view_name": "ProgressView",
            "bar_style": "",
            "description": "",
            "description_tooltip": null,
            "layout": "IPY_MODEL_3164ee8dec7d44edacd3ba7eb2e9798d",
            "max": 51785,
            "min": 0,
            "orientation": "horizontal",
            "style": "IPY_MODEL_5f80ad287bc44851ab5a093c20fff402",
            "value": 51785
          }
        },
        "af6f7d58e94f41e4a9a7f8c2183a78be": {
          "model_module": "@jupyter-widgets/controls",
          "model_name": "HTMLModel",
          "model_module_version": "1.5.0",
          "state": {
            "_dom_classes": [],
            "_model_module": "@jupyter-widgets/controls",
            "_model_module_version": "1.5.0",
            "_model_name": "HTMLModel",
            "_view_count": null,
            "_view_module": "@jupyter-widgets/controls",
            "_view_module_version": "1.5.0",
            "_view_name": "HTMLView",
            "description": "",
            "description_tooltip": null,
            "layout": "IPY_MODEL_822f613546ab4b14a590bebd74efc607",
            "placeholder": "​",
            "style": "IPY_MODEL_a7a30a6564d94cd3881cf5ccb8afde6c",
            "value": " 20628/51785 [00:00&lt;00:00, 206252.17 examples/s]"
          }
        },
        "c69e55dc93da4e1e8a712fb6429d921b": {
          "model_module": "@jupyter-widgets/base",
          "model_name": "LayoutModel",
          "model_module_version": "1.2.0",
          "state": {
            "_model_module": "@jupyter-widgets/base",
            "_model_module_version": "1.2.0",
            "_model_name": "LayoutModel",
            "_view_count": null,
            "_view_module": "@jupyter-widgets/base",
            "_view_module_version": "1.2.0",
            "_view_name": "LayoutView",
            "align_content": null,
            "align_items": null,
            "align_self": null,
            "border": null,
            "bottom": null,
            "display": null,
            "flex": null,
            "flex_flow": null,
            "grid_area": null,
            "grid_auto_columns": null,
            "grid_auto_flow": null,
            "grid_auto_rows": null,
            "grid_column": null,
            "grid_gap": null,
            "grid_row": null,
            "grid_template_areas": null,
            "grid_template_columns": null,
            "grid_template_rows": null,
            "height": null,
            "justify_content": null,
            "justify_items": null,
            "left": null,
            "margin": null,
            "max_height": null,
            "max_width": null,
            "min_height": null,
            "min_width": null,
            "object_fit": null,
            "object_position": null,
            "order": null,
            "overflow": null,
            "overflow_x": null,
            "overflow_y": null,
            "padding": null,
            "right": null,
            "top": null,
            "visibility": "hidden",
            "width": null
          }
        },
        "ec9dc983950b497b92244e0e2baf03c7": {
          "model_module": "@jupyter-widgets/base",
          "model_name": "LayoutModel",
          "model_module_version": "1.2.0",
          "state": {
            "_model_module": "@jupyter-widgets/base",
            "_model_module_version": "1.2.0",
            "_model_name": "LayoutModel",
            "_view_count": null,
            "_view_module": "@jupyter-widgets/base",
            "_view_module_version": "1.2.0",
            "_view_name": "LayoutView",
            "align_content": null,
            "align_items": null,
            "align_self": null,
            "border": null,
            "bottom": null,
            "display": null,
            "flex": null,
            "flex_flow": null,
            "grid_area": null,
            "grid_auto_columns": null,
            "grid_auto_flow": null,
            "grid_auto_rows": null,
            "grid_column": null,
            "grid_gap": null,
            "grid_row": null,
            "grid_template_areas": null,
            "grid_template_columns": null,
            "grid_template_rows": null,
            "height": null,
            "justify_content": null,
            "justify_items": null,
            "left": null,
            "margin": null,
            "max_height": null,
            "max_width": null,
            "min_height": null,
            "min_width": null,
            "object_fit": null,
            "object_position": null,
            "order": null,
            "overflow": null,
            "overflow_x": null,
            "overflow_y": null,
            "padding": null,
            "right": null,
            "top": null,
            "visibility": null,
            "width": null
          }
        },
        "34fe94d469194eb28f4df6ca720d4581": {
          "model_module": "@jupyter-widgets/controls",
          "model_name": "DescriptionStyleModel",
          "model_module_version": "1.5.0",
          "state": {
            "_model_module": "@jupyter-widgets/controls",
            "_model_module_version": "1.5.0",
            "_model_name": "DescriptionStyleModel",
            "_view_count": null,
            "_view_module": "@jupyter-widgets/base",
            "_view_module_version": "1.2.0",
            "_view_name": "StyleView",
            "description_width": ""
          }
        },
        "3164ee8dec7d44edacd3ba7eb2e9798d": {
          "model_module": "@jupyter-widgets/base",
          "model_name": "LayoutModel",
          "model_module_version": "1.2.0",
          "state": {
            "_model_module": "@jupyter-widgets/base",
            "_model_module_version": "1.2.0",
            "_model_name": "LayoutModel",
            "_view_count": null,
            "_view_module": "@jupyter-widgets/base",
            "_view_module_version": "1.2.0",
            "_view_name": "LayoutView",
            "align_content": null,
            "align_items": null,
            "align_self": null,
            "border": null,
            "bottom": null,
            "display": null,
            "flex": null,
            "flex_flow": null,
            "grid_area": null,
            "grid_auto_columns": null,
            "grid_auto_flow": null,
            "grid_auto_rows": null,
            "grid_column": null,
            "grid_gap": null,
            "grid_row": null,
            "grid_template_areas": null,
            "grid_template_columns": null,
            "grid_template_rows": null,
            "height": null,
            "justify_content": null,
            "justify_items": null,
            "left": null,
            "margin": null,
            "max_height": null,
            "max_width": null,
            "min_height": null,
            "min_width": null,
            "object_fit": null,
            "object_position": null,
            "order": null,
            "overflow": null,
            "overflow_x": null,
            "overflow_y": null,
            "padding": null,
            "right": null,
            "top": null,
            "visibility": null,
            "width": null
          }
        },
        "5f80ad287bc44851ab5a093c20fff402": {
          "model_module": "@jupyter-widgets/controls",
          "model_name": "ProgressStyleModel",
          "model_module_version": "1.5.0",
          "state": {
            "_model_module": "@jupyter-widgets/controls",
            "_model_module_version": "1.5.0",
            "_model_name": "ProgressStyleModel",
            "_view_count": null,
            "_view_module": "@jupyter-widgets/base",
            "_view_module_version": "1.2.0",
            "_view_name": "StyleView",
            "bar_color": null,
            "description_width": ""
          }
        },
        "822f613546ab4b14a590bebd74efc607": {
          "model_module": "@jupyter-widgets/base",
          "model_name": "LayoutModel",
          "model_module_version": "1.2.0",
          "state": {
            "_model_module": "@jupyter-widgets/base",
            "_model_module_version": "1.2.0",
            "_model_name": "LayoutModel",
            "_view_count": null,
            "_view_module": "@jupyter-widgets/base",
            "_view_module_version": "1.2.0",
            "_view_name": "LayoutView",
            "align_content": null,
            "align_items": null,
            "align_self": null,
            "border": null,
            "bottom": null,
            "display": null,
            "flex": null,
            "flex_flow": null,
            "grid_area": null,
            "grid_auto_columns": null,
            "grid_auto_flow": null,
            "grid_auto_rows": null,
            "grid_column": null,
            "grid_gap": null,
            "grid_row": null,
            "grid_template_areas": null,
            "grid_template_columns": null,
            "grid_template_rows": null,
            "height": null,
            "justify_content": null,
            "justify_items": null,
            "left": null,
            "margin": null,
            "max_height": null,
            "max_width": null,
            "min_height": null,
            "min_width": null,
            "object_fit": null,
            "object_position": null,
            "order": null,
            "overflow": null,
            "overflow_x": null,
            "overflow_y": null,
            "padding": null,
            "right": null,
            "top": null,
            "visibility": null,
            "width": null
          }
        },
        "a7a30a6564d94cd3881cf5ccb8afde6c": {
          "model_module": "@jupyter-widgets/controls",
          "model_name": "DescriptionStyleModel",
          "model_module_version": "1.5.0",
          "state": {
            "_model_module": "@jupyter-widgets/controls",
            "_model_module_version": "1.5.0",
            "_model_name": "DescriptionStyleModel",
            "_view_count": null,
            "_view_module": "@jupyter-widgets/base",
            "_view_module_version": "1.2.0",
            "_view_name": "StyleView",
            "description_width": ""
          }
        },
        "e8357d314c6a49609547c58d48453e08": {
          "model_module": "@jupyter-widgets/controls",
          "model_name": "HBoxModel",
          "model_module_version": "1.5.0",
          "state": {
            "_dom_classes": [],
            "_model_module": "@jupyter-widgets/controls",
            "_model_module_version": "1.5.0",
            "_model_name": "HBoxModel",
            "_view_count": null,
            "_view_module": "@jupyter-widgets/controls",
            "_view_module_version": "1.5.0",
            "_view_name": "HBoxView",
            "box_style": "",
            "children": [
              "IPY_MODEL_0d21fda8622045ff8946b367a424e445",
              "IPY_MODEL_3b9ca099a8b64a7fbc3ed19876857a56",
              "IPY_MODEL_7415dbb6a1574e27a21871347343536a"
            ],
            "layout": "IPY_MODEL_19e8f06848684d6d947fa7bc954dd9f8"
          }
        },
        "0d21fda8622045ff8946b367a424e445": {
          "model_module": "@jupyter-widgets/controls",
          "model_name": "HTMLModel",
          "model_module_version": "1.5.0",
          "state": {
            "_dom_classes": [],
            "_model_module": "@jupyter-widgets/controls",
            "_model_module_version": "1.5.0",
            "_model_name": "HTMLModel",
            "_view_count": null,
            "_view_module": "@jupyter-widgets/controls",
            "_view_module_version": "1.5.0",
            "_view_name": "HTMLView",
            "description": "",
            "description_tooltip": null,
            "layout": "IPY_MODEL_ed7fac025a5c42508857e9caa794f9cc",
            "placeholder": "​",
            "style": "IPY_MODEL_746503ba2c16471498f58f2fddd614ee",
            "value": "Generating validation examples...:  50%"
          }
        },
        "3b9ca099a8b64a7fbc3ed19876857a56": {
          "model_module": "@jupyter-widgets/controls",
          "model_name": "FloatProgressModel",
          "model_module_version": "1.5.0",
          "state": {
            "_dom_classes": [],
            "_model_module": "@jupyter-widgets/controls",
            "_model_module_version": "1.5.0",
            "_model_name": "FloatProgressModel",
            "_view_count": null,
            "_view_module": "@jupyter-widgets/controls",
            "_view_module_version": "1.5.0",
            "_view_name": "ProgressView",
            "bar_style": "",
            "description": "",
            "description_tooltip": null,
            "layout": "IPY_MODEL_881d7c23e9434b479917d05c1b7c8c7d",
            "max": 1193,
            "min": 0,
            "orientation": "horizontal",
            "style": "IPY_MODEL_dba902d0650045a49f31cefdbe8f73f4",
            "value": 1193
          }
        },
        "7415dbb6a1574e27a21871347343536a": {
          "model_module": "@jupyter-widgets/controls",
          "model_name": "HTMLModel",
          "model_module_version": "1.5.0",
          "state": {
            "_dom_classes": [],
            "_model_module": "@jupyter-widgets/controls",
            "_model_module_version": "1.5.0",
            "_model_name": "HTMLModel",
            "_view_count": null,
            "_view_module": "@jupyter-widgets/controls",
            "_view_module_version": "1.5.0",
            "_view_name": "HTMLView",
            "description": "",
            "description_tooltip": null,
            "layout": "IPY_MODEL_08c6aacfe1b9452a973abe220fc3d256",
            "placeholder": "​",
            "style": "IPY_MODEL_57da2d5ae8f34047919375cadd5814fa",
            "value": " 599/1193 [00:00&lt;00:00, 5986.27 examples/s]"
          }
        },
        "19e8f06848684d6d947fa7bc954dd9f8": {
          "model_module": "@jupyter-widgets/base",
          "model_name": "LayoutModel",
          "model_module_version": "1.2.0",
          "state": {
            "_model_module": "@jupyter-widgets/base",
            "_model_module_version": "1.2.0",
            "_model_name": "LayoutModel",
            "_view_count": null,
            "_view_module": "@jupyter-widgets/base",
            "_view_module_version": "1.2.0",
            "_view_name": "LayoutView",
            "align_content": null,
            "align_items": null,
            "align_self": null,
            "border": null,
            "bottom": null,
            "display": null,
            "flex": null,
            "flex_flow": null,
            "grid_area": null,
            "grid_auto_columns": null,
            "grid_auto_flow": null,
            "grid_auto_rows": null,
            "grid_column": null,
            "grid_gap": null,
            "grid_row": null,
            "grid_template_areas": null,
            "grid_template_columns": null,
            "grid_template_rows": null,
            "height": null,
            "justify_content": null,
            "justify_items": null,
            "left": null,
            "margin": null,
            "max_height": null,
            "max_width": null,
            "min_height": null,
            "min_width": null,
            "object_fit": null,
            "object_position": null,
            "order": null,
            "overflow": null,
            "overflow_x": null,
            "overflow_y": null,
            "padding": null,
            "right": null,
            "top": null,
            "visibility": "hidden",
            "width": null
          }
        },
        "ed7fac025a5c42508857e9caa794f9cc": {
          "model_module": "@jupyter-widgets/base",
          "model_name": "LayoutModel",
          "model_module_version": "1.2.0",
          "state": {
            "_model_module": "@jupyter-widgets/base",
            "_model_module_version": "1.2.0",
            "_model_name": "LayoutModel",
            "_view_count": null,
            "_view_module": "@jupyter-widgets/base",
            "_view_module_version": "1.2.0",
            "_view_name": "LayoutView",
            "align_content": null,
            "align_items": null,
            "align_self": null,
            "border": null,
            "bottom": null,
            "display": null,
            "flex": null,
            "flex_flow": null,
            "grid_area": null,
            "grid_auto_columns": null,
            "grid_auto_flow": null,
            "grid_auto_rows": null,
            "grid_column": null,
            "grid_gap": null,
            "grid_row": null,
            "grid_template_areas": null,
            "grid_template_columns": null,
            "grid_template_rows": null,
            "height": null,
            "justify_content": null,
            "justify_items": null,
            "left": null,
            "margin": null,
            "max_height": null,
            "max_width": null,
            "min_height": null,
            "min_width": null,
            "object_fit": null,
            "object_position": null,
            "order": null,
            "overflow": null,
            "overflow_x": null,
            "overflow_y": null,
            "padding": null,
            "right": null,
            "top": null,
            "visibility": null,
            "width": null
          }
        },
        "746503ba2c16471498f58f2fddd614ee": {
          "model_module": "@jupyter-widgets/controls",
          "model_name": "DescriptionStyleModel",
          "model_module_version": "1.5.0",
          "state": {
            "_model_module": "@jupyter-widgets/controls",
            "_model_module_version": "1.5.0",
            "_model_name": "DescriptionStyleModel",
            "_view_count": null,
            "_view_module": "@jupyter-widgets/base",
            "_view_module_version": "1.2.0",
            "_view_name": "StyleView",
            "description_width": ""
          }
        },
        "881d7c23e9434b479917d05c1b7c8c7d": {
          "model_module": "@jupyter-widgets/base",
          "model_name": "LayoutModel",
          "model_module_version": "1.2.0",
          "state": {
            "_model_module": "@jupyter-widgets/base",
            "_model_module_version": "1.2.0",
            "_model_name": "LayoutModel",
            "_view_count": null,
            "_view_module": "@jupyter-widgets/base",
            "_view_module_version": "1.2.0",
            "_view_name": "LayoutView",
            "align_content": null,
            "align_items": null,
            "align_self": null,
            "border": null,
            "bottom": null,
            "display": null,
            "flex": null,
            "flex_flow": null,
            "grid_area": null,
            "grid_auto_columns": null,
            "grid_auto_flow": null,
            "grid_auto_rows": null,
            "grid_column": null,
            "grid_gap": null,
            "grid_row": null,
            "grid_template_areas": null,
            "grid_template_columns": null,
            "grid_template_rows": null,
            "height": null,
            "justify_content": null,
            "justify_items": null,
            "left": null,
            "margin": null,
            "max_height": null,
            "max_width": null,
            "min_height": null,
            "min_width": null,
            "object_fit": null,
            "object_position": null,
            "order": null,
            "overflow": null,
            "overflow_x": null,
            "overflow_y": null,
            "padding": null,
            "right": null,
            "top": null,
            "visibility": null,
            "width": null
          }
        },
        "dba902d0650045a49f31cefdbe8f73f4": {
          "model_module": "@jupyter-widgets/controls",
          "model_name": "ProgressStyleModel",
          "model_module_version": "1.5.0",
          "state": {
            "_model_module": "@jupyter-widgets/controls",
            "_model_module_version": "1.5.0",
            "_model_name": "ProgressStyleModel",
            "_view_count": null,
            "_view_module": "@jupyter-widgets/base",
            "_view_module_version": "1.2.0",
            "_view_name": "StyleView",
            "bar_color": null,
            "description_width": ""
          }
        },
        "08c6aacfe1b9452a973abe220fc3d256": {
          "model_module": "@jupyter-widgets/base",
          "model_name": "LayoutModel",
          "model_module_version": "1.2.0",
          "state": {
            "_model_module": "@jupyter-widgets/base",
            "_model_module_version": "1.2.0",
            "_model_name": "LayoutModel",
            "_view_count": null,
            "_view_module": "@jupyter-widgets/base",
            "_view_module_version": "1.2.0",
            "_view_name": "LayoutView",
            "align_content": null,
            "align_items": null,
            "align_self": null,
            "border": null,
            "bottom": null,
            "display": null,
            "flex": null,
            "flex_flow": null,
            "grid_area": null,
            "grid_auto_columns": null,
            "grid_auto_flow": null,
            "grid_auto_rows": null,
            "grid_column": null,
            "grid_gap": null,
            "grid_row": null,
            "grid_template_areas": null,
            "grid_template_columns": null,
            "grid_template_rows": null,
            "height": null,
            "justify_content": null,
            "justify_items": null,
            "left": null,
            "margin": null,
            "max_height": null,
            "max_width": null,
            "min_height": null,
            "min_width": null,
            "object_fit": null,
            "object_position": null,
            "order": null,
            "overflow": null,
            "overflow_x": null,
            "overflow_y": null,
            "padding": null,
            "right": null,
            "top": null,
            "visibility": null,
            "width": null
          }
        },
        "57da2d5ae8f34047919375cadd5814fa": {
          "model_module": "@jupyter-widgets/controls",
          "model_name": "DescriptionStyleModel",
          "model_module_version": "1.5.0",
          "state": {
            "_model_module": "@jupyter-widgets/controls",
            "_model_module_version": "1.5.0",
            "_model_name": "DescriptionStyleModel",
            "_view_count": null,
            "_view_module": "@jupyter-widgets/base",
            "_view_module_version": "1.2.0",
            "_view_name": "StyleView",
            "description_width": ""
          }
        },
        "a91ab59b5319419c86d9ebe15af7709e": {
          "model_module": "@jupyter-widgets/controls",
          "model_name": "HBoxModel",
          "model_module_version": "1.5.0",
          "state": {
            "_dom_classes": [],
            "_model_module": "@jupyter-widgets/controls",
            "_model_module_version": "1.5.0",
            "_model_name": "HBoxModel",
            "_view_count": null,
            "_view_module": "@jupyter-widgets/controls",
            "_view_module_version": "1.5.0",
            "_view_name": "HBoxView",
            "box_style": "",
            "children": [
              "IPY_MODEL_a7b479fad77049efb1994c83e0ef0830",
              "IPY_MODEL_a60c74c4bead431a921691b6942f445e",
              "IPY_MODEL_af863cc350234c9ebbdb0bdcf249db13"
            ],
            "layout": "IPY_MODEL_5ae05cec75404e869b12a09981996e26"
          }
        },
        "a7b479fad77049efb1994c83e0ef0830": {
          "model_module": "@jupyter-widgets/controls",
          "model_name": "HTMLModel",
          "model_module_version": "1.5.0",
          "state": {
            "_dom_classes": [],
            "_model_module": "@jupyter-widgets/controls",
            "_model_module_version": "1.5.0",
            "_model_name": "HTMLModel",
            "_view_count": null,
            "_view_module": "@jupyter-widgets/controls",
            "_view_module_version": "1.5.0",
            "_view_name": "HTMLView",
            "description": "",
            "description_tooltip": null,
            "layout": "IPY_MODEL_b9c4c8f475574f09b881937002b608e3",
            "placeholder": "​",
            "style": "IPY_MODEL_cfd723a6ec7f4e6d84f7551feb3d678c",
            "value": "Shuffling /root/tensorflow_datasets/ted_hrlr_translate/pt_to_en/1.0.0.incompleteQT604Z/ted_hrlr_translate-validation.tfrecord*...:   0%"
          }
        },
        "a60c74c4bead431a921691b6942f445e": {
          "model_module": "@jupyter-widgets/controls",
          "model_name": "FloatProgressModel",
          "model_module_version": "1.5.0",
          "state": {
            "_dom_classes": [],
            "_model_module": "@jupyter-widgets/controls",
            "_model_module_version": "1.5.0",
            "_model_name": "FloatProgressModel",
            "_view_count": null,
            "_view_module": "@jupyter-widgets/controls",
            "_view_module_version": "1.5.0",
            "_view_name": "ProgressView",
            "bar_style": "",
            "description": "",
            "description_tooltip": null,
            "layout": "IPY_MODEL_3ffe59fb8cec44888055aed31bb0edfe",
            "max": 1193,
            "min": 0,
            "orientation": "horizontal",
            "style": "IPY_MODEL_13722e644f3940a1a3f62ab85d4720fc",
            "value": 1193
          }
        },
        "af863cc350234c9ebbdb0bdcf249db13": {
          "model_module": "@jupyter-widgets/controls",
          "model_name": "HTMLModel",
          "model_module_version": "1.5.0",
          "state": {
            "_dom_classes": [],
            "_model_module": "@jupyter-widgets/controls",
            "_model_module_version": "1.5.0",
            "_model_name": "HTMLModel",
            "_view_count": null,
            "_view_module": "@jupyter-widgets/controls",
            "_view_module_version": "1.5.0",
            "_view_name": "HTMLView",
            "description": "",
            "description_tooltip": null,
            "layout": "IPY_MODEL_5fe570c34d514c6190b6b8e8dc24541f",
            "placeholder": "​",
            "style": "IPY_MODEL_dd22bee15af7434fa4761ce0ec658e1c",
            "value": " 0/1193 [00:00&lt;?, ? examples/s]"
          }
        },
        "5ae05cec75404e869b12a09981996e26": {
          "model_module": "@jupyter-widgets/base",
          "model_name": "LayoutModel",
          "model_module_version": "1.2.0",
          "state": {
            "_model_module": "@jupyter-widgets/base",
            "_model_module_version": "1.2.0",
            "_model_name": "LayoutModel",
            "_view_count": null,
            "_view_module": "@jupyter-widgets/base",
            "_view_module_version": "1.2.0",
            "_view_name": "LayoutView",
            "align_content": null,
            "align_items": null,
            "align_self": null,
            "border": null,
            "bottom": null,
            "display": null,
            "flex": null,
            "flex_flow": null,
            "grid_area": null,
            "grid_auto_columns": null,
            "grid_auto_flow": null,
            "grid_auto_rows": null,
            "grid_column": null,
            "grid_gap": null,
            "grid_row": null,
            "grid_template_areas": null,
            "grid_template_columns": null,
            "grid_template_rows": null,
            "height": null,
            "justify_content": null,
            "justify_items": null,
            "left": null,
            "margin": null,
            "max_height": null,
            "max_width": null,
            "min_height": null,
            "min_width": null,
            "object_fit": null,
            "object_position": null,
            "order": null,
            "overflow": null,
            "overflow_x": null,
            "overflow_y": null,
            "padding": null,
            "right": null,
            "top": null,
            "visibility": "hidden",
            "width": null
          }
        },
        "b9c4c8f475574f09b881937002b608e3": {
          "model_module": "@jupyter-widgets/base",
          "model_name": "LayoutModel",
          "model_module_version": "1.2.0",
          "state": {
            "_model_module": "@jupyter-widgets/base",
            "_model_module_version": "1.2.0",
            "_model_name": "LayoutModel",
            "_view_count": null,
            "_view_module": "@jupyter-widgets/base",
            "_view_module_version": "1.2.0",
            "_view_name": "LayoutView",
            "align_content": null,
            "align_items": null,
            "align_self": null,
            "border": null,
            "bottom": null,
            "display": null,
            "flex": null,
            "flex_flow": null,
            "grid_area": null,
            "grid_auto_columns": null,
            "grid_auto_flow": null,
            "grid_auto_rows": null,
            "grid_column": null,
            "grid_gap": null,
            "grid_row": null,
            "grid_template_areas": null,
            "grid_template_columns": null,
            "grid_template_rows": null,
            "height": null,
            "justify_content": null,
            "justify_items": null,
            "left": null,
            "margin": null,
            "max_height": null,
            "max_width": null,
            "min_height": null,
            "min_width": null,
            "object_fit": null,
            "object_position": null,
            "order": null,
            "overflow": null,
            "overflow_x": null,
            "overflow_y": null,
            "padding": null,
            "right": null,
            "top": null,
            "visibility": null,
            "width": null
          }
        },
        "cfd723a6ec7f4e6d84f7551feb3d678c": {
          "model_module": "@jupyter-widgets/controls",
          "model_name": "DescriptionStyleModel",
          "model_module_version": "1.5.0",
          "state": {
            "_model_module": "@jupyter-widgets/controls",
            "_model_module_version": "1.5.0",
            "_model_name": "DescriptionStyleModel",
            "_view_count": null,
            "_view_module": "@jupyter-widgets/base",
            "_view_module_version": "1.2.0",
            "_view_name": "StyleView",
            "description_width": ""
          }
        },
        "3ffe59fb8cec44888055aed31bb0edfe": {
          "model_module": "@jupyter-widgets/base",
          "model_name": "LayoutModel",
          "model_module_version": "1.2.0",
          "state": {
            "_model_module": "@jupyter-widgets/base",
            "_model_module_version": "1.2.0",
            "_model_name": "LayoutModel",
            "_view_count": null,
            "_view_module": "@jupyter-widgets/base",
            "_view_module_version": "1.2.0",
            "_view_name": "LayoutView",
            "align_content": null,
            "align_items": null,
            "align_self": null,
            "border": null,
            "bottom": null,
            "display": null,
            "flex": null,
            "flex_flow": null,
            "grid_area": null,
            "grid_auto_columns": null,
            "grid_auto_flow": null,
            "grid_auto_rows": null,
            "grid_column": null,
            "grid_gap": null,
            "grid_row": null,
            "grid_template_areas": null,
            "grid_template_columns": null,
            "grid_template_rows": null,
            "height": null,
            "justify_content": null,
            "justify_items": null,
            "left": null,
            "margin": null,
            "max_height": null,
            "max_width": null,
            "min_height": null,
            "min_width": null,
            "object_fit": null,
            "object_position": null,
            "order": null,
            "overflow": null,
            "overflow_x": null,
            "overflow_y": null,
            "padding": null,
            "right": null,
            "top": null,
            "visibility": null,
            "width": null
          }
        },
        "13722e644f3940a1a3f62ab85d4720fc": {
          "model_module": "@jupyter-widgets/controls",
          "model_name": "ProgressStyleModel",
          "model_module_version": "1.5.0",
          "state": {
            "_model_module": "@jupyter-widgets/controls",
            "_model_module_version": "1.5.0",
            "_model_name": "ProgressStyleModel",
            "_view_count": null,
            "_view_module": "@jupyter-widgets/base",
            "_view_module_version": "1.2.0",
            "_view_name": "StyleView",
            "bar_color": null,
            "description_width": ""
          }
        },
        "5fe570c34d514c6190b6b8e8dc24541f": {
          "model_module": "@jupyter-widgets/base",
          "model_name": "LayoutModel",
          "model_module_version": "1.2.0",
          "state": {
            "_model_module": "@jupyter-widgets/base",
            "_model_module_version": "1.2.0",
            "_model_name": "LayoutModel",
            "_view_count": null,
            "_view_module": "@jupyter-widgets/base",
            "_view_module_version": "1.2.0",
            "_view_name": "LayoutView",
            "align_content": null,
            "align_items": null,
            "align_self": null,
            "border": null,
            "bottom": null,
            "display": null,
            "flex": null,
            "flex_flow": null,
            "grid_area": null,
            "grid_auto_columns": null,
            "grid_auto_flow": null,
            "grid_auto_rows": null,
            "grid_column": null,
            "grid_gap": null,
            "grid_row": null,
            "grid_template_areas": null,
            "grid_template_columns": null,
            "grid_template_rows": null,
            "height": null,
            "justify_content": null,
            "justify_items": null,
            "left": null,
            "margin": null,
            "max_height": null,
            "max_width": null,
            "min_height": null,
            "min_width": null,
            "object_fit": null,
            "object_position": null,
            "order": null,
            "overflow": null,
            "overflow_x": null,
            "overflow_y": null,
            "padding": null,
            "right": null,
            "top": null,
            "visibility": null,
            "width": null
          }
        },
        "dd22bee15af7434fa4761ce0ec658e1c": {
          "model_module": "@jupyter-widgets/controls",
          "model_name": "DescriptionStyleModel",
          "model_module_version": "1.5.0",
          "state": {
            "_model_module": "@jupyter-widgets/controls",
            "_model_module_version": "1.5.0",
            "_model_name": "DescriptionStyleModel",
            "_view_count": null,
            "_view_module": "@jupyter-widgets/base",
            "_view_module_version": "1.2.0",
            "_view_name": "StyleView",
            "description_width": ""
          }
        },
        "59172e0f6cec48299a0044bec2c07763": {
          "model_module": "@jupyter-widgets/controls",
          "model_name": "HBoxModel",
          "model_module_version": "1.5.0",
          "state": {
            "_dom_classes": [],
            "_model_module": "@jupyter-widgets/controls",
            "_model_module_version": "1.5.0",
            "_model_name": "HBoxModel",
            "_view_count": null,
            "_view_module": "@jupyter-widgets/controls",
            "_view_module_version": "1.5.0",
            "_view_name": "HBoxView",
            "box_style": "",
            "children": [
              "IPY_MODEL_27e583cb08d540de831ba7271b58a103",
              "IPY_MODEL_219a68fb5f5a4d19ab69b88aa4ddf64f",
              "IPY_MODEL_f2cab0019fa64aaa8de216baf78719bd"
            ],
            "layout": "IPY_MODEL_2ec8cf99c79d4858bed268507142172d"
          }
        },
        "27e583cb08d540de831ba7271b58a103": {
          "model_module": "@jupyter-widgets/controls",
          "model_name": "HTMLModel",
          "model_module_version": "1.5.0",
          "state": {
            "_dom_classes": [],
            "_model_module": "@jupyter-widgets/controls",
            "_model_module_version": "1.5.0",
            "_model_name": "HTMLModel",
            "_view_count": null,
            "_view_module": "@jupyter-widgets/controls",
            "_view_module_version": "1.5.0",
            "_view_name": "HTMLView",
            "description": "",
            "description_tooltip": null,
            "layout": "IPY_MODEL_db65177b6cb3447b9f0eed428bf938ba",
            "placeholder": "​",
            "style": "IPY_MODEL_9ab93cf034324a47b3560dc19c355a53",
            "value": "Generating test examples...:  36%"
          }
        },
        "219a68fb5f5a4d19ab69b88aa4ddf64f": {
          "model_module": "@jupyter-widgets/controls",
          "model_name": "FloatProgressModel",
          "model_module_version": "1.5.0",
          "state": {
            "_dom_classes": [],
            "_model_module": "@jupyter-widgets/controls",
            "_model_module_version": "1.5.0",
            "_model_name": "FloatProgressModel",
            "_view_count": null,
            "_view_module": "@jupyter-widgets/controls",
            "_view_module_version": "1.5.0",
            "_view_name": "ProgressView",
            "bar_style": "",
            "description": "",
            "description_tooltip": null,
            "layout": "IPY_MODEL_4122b1f896a34b3e838c4585839244b7",
            "max": 1803,
            "min": 0,
            "orientation": "horizontal",
            "style": "IPY_MODEL_953aa9a55e3b4dacaa3d2f5748cff8b3",
            "value": 1803
          }
        },
        "f2cab0019fa64aaa8de216baf78719bd": {
          "model_module": "@jupyter-widgets/controls",
          "model_name": "HTMLModel",
          "model_module_version": "1.5.0",
          "state": {
            "_dom_classes": [],
            "_model_module": "@jupyter-widgets/controls",
            "_model_module_version": "1.5.0",
            "_model_name": "HTMLModel",
            "_view_count": null,
            "_view_module": "@jupyter-widgets/controls",
            "_view_module_version": "1.5.0",
            "_view_name": "HTMLView",
            "description": "",
            "description_tooltip": null,
            "layout": "IPY_MODEL_270fa313e8c9402ca226ef022d3ef51e",
            "placeholder": "​",
            "style": "IPY_MODEL_94df07a2787340fd92982b3a13ceadba",
            "value": " 654/1803 [00:00&lt;00:00, 6539.37 examples/s]"
          }
        },
        "2ec8cf99c79d4858bed268507142172d": {
          "model_module": "@jupyter-widgets/base",
          "model_name": "LayoutModel",
          "model_module_version": "1.2.0",
          "state": {
            "_model_module": "@jupyter-widgets/base",
            "_model_module_version": "1.2.0",
            "_model_name": "LayoutModel",
            "_view_count": null,
            "_view_module": "@jupyter-widgets/base",
            "_view_module_version": "1.2.0",
            "_view_name": "LayoutView",
            "align_content": null,
            "align_items": null,
            "align_self": null,
            "border": null,
            "bottom": null,
            "display": null,
            "flex": null,
            "flex_flow": null,
            "grid_area": null,
            "grid_auto_columns": null,
            "grid_auto_flow": null,
            "grid_auto_rows": null,
            "grid_column": null,
            "grid_gap": null,
            "grid_row": null,
            "grid_template_areas": null,
            "grid_template_columns": null,
            "grid_template_rows": null,
            "height": null,
            "justify_content": null,
            "justify_items": null,
            "left": null,
            "margin": null,
            "max_height": null,
            "max_width": null,
            "min_height": null,
            "min_width": null,
            "object_fit": null,
            "object_position": null,
            "order": null,
            "overflow": null,
            "overflow_x": null,
            "overflow_y": null,
            "padding": null,
            "right": null,
            "top": null,
            "visibility": "hidden",
            "width": null
          }
        },
        "db65177b6cb3447b9f0eed428bf938ba": {
          "model_module": "@jupyter-widgets/base",
          "model_name": "LayoutModel",
          "model_module_version": "1.2.0",
          "state": {
            "_model_module": "@jupyter-widgets/base",
            "_model_module_version": "1.2.0",
            "_model_name": "LayoutModel",
            "_view_count": null,
            "_view_module": "@jupyter-widgets/base",
            "_view_module_version": "1.2.0",
            "_view_name": "LayoutView",
            "align_content": null,
            "align_items": null,
            "align_self": null,
            "border": null,
            "bottom": null,
            "display": null,
            "flex": null,
            "flex_flow": null,
            "grid_area": null,
            "grid_auto_columns": null,
            "grid_auto_flow": null,
            "grid_auto_rows": null,
            "grid_column": null,
            "grid_gap": null,
            "grid_row": null,
            "grid_template_areas": null,
            "grid_template_columns": null,
            "grid_template_rows": null,
            "height": null,
            "justify_content": null,
            "justify_items": null,
            "left": null,
            "margin": null,
            "max_height": null,
            "max_width": null,
            "min_height": null,
            "min_width": null,
            "object_fit": null,
            "object_position": null,
            "order": null,
            "overflow": null,
            "overflow_x": null,
            "overflow_y": null,
            "padding": null,
            "right": null,
            "top": null,
            "visibility": null,
            "width": null
          }
        },
        "9ab93cf034324a47b3560dc19c355a53": {
          "model_module": "@jupyter-widgets/controls",
          "model_name": "DescriptionStyleModel",
          "model_module_version": "1.5.0",
          "state": {
            "_model_module": "@jupyter-widgets/controls",
            "_model_module_version": "1.5.0",
            "_model_name": "DescriptionStyleModel",
            "_view_count": null,
            "_view_module": "@jupyter-widgets/base",
            "_view_module_version": "1.2.0",
            "_view_name": "StyleView",
            "description_width": ""
          }
        },
        "4122b1f896a34b3e838c4585839244b7": {
          "model_module": "@jupyter-widgets/base",
          "model_name": "LayoutModel",
          "model_module_version": "1.2.0",
          "state": {
            "_model_module": "@jupyter-widgets/base",
            "_model_module_version": "1.2.0",
            "_model_name": "LayoutModel",
            "_view_count": null,
            "_view_module": "@jupyter-widgets/base",
            "_view_module_version": "1.2.0",
            "_view_name": "LayoutView",
            "align_content": null,
            "align_items": null,
            "align_self": null,
            "border": null,
            "bottom": null,
            "display": null,
            "flex": null,
            "flex_flow": null,
            "grid_area": null,
            "grid_auto_columns": null,
            "grid_auto_flow": null,
            "grid_auto_rows": null,
            "grid_column": null,
            "grid_gap": null,
            "grid_row": null,
            "grid_template_areas": null,
            "grid_template_columns": null,
            "grid_template_rows": null,
            "height": null,
            "justify_content": null,
            "justify_items": null,
            "left": null,
            "margin": null,
            "max_height": null,
            "max_width": null,
            "min_height": null,
            "min_width": null,
            "object_fit": null,
            "object_position": null,
            "order": null,
            "overflow": null,
            "overflow_x": null,
            "overflow_y": null,
            "padding": null,
            "right": null,
            "top": null,
            "visibility": null,
            "width": null
          }
        },
        "953aa9a55e3b4dacaa3d2f5748cff8b3": {
          "model_module": "@jupyter-widgets/controls",
          "model_name": "ProgressStyleModel",
          "model_module_version": "1.5.0",
          "state": {
            "_model_module": "@jupyter-widgets/controls",
            "_model_module_version": "1.5.0",
            "_model_name": "ProgressStyleModel",
            "_view_count": null,
            "_view_module": "@jupyter-widgets/base",
            "_view_module_version": "1.2.0",
            "_view_name": "StyleView",
            "bar_color": null,
            "description_width": ""
          }
        },
        "270fa313e8c9402ca226ef022d3ef51e": {
          "model_module": "@jupyter-widgets/base",
          "model_name": "LayoutModel",
          "model_module_version": "1.2.0",
          "state": {
            "_model_module": "@jupyter-widgets/base",
            "_model_module_version": "1.2.0",
            "_model_name": "LayoutModel",
            "_view_count": null,
            "_view_module": "@jupyter-widgets/base",
            "_view_module_version": "1.2.0",
            "_view_name": "LayoutView",
            "align_content": null,
            "align_items": null,
            "align_self": null,
            "border": null,
            "bottom": null,
            "display": null,
            "flex": null,
            "flex_flow": null,
            "grid_area": null,
            "grid_auto_columns": null,
            "grid_auto_flow": null,
            "grid_auto_rows": null,
            "grid_column": null,
            "grid_gap": null,
            "grid_row": null,
            "grid_template_areas": null,
            "grid_template_columns": null,
            "grid_template_rows": null,
            "height": null,
            "justify_content": null,
            "justify_items": null,
            "left": null,
            "margin": null,
            "max_height": null,
            "max_width": null,
            "min_height": null,
            "min_width": null,
            "object_fit": null,
            "object_position": null,
            "order": null,
            "overflow": null,
            "overflow_x": null,
            "overflow_y": null,
            "padding": null,
            "right": null,
            "top": null,
            "visibility": null,
            "width": null
          }
        },
        "94df07a2787340fd92982b3a13ceadba": {
          "model_module": "@jupyter-widgets/controls",
          "model_name": "DescriptionStyleModel",
          "model_module_version": "1.5.0",
          "state": {
            "_model_module": "@jupyter-widgets/controls",
            "_model_module_version": "1.5.0",
            "_model_name": "DescriptionStyleModel",
            "_view_count": null,
            "_view_module": "@jupyter-widgets/base",
            "_view_module_version": "1.2.0",
            "_view_name": "StyleView",
            "description_width": ""
          }
        },
        "1ef970607a4d48cc96d1bb3c8289d6b4": {
          "model_module": "@jupyter-widgets/controls",
          "model_name": "HBoxModel",
          "model_module_version": "1.5.0",
          "state": {
            "_dom_classes": [],
            "_model_module": "@jupyter-widgets/controls",
            "_model_module_version": "1.5.0",
            "_model_name": "HBoxModel",
            "_view_count": null,
            "_view_module": "@jupyter-widgets/controls",
            "_view_module_version": "1.5.0",
            "_view_name": "HBoxView",
            "box_style": "",
            "children": [
              "IPY_MODEL_7d137ffcb1cb41dcb196d4db824098db",
              "IPY_MODEL_d65d84935a11425cafe16693cd0574ee",
              "IPY_MODEL_d04283059aea4708b0768f20d24a8336"
            ],
            "layout": "IPY_MODEL_69eac7dc715f4123965b9a6c2674dbc7"
          }
        },
        "7d137ffcb1cb41dcb196d4db824098db": {
          "model_module": "@jupyter-widgets/controls",
          "model_name": "HTMLModel",
          "model_module_version": "1.5.0",
          "state": {
            "_dom_classes": [],
            "_model_module": "@jupyter-widgets/controls",
            "_model_module_version": "1.5.0",
            "_model_name": "HTMLModel",
            "_view_count": null,
            "_view_module": "@jupyter-widgets/controls",
            "_view_module_version": "1.5.0",
            "_view_name": "HTMLView",
            "description": "",
            "description_tooltip": null,
            "layout": "IPY_MODEL_bed345b7f12e49968c266493b1a0def6",
            "placeholder": "​",
            "style": "IPY_MODEL_a18d9b3ef77d4bd59577ad845ae759d9",
            "value": "Shuffling /root/tensorflow_datasets/ted_hrlr_translate/pt_to_en/1.0.0.incompleteQT604Z/ted_hrlr_translate-test.tfrecord*...:   0%"
          }
        },
        "d65d84935a11425cafe16693cd0574ee": {
          "model_module": "@jupyter-widgets/controls",
          "model_name": "FloatProgressModel",
          "model_module_version": "1.5.0",
          "state": {
            "_dom_classes": [],
            "_model_module": "@jupyter-widgets/controls",
            "_model_module_version": "1.5.0",
            "_model_name": "FloatProgressModel",
            "_view_count": null,
            "_view_module": "@jupyter-widgets/controls",
            "_view_module_version": "1.5.0",
            "_view_name": "ProgressView",
            "bar_style": "",
            "description": "",
            "description_tooltip": null,
            "layout": "IPY_MODEL_900b57b5fb6f49f9ac9691a518909210",
            "max": 1803,
            "min": 0,
            "orientation": "horizontal",
            "style": "IPY_MODEL_08238c28840b42fd9161da8b214aec7b",
            "value": 1803
          }
        },
        "d04283059aea4708b0768f20d24a8336": {
          "model_module": "@jupyter-widgets/controls",
          "model_name": "HTMLModel",
          "model_module_version": "1.5.0",
          "state": {
            "_dom_classes": [],
            "_model_module": "@jupyter-widgets/controls",
            "_model_module_version": "1.5.0",
            "_model_name": "HTMLModel",
            "_view_count": null,
            "_view_module": "@jupyter-widgets/controls",
            "_view_module_version": "1.5.0",
            "_view_name": "HTMLView",
            "description": "",
            "description_tooltip": null,
            "layout": "IPY_MODEL_7409ebcf3de34acfae16323c414c2b11",
            "placeholder": "​",
            "style": "IPY_MODEL_2eaecbd444214f94948e0c43f415a34b",
            "value": " 0/1803 [00:00&lt;?, ? examples/s]"
          }
        },
        "69eac7dc715f4123965b9a6c2674dbc7": {
          "model_module": "@jupyter-widgets/base",
          "model_name": "LayoutModel",
          "model_module_version": "1.2.0",
          "state": {
            "_model_module": "@jupyter-widgets/base",
            "_model_module_version": "1.2.0",
            "_model_name": "LayoutModel",
            "_view_count": null,
            "_view_module": "@jupyter-widgets/base",
            "_view_module_version": "1.2.0",
            "_view_name": "LayoutView",
            "align_content": null,
            "align_items": null,
            "align_self": null,
            "border": null,
            "bottom": null,
            "display": null,
            "flex": null,
            "flex_flow": null,
            "grid_area": null,
            "grid_auto_columns": null,
            "grid_auto_flow": null,
            "grid_auto_rows": null,
            "grid_column": null,
            "grid_gap": null,
            "grid_row": null,
            "grid_template_areas": null,
            "grid_template_columns": null,
            "grid_template_rows": null,
            "height": null,
            "justify_content": null,
            "justify_items": null,
            "left": null,
            "margin": null,
            "max_height": null,
            "max_width": null,
            "min_height": null,
            "min_width": null,
            "object_fit": null,
            "object_position": null,
            "order": null,
            "overflow": null,
            "overflow_x": null,
            "overflow_y": null,
            "padding": null,
            "right": null,
            "top": null,
            "visibility": "hidden",
            "width": null
          }
        },
        "bed345b7f12e49968c266493b1a0def6": {
          "model_module": "@jupyter-widgets/base",
          "model_name": "LayoutModel",
          "model_module_version": "1.2.0",
          "state": {
            "_model_module": "@jupyter-widgets/base",
            "_model_module_version": "1.2.0",
            "_model_name": "LayoutModel",
            "_view_count": null,
            "_view_module": "@jupyter-widgets/base",
            "_view_module_version": "1.2.0",
            "_view_name": "LayoutView",
            "align_content": null,
            "align_items": null,
            "align_self": null,
            "border": null,
            "bottom": null,
            "display": null,
            "flex": null,
            "flex_flow": null,
            "grid_area": null,
            "grid_auto_columns": null,
            "grid_auto_flow": null,
            "grid_auto_rows": null,
            "grid_column": null,
            "grid_gap": null,
            "grid_row": null,
            "grid_template_areas": null,
            "grid_template_columns": null,
            "grid_template_rows": null,
            "height": null,
            "justify_content": null,
            "justify_items": null,
            "left": null,
            "margin": null,
            "max_height": null,
            "max_width": null,
            "min_height": null,
            "min_width": null,
            "object_fit": null,
            "object_position": null,
            "order": null,
            "overflow": null,
            "overflow_x": null,
            "overflow_y": null,
            "padding": null,
            "right": null,
            "top": null,
            "visibility": null,
            "width": null
          }
        },
        "a18d9b3ef77d4bd59577ad845ae759d9": {
          "model_module": "@jupyter-widgets/controls",
          "model_name": "DescriptionStyleModel",
          "model_module_version": "1.5.0",
          "state": {
            "_model_module": "@jupyter-widgets/controls",
            "_model_module_version": "1.5.0",
            "_model_name": "DescriptionStyleModel",
            "_view_count": null,
            "_view_module": "@jupyter-widgets/base",
            "_view_module_version": "1.2.0",
            "_view_name": "StyleView",
            "description_width": ""
          }
        },
        "900b57b5fb6f49f9ac9691a518909210": {
          "model_module": "@jupyter-widgets/base",
          "model_name": "LayoutModel",
          "model_module_version": "1.2.0",
          "state": {
            "_model_module": "@jupyter-widgets/base",
            "_model_module_version": "1.2.0",
            "_model_name": "LayoutModel",
            "_view_count": null,
            "_view_module": "@jupyter-widgets/base",
            "_view_module_version": "1.2.0",
            "_view_name": "LayoutView",
            "align_content": null,
            "align_items": null,
            "align_self": null,
            "border": null,
            "bottom": null,
            "display": null,
            "flex": null,
            "flex_flow": null,
            "grid_area": null,
            "grid_auto_columns": null,
            "grid_auto_flow": null,
            "grid_auto_rows": null,
            "grid_column": null,
            "grid_gap": null,
            "grid_row": null,
            "grid_template_areas": null,
            "grid_template_columns": null,
            "grid_template_rows": null,
            "height": null,
            "justify_content": null,
            "justify_items": null,
            "left": null,
            "margin": null,
            "max_height": null,
            "max_width": null,
            "min_height": null,
            "min_width": null,
            "object_fit": null,
            "object_position": null,
            "order": null,
            "overflow": null,
            "overflow_x": null,
            "overflow_y": null,
            "padding": null,
            "right": null,
            "top": null,
            "visibility": null,
            "width": null
          }
        },
        "08238c28840b42fd9161da8b214aec7b": {
          "model_module": "@jupyter-widgets/controls",
          "model_name": "ProgressStyleModel",
          "model_module_version": "1.5.0",
          "state": {
            "_model_module": "@jupyter-widgets/controls",
            "_model_module_version": "1.5.0",
            "_model_name": "ProgressStyleModel",
            "_view_count": null,
            "_view_module": "@jupyter-widgets/base",
            "_view_module_version": "1.2.0",
            "_view_name": "StyleView",
            "bar_color": null,
            "description_width": ""
          }
        },
        "7409ebcf3de34acfae16323c414c2b11": {
          "model_module": "@jupyter-widgets/base",
          "model_name": "LayoutModel",
          "model_module_version": "1.2.0",
          "state": {
            "_model_module": "@jupyter-widgets/base",
            "_model_module_version": "1.2.0",
            "_model_name": "LayoutModel",
            "_view_count": null,
            "_view_module": "@jupyter-widgets/base",
            "_view_module_version": "1.2.0",
            "_view_name": "LayoutView",
            "align_content": null,
            "align_items": null,
            "align_self": null,
            "border": null,
            "bottom": null,
            "display": null,
            "flex": null,
            "flex_flow": null,
            "grid_area": null,
            "grid_auto_columns": null,
            "grid_auto_flow": null,
            "grid_auto_rows": null,
            "grid_column": null,
            "grid_gap": null,
            "grid_row": null,
            "grid_template_areas": null,
            "grid_template_columns": null,
            "grid_template_rows": null,
            "height": null,
            "justify_content": null,
            "justify_items": null,
            "left": null,
            "margin": null,
            "max_height": null,
            "max_width": null,
            "min_height": null,
            "min_width": null,
            "object_fit": null,
            "object_position": null,
            "order": null,
            "overflow": null,
            "overflow_x": null,
            "overflow_y": null,
            "padding": null,
            "right": null,
            "top": null,
            "visibility": null,
            "width": null
          }
        },
        "2eaecbd444214f94948e0c43f415a34b": {
          "model_module": "@jupyter-widgets/controls",
          "model_name": "DescriptionStyleModel",
          "model_module_version": "1.5.0",
          "state": {
            "_model_module": "@jupyter-widgets/controls",
            "_model_module_version": "1.5.0",
            "_model_name": "DescriptionStyleModel",
            "_view_count": null,
            "_view_module": "@jupyter-widgets/base",
            "_view_module_version": "1.2.0",
            "_view_name": "StyleView",
            "description_width": ""
          }
        }
      }
    },
    "accelerator": "GPU",
    "gpuClass": "standard"
  },
  "nbformat": 4,
  "nbformat_minor": 5
}